{
 "cells": [
  {
   "cell_type": "code",
   "execution_count": 1,
   "id": "dd76f2cf",
   "metadata": {},
   "outputs": [
    {
     "data": {
      "text/html": [
       "<div>\n",
       "<style scoped>\n",
       "    .dataframe tbody tr th:only-of-type {\n",
       "        vertical-align: middle;\n",
       "    }\n",
       "\n",
       "    .dataframe tbody tr th {\n",
       "        vertical-align: top;\n",
       "    }\n",
       "\n",
       "    .dataframe thead th {\n",
       "        text-align: right;\n",
       "    }\n",
       "</style>\n",
       "<table border=\"1\" class=\"dataframe\">\n",
       "  <thead>\n",
       "    <tr style=\"text-align: right;\">\n",
       "      <th></th>\n",
       "      <th>case_id</th>\n",
       "      <th>case_outcome</th>\n",
       "      <th>case_title</th>\n",
       "      <th>case_text</th>\n",
       "    </tr>\n",
       "  </thead>\n",
       "  <tbody>\n",
       "    <tr>\n",
       "      <th>0</th>\n",
       "      <td>Case1</td>\n",
       "      <td>cited</td>\n",
       "      <td>Alpine Hardwood (Aust) Pty Ltd v Hardys Pty Lt...</td>\n",
       "      <td>Ordinarily that discretion will be exercised s...</td>\n",
       "    </tr>\n",
       "    <tr>\n",
       "      <th>1</th>\n",
       "      <td>Case2</td>\n",
       "      <td>cited</td>\n",
       "      <td>Black v Lipovac [1998] FCA 699 ; (1998) 217 AL...</td>\n",
       "      <td>The general principles governing the exercise ...</td>\n",
       "    </tr>\n",
       "    <tr>\n",
       "      <th>2</th>\n",
       "      <td>Case3</td>\n",
       "      <td>cited</td>\n",
       "      <td>Colgate Palmolive Co v Cussons Pty Ltd (1993) ...</td>\n",
       "      <td>Ordinarily that discretion will be exercised s...</td>\n",
       "    </tr>\n",
       "    <tr>\n",
       "      <th>3</th>\n",
       "      <td>Case4</td>\n",
       "      <td>cited</td>\n",
       "      <td>Dais Studio Pty Ltd v Bullett Creative Pty Ltd...</td>\n",
       "      <td>The general principles governing the exercise ...</td>\n",
       "    </tr>\n",
       "    <tr>\n",
       "      <th>4</th>\n",
       "      <td>Case5</td>\n",
       "      <td>cited</td>\n",
       "      <td>Dr Martens Australia Pty Ltd v Figgins Holding...</td>\n",
       "      <td>The preceding general principles inform the ex...</td>\n",
       "    </tr>\n",
       "  </tbody>\n",
       "</table>\n",
       "</div>"
      ],
      "text/plain": [
       "  case_id case_outcome                                         case_title  \\\n",
       "0   Case1        cited  Alpine Hardwood (Aust) Pty Ltd v Hardys Pty Lt...   \n",
       "1   Case2        cited  Black v Lipovac [1998] FCA 699 ; (1998) 217 AL...   \n",
       "2   Case3        cited  Colgate Palmolive Co v Cussons Pty Ltd (1993) ...   \n",
       "3   Case4        cited  Dais Studio Pty Ltd v Bullett Creative Pty Ltd...   \n",
       "4   Case5        cited  Dr Martens Australia Pty Ltd v Figgins Holding...   \n",
       "\n",
       "                                           case_text  \n",
       "0  Ordinarily that discretion will be exercised s...  \n",
       "1  The general principles governing the exercise ...  \n",
       "2  Ordinarily that discretion will be exercised s...  \n",
       "3  The general principles governing the exercise ...  \n",
       "4  The preceding general principles inform the ex...  "
      ]
     },
     "execution_count": 1,
     "metadata": {},
     "output_type": "execute_result"
    }
   ],
   "source": [
    "import pandas as pd\n",
    "\n",
    "#Loading Dataset\n",
    "df = pd.read_csv(\"./datasets/legal_text_classification.csv\")\n",
    "df.head(5)"
   ]
  },
  {
   "cell_type": "code",
   "execution_count": 2,
   "id": "eed41938",
   "metadata": {},
   "outputs": [
    {
     "name": "stdout",
     "output_type": "stream",
     "text": [
      "<class 'pandas.core.frame.DataFrame'>\n",
      "RangeIndex: 24985 entries, 0 to 24984\n",
      "Data columns (total 4 columns):\n",
      " #   Column        Non-Null Count  Dtype \n",
      "---  ------        --------------  ----- \n",
      " 0   case_id       24985 non-null  object\n",
      " 1   case_outcome  24985 non-null  object\n",
      " 2   case_title    24985 non-null  object\n",
      " 3   case_text     24809 non-null  object\n",
      "dtypes: object(4)\n",
      "memory usage: 780.9+ KB\n"
     ]
    },
    {
     "data": {
      "text/html": [
       "<div>\n",
       "<style scoped>\n",
       "    .dataframe tbody tr th:only-of-type {\n",
       "        vertical-align: middle;\n",
       "    }\n",
       "\n",
       "    .dataframe tbody tr th {\n",
       "        vertical-align: top;\n",
       "    }\n",
       "\n",
       "    .dataframe thead th {\n",
       "        text-align: right;\n",
       "    }\n",
       "</style>\n",
       "<table border=\"1\" class=\"dataframe\">\n",
       "  <thead>\n",
       "    <tr style=\"text-align: right;\">\n",
       "      <th></th>\n",
       "      <th>case_id</th>\n",
       "      <th>case_outcome</th>\n",
       "      <th>case_title</th>\n",
       "      <th>case_text</th>\n",
       "    </tr>\n",
       "  </thead>\n",
       "  <tbody>\n",
       "    <tr>\n",
       "      <th>count</th>\n",
       "      <td>24985</td>\n",
       "      <td>24985</td>\n",
       "      <td>24985</td>\n",
       "      <td>24809</td>\n",
       "    </tr>\n",
       "    <tr>\n",
       "      <th>unique</th>\n",
       "      <td>24985</td>\n",
       "      <td>10</td>\n",
       "      <td>18581</td>\n",
       "      <td>17920</td>\n",
       "    </tr>\n",
       "    <tr>\n",
       "      <th>top</th>\n",
       "      <td>Case1</td>\n",
       "      <td>cited</td>\n",
       "      <td>Minister for Immigration and Ethnic Affairs v ...</td>\n",
       "      <td>submitted that this Court should hold that the...</td>\n",
       "    </tr>\n",
       "    <tr>\n",
       "      <th>freq</th>\n",
       "      <td>1</td>\n",
       "      <td>12219</td>\n",
       "      <td>70</td>\n",
       "      <td>42</td>\n",
       "    </tr>\n",
       "  </tbody>\n",
       "</table>\n",
       "</div>"
      ],
      "text/plain": [
       "       case_id case_outcome  \\\n",
       "count    24985        24985   \n",
       "unique   24985           10   \n",
       "top      Case1        cited   \n",
       "freq         1        12219   \n",
       "\n",
       "                                               case_title  \\\n",
       "count                                               24985   \n",
       "unique                                              18581   \n",
       "top     Minister for Immigration and Ethnic Affairs v ...   \n",
       "freq                                                   70   \n",
       "\n",
       "                                                case_text  \n",
       "count                                               24809  \n",
       "unique                                              17920  \n",
       "top     submitted that this Court should hold that the...  \n",
       "freq                                                   42  "
      ]
     },
     "execution_count": 2,
     "metadata": {},
     "output_type": "execute_result"
    }
   ],
   "source": [
    "df.info()\n",
    "df.describe()"
   ]
  },
  {
   "cell_type": "code",
   "execution_count": 3,
   "id": "a4e5cbbb",
   "metadata": {},
   "outputs": [
    {
     "name": "stdout",
     "output_type": "stream",
     "text": [
      "<class 'pandas.core.frame.DataFrame'>\n",
      "Int64Index: 24809 entries, 0 to 24984\n",
      "Data columns (total 4 columns):\n",
      " #   Column        Non-Null Count  Dtype \n",
      "---  ------        --------------  ----- \n",
      " 0   case_id       24809 non-null  object\n",
      " 1   case_outcome  24809 non-null  object\n",
      " 2   case_title    24809 non-null  object\n",
      " 3   case_text     24809 non-null  object\n",
      "dtypes: object(4)\n",
      "memory usage: 969.1+ KB\n",
      "None\n"
     ]
    }
   ],
   "source": [
    "# Drop rows with null values in 'case_text'\n",
    "df = df.dropna(subset=['case_text'])\n",
    "print(df.info())"
   ]
  },
  {
   "cell_type": "code",
   "execution_count": 4,
   "id": "be612c4b",
   "metadata": {},
   "outputs": [
    {
     "name": "stdout",
     "output_type": "stream",
     "text": [
      "cited            12110\n",
      "referred to       4363\n",
      "applied           2438\n",
      "followed          2252\n",
      "considered        1699\n",
      "discussed         1018\n",
      "distinguished      603\n",
      "related            112\n",
      "approved           108\n",
      "affirmed           106\n",
      "Name: case_outcome, dtype: int64\n"
     ]
    }
   ],
   "source": [
    "#Check if there are balenced classes\n",
    "number_classes = df[\"case_outcome\"].value_counts()\n",
    "print(number_classes)"
   ]
  },
  {
   "cell_type": "code",
   "execution_count": 5,
   "id": "ff6f8910",
   "metadata": {},
   "outputs": [
    {
     "name": "stdout",
     "output_type": "stream",
     "text": [
      "count    24809.000000\n",
      "mean       454.909791\n",
      "std       1143.224035\n",
      "min         17.000000\n",
      "25%        147.000000\n",
      "50%        244.000000\n",
      "75%        436.000000\n",
      "80%        510.000000\n",
      "90%        792.000000\n",
      "95%       1192.600000\n",
      "99%       3386.840000\n",
      "max      22466.000000\n",
      "Name: case_text, dtype: float64\n",
      "<class 'pandas.core.series.Series'>\n",
      "Int64Index: 24809 entries, 0 to 24984\n",
      "Series name: case_text\n",
      "Non-Null Count  Dtype\n",
      "--------------  -----\n",
      "24809 non-null  int64\n",
      "dtypes: int64(1)\n",
      "memory usage: 387.6 KB\n",
      "None\n"
     ]
    }
   ],
   "source": [
    "#Checking Case_text number of TOKEN lenght\n",
    "\n",
    "# Split the text samples into tokens and calculate the number of tokens in each text\n",
    "num_token = df['case_text'].str.split()\n",
    "token_count = num_token.apply(lambda x: len(x))\n",
    "\n",
    "print(token_count.describe(percentiles=[0.25, 0.5, 0.75, 0.80, 0.90, 0.95, 0.99]))\n",
    "print(token_count.info())\n"
   ]
  },
  {
   "cell_type": "code",
   "execution_count": 6,
   "id": "4d0660e3",
   "metadata": {},
   "outputs": [
    {
     "name": "stdout",
     "output_type": "stream",
     "text": [
      "maximum value of tokens for a single sample 22466\n",
      "id of maximum value for sample 14534\n",
      "\n"
     ]
    }
   ],
   "source": [
    "max_token = token_count.max()\n",
    "max_token_id = token_count.idxmax()\n",
    "print(f'maximum value of tokens for a single sample {max_token}')\n",
    "print(f'id of maximum value for sample {max_token_id}\\n')\n",
    "\n",
    "#maximum lenght case_text sample\n",
    "#print(df['case_text'].loc[max_token_id])"
   ]
  },
  {
   "cell_type": "code",
   "execution_count": 7,
   "id": "376de852",
   "metadata": {},
   "outputs": [
    {
     "name": "stdout",
     "output_type": "stream",
     "text": [
      "all samples equal or under 510 token(19853, 4)\n",
      "all samples over 510 token(4956, 4)\n",
      "all samples (24809, 4)\n",
      "\n",
      " class distribution in data with token equal or under 510:\n",
      " cited            10363\n",
      "referred to       3712\n",
      "followed          1674\n",
      "applied           1670\n",
      "considered        1137\n",
      "discussed          619\n",
      "distinguished      427\n",
      "related             86\n",
      "affirmed            85\n",
      "approved            80\n",
      "Name: case_outcome, dtype: int64\n",
      "\n",
      " class distribution in data with token over 510:\n",
      " cited            1747\n",
      "applied           768\n",
      "referred to       651\n",
      "followed          578\n",
      "considered        562\n",
      "discussed         399\n",
      "distinguished     176\n",
      "approved           28\n",
      "related            26\n",
      "affirmed           21\n",
      "Name: case_outcome, dtype: int64\n"
     ]
    }
   ],
   "source": [
    "#condition for selection\n",
    "X = df['case_text']\n",
    "under_510 = X[token_count <= 510].index\n",
    "over_510  = X[token_count > 510].index\n",
    "\n",
    "#removing case_text longer tha 510 token\n",
    "df_train_temp = df.loc[under_510]\n",
    "df_test_temp = df.loc[over_510]\n",
    "\n",
    "print(f'all samples equal or under 510 token{df_train_temp.shape}')\n",
    "print(f'all samples over 510 token{df_test_temp.shape}')\n",
    "print(f'all samples {df.shape}')\n",
    "\n",
    "# check  token statistics\n",
    "#check_num = X_train_temp.str.split()\n",
    "#token_check = check_num.apply(lambda x: len(x))\n",
    "#print(token_check.describe())\n",
    "\n",
    "under_510_outcome_dist = df_train_temp[\"case_outcome\"].value_counts()\n",
    "over_510_outcome_dist = df_test_temp[\"case_outcome\"].value_counts()\n",
    "\n",
    "#check under_510 and over_510 token respect to case_outcome distribution\n",
    "print(f'\\n class distribution in data with token equal or under 510:\\n {under_510_outcome_dist}')\n",
    "print(f'\\n class distribution in data with token over 510:\\n {over_510_outcome_dist}')"
   ]
  },
  {
   "cell_type": "code",
   "execution_count": 8,
   "id": "ccdd2f57",
   "metadata": {},
   "outputs": [
    {
     "data": {
      "image/png": "[encoded data removed]",
      "text/plain": [
       "<Figure size 640x480 with 1 Axes>"
      ]
     },
     "metadata": {},
     "output_type": "display_data"
    },
    {
     "data": {
      "image/png": "[encoded data removed]",
      "text/plain": [
       "<Figure size 640x480 with 1 Axes>"
      ]
     },
     "metadata": {},
     "output_type": "display_data"
    }
   ],
   "source": [
    "import matplotlib.pyplot as plt\n",
    "\n",
    "#visualazing distributions\n",
    "\n",
    "#under_510\n",
    "# Create the bar chart\n",
    "under_510_outcome_dist.plot(kind='bar', x='Category', y='Values', legend=False)\n",
    "\n",
    "# Add labels and title\n",
    "plt.xlabel('Categories')\n",
    "plt.ylabel('Values counts')\n",
    "plt.title('Distribution of outcome classes under 510 token')\n",
    "\n",
    "# Show the plot\n",
    "plt.show()\n",
    "\n",
    "#over_510\n",
    "# Create the bar chart\n",
    "over_510_outcome_dist.plot(kind='bar', x='Category', y='Values', legend=False)\n",
    "\n",
    "# Add labels and title\n",
    "plt.xlabel('Categories')\n",
    "plt.ylabel('Values counts')\n",
    "plt.title('Distribution of outcome classes over 510 token')\n",
    "\n",
    "# Show the plot\n",
    "plt.show()\n",
    "\n",
    "# 1 approach, i will train on token under 510 and i will test on token over 510\n"
   ]
  },
  {
   "cell_type": "code",
   "execution_count": 9,
   "id": "2a4f39f2",
   "metadata": {},
   "outputs": [
    {
     "name": "stdout",
     "output_type": "stream",
     "text": [
      "   label                                               text\n",
      "0  cited  Ordinarily that discretion will be exercised s...\n",
      "1  cited  The general principles governing the exercise ...\n",
      "2  cited  Ordinarily that discretion will be exercised s...\n",
      "3  cited  The general principles governing the exercise ...\n",
      "4  cited  The preceding general principles inform the ex...\n",
      "          label                                               text\n",
      "7         cited  On the question of the level of unreasonablene...\n",
      "15     followed  None of this is to suggest that the Deputy Com...\n",
      "18  referred to  am satisfied that the finding of the third Tri...\n",
      "33        cited  It is not a necessary consequence of an order ...\n",
      "34   considered  In Australian Securities and Investments Commi...\n"
     ]
    }
   ],
   "source": [
    "df_train_temp = df_train_temp.drop(columns =['case_id', 'case_title'])\n",
    "df_train_temp.rename(columns={\"case_text\":\"text\", \"case_outcome\":\"label\"}, inplace= True)\n",
    "print(df_train_temp.head(5))\n",
    "\n",
    "df_test_temp = df_test_temp.drop(columns =['case_id', 'case_title'])\n",
    "df_test_temp.rename(columns={\"case_text\":\"text\", \"case_outcome\":\"label\"}, inplace= True)\n",
    "print(df_test_temp.head(5))"
   ]
  },
  {
   "cell_type": "code",
   "execution_count": 10,
   "id": "476c8ed4",
   "metadata": {},
   "outputs": [
    {
     "name": "stdout",
     "output_type": "stream",
     "text": [
      "DatasetDict({\n",
      "    train: Dataset({\n",
      "        features: ['label', 'text', '__index_level_0__'],\n",
      "        num_rows: 15882\n",
      "    })\n",
      "    test: Dataset({\n",
      "        features: ['label', 'text', '__index_level_0__'],\n",
      "        num_rows: 3971\n",
      "    })\n",
      "})\n",
      "Dataset({\n",
      "    features: ['label', 'text', '__index_level_0__'],\n",
      "    num_rows: 15882\n",
      "})\n"
     ]
    }
   ],
   "source": [
    "#splitting in training and test set\n",
    "from datasets import Dataset, ClassLabel\n",
    "\n",
    "# Convert the DataFrame into a Hugging Face Dataset\n",
    "train_dataset = Dataset.from_pandas(df_train_temp)\n",
    "test_dataset = Dataset.from_pandas(df_test_temp)\n",
    "\n",
    "# Dividing in train and test\n",
    "train_valid = train_dataset.train_test_split(test_size=0.2)\n",
    "print(train_valid)\n",
    "train_valid.set_format(\"pt\")\n",
    "\n",
    "train = train_valid[\"train\"]\n",
    "valid = train_valid[\"test\"]\n",
    "print(train)\n",
    "\n"
   ]
  },
  {
   "cell_type": "code",
   "execution_count": 11,
   "id": "8979c381",
   "metadata": {},
   "outputs": [],
   "source": [
    "import time\n",
    "from transformers import BertForSequenceClassification, BertTokenizer\n",
    "import torch\n",
    "from transformers import TrainingArguments, Trainer, logging\n",
    "from accelerate import Accelerator\n",
    "from sklearn.metrics import f1_score"
   ]
  },
  {
   "cell_type": "code",
   "execution_count": 12,
   "id": "ee70dee7",
   "metadata": {},
   "outputs": [],
   "source": [
    "#time and GPU statistics\n",
    "from pynvml import *\n",
    "\n",
    "def print_gpu_utilization():\n",
    "    nvmlInit()\n",
    "    handle = nvmlDeviceGetHandleByIndex(0)\n",
    "    info = nvmlDeviceGetMemoryInfo(handle)\n",
    "    print(f\"GPU memory occupied: {info.used//1024**2} MB.\")\n",
    "\n",
    "\n",
    "def print_summary(result):\n",
    "    print(f\"Time: {result.metrics['train_runtime']:.2f}\")\n",
    "    print(f\"Samples/second: {result.metrics['train_samples_per_second']:.2f}\")\n",
    "    print_gpu_utilization()\n"
   ]
  },
  {
   "cell_type": "code",
   "execution_count": 13,
   "id": "ed54727d",
   "metadata": {},
   "outputs": [],
   "source": [
    "def compute_metrics(pred):\n",
    "    labels = pred.label_ids\n",
    "    preds = pred.predictions.argmax(-1)\n",
    "    f1 = f1_score(labels, preds, average=\"macro\")\n",
    "    return {\"f1\": f1}\n",
    "\n",
    "def legal_bert_textclf_train(train_data, valid_data):\n",
    "    \n",
    "    #default arguments for training\n",
    "    default_args = {\n",
    "        \"output_dir\": \"tmp\",\n",
    "        \"evaluation_strategy\": \"steps\",\n",
    "        \"num_train_epochs\": 1,\n",
    "        \"log_level\": \"error\",\n",
    "        \"report_to\": \"none\",\n",
    "    }\n",
    "    \n",
    "    # Transformer settings\n",
    "    device = torch.device(\"cuda\" if torch.cuda.is_available() else \"cpu\")\n",
    "    print(f'GPU on: {torch.cuda.is_available()}')\n",
    "    model_ckpt= 'nlpaueb/bert-base-uncased-eurlex'\n",
    "    \n",
    "    # Get the number of unique labels, pretrained model anf device\n",
    "    labels_list = df_train_temp[\"label\"].unique().tolist()\n",
    "    \n",
    "    # Loading model and tokenaizer\n",
    "    tokenizer = BertTokenizer.from_pretrained(model_ckpt)\n",
    "    model = BertForSequenceClassification.from_pretrained(model_ckpt, num_labels = len(labels_list)).to(device)\n",
    "    \n",
    "    \n",
    "\n",
    "    \n",
    "    #tokenizing samples\n",
    "    def tokenization(sample):\n",
    "        # Obtain unique label\n",
    "        \n",
    "        #tokenize text\n",
    "        tokenized_sample = tokenizer(sample['text'], padding=True, truncation=True, max_length=512)\n",
    "        \n",
    "        #encode label\n",
    "        labels = ClassLabel(names=labels_list)\n",
    "        tokenized_sample[\"label\"] = labels.str2int(sample['label'])\n",
    "        return tokenized_sample\n",
    "    \n",
    "    \n",
    "    train_token = train_data.map(tokenization, batched=True)\n",
    "    eval_token  = valid_data.map(tokenization, batched= True)\n",
    "    \n",
    "    # Training\n",
    "    logging.set_verbosity_error()\n",
    "\n",
    "    training_args = TrainingArguments(per_device_train_batch_size=4, **default_args)\n",
    "    trainer = Trainer(model=model, args=training_args, train_dataset=train_token, eval_dataset=eval_token, compute_metrics=compute_metrics)\n",
    "    result = trainer.train()\n",
    "    \n",
    "    # Saving Model\n",
    "    model_name = model_ckpt.replace(\"/\", \"_\")\n",
    "    pt_save_directory = f\"./models/{model_name}\"\n",
    "    model.save_pretrained(pt_save_directory)\n",
    "    \n",
    "    #print model GPU summary\n",
    "    print_summary(result)\n",
    "    \n",
    "    return model_ckpt.replace(\"/\", \"_\"), labels_list"
   ]
  },
  {
   "cell_type": "code",
   "execution_count": 14,
   "id": "26a82fbc",
   "metadata": {},
   "outputs": [
    {
     "name": "stdout",
     "output_type": "stream",
     "text": [
      "GPU on: True\n"
     ]
    },
    {
     "name": "stderr",
     "output_type": "stream",
     "text": [
      "Some weights of BertForSequenceClassification were not initialized from the model checkpoint at nlpaueb/bert-base-uncased-eurlex and are newly initialized: ['classifier.weight', 'classifier.bias']\n",
      "You should probably TRAIN this model on a down-stream task to be able to use it for predictions and inference.\n"
     ]
    },
    {
     "data": {
      "application/vnd.jupyter.widget-view+json": {
       "model_id": "",
       "version_major": 2,
       "version_minor": 0
      },
      "text/plain": [
       "Map:   0%|          | 0/15882 [00:00<?, ? examples/s]"
      ]
     },
     "metadata": {},
     "output_type": "display_data"
    },
    {
     "data": {
      "application/vnd.jupyter.widget-view+json": {
       "model_id": "",
       "version_major": 2,
       "version_minor": 0
      },
      "text/plain": [
       "Map:   0%|          | 0/3971 [00:00<?, ? examples/s]"
      ]
     },
     "metadata": {},
     "output_type": "display_data"
    },
    {
     "name": "stderr",
     "output_type": "stream",
     "text": [
      "C:\\ProgramData\\anaconda3\\lib\\site-packages\\transformers\\optimization.py:411: FutureWarning: This implementation of AdamW is deprecated and will be removed in a future version. Use the PyTorch implementation torch.optim.AdamW instead, or set `no_deprecation_warning=True` to disable this warning\n",
      "  warnings.warn(\n"
     ]
    },
    {
     "name": "stdout",
     "output_type": "stream",
     "text": [
      "{'loss': 1.5382, 'learning_rate': 4.370435658524301e-05, 'epoch': 0.13}\n",
      "{'eval_loss': 1.5401450395584106, 'eval_f1': 0.06822631491621038, 'eval_runtime': 76.9225, 'eval_samples_per_second': 51.623, 'eval_steps_per_second': 6.461, 'epoch': 0.13}\n",
      "{'loss': 1.5283, 'learning_rate': 3.740871317048602e-05, 'epoch': 0.25}\n",
      "{'eval_loss': 1.5284371376037598, 'eval_f1': 0.06822631491621038, 'eval_runtime': 76.118, 'eval_samples_per_second': 52.169, 'eval_steps_per_second': 6.529, 'epoch': 0.25}\n",
      "{'loss': 1.5045, 'learning_rate': 3.111306975572904e-05, 'epoch': 0.38}\n",
      "{'eval_loss': 1.5424306392669678, 'eval_f1': 0.06822631491621038, 'eval_runtime': 76.1308, 'eval_samples_per_second': 52.16, 'eval_steps_per_second': 6.528, 'epoch': 0.38}\n",
      "{'loss': 1.5253, 'learning_rate': 2.481742634097205e-05, 'epoch': 0.5}\n",
      "{'eval_loss': 1.5271141529083252, 'eval_f1': 0.06822631491621038, 'eval_runtime': 76.1723, 'eval_samples_per_second': 52.132, 'eval_steps_per_second': 6.525, 'epoch': 0.5}\n",
      "{'loss': 1.4616, 'learning_rate': 1.8521782926215058e-05, 'epoch': 0.63}\n",
      "{'eval_loss': 1.5317784547805786, 'eval_f1': 0.06822631491621038, 'eval_runtime': 76.388, 'eval_samples_per_second': 51.985, 'eval_steps_per_second': 6.506, 'epoch': 0.63}\n",
      "{'loss': 1.5406, 'learning_rate': 1.2226139511458072e-05, 'epoch': 0.76}\n",
      "{'eval_loss': 1.5234037637710571, 'eval_f1': 0.06822631491621038, 'eval_runtime': 76.4116, 'eval_samples_per_second': 51.969, 'eval_steps_per_second': 6.504, 'epoch': 0.76}\n",
      "{'loss': 1.4713, 'learning_rate': 5.930496096701083e-06, 'epoch': 0.88}\n",
      "{'eval_loss': 1.5277241468429565, 'eval_f1': 0.06822631491621038, 'eval_runtime': 76.2055, 'eval_samples_per_second': 52.109, 'eval_steps_per_second': 6.522, 'epoch': 0.88}\n",
      "{'train_runtime': 1577.3481, 'train_samples_per_second': 10.069, 'train_steps_per_second': 2.518, 'train_loss': 1.5088345891010608, 'epoch': 1.0}\n",
      "Time: 1577.35\n",
      "Samples/second: 10.07\n",
      "GPU memory occupied: 5423 MB.\n",
      "Execution Time: 1664.7790942192078 seconds\n"
     ]
    }
   ],
   "source": [
    "# Record the start time\n",
    "start_time = time.time()\n",
    "\n",
    "# Call your function\n",
    "file, labels_list = legal_bert_textclf_train(train, valid)\n",
    "\n",
    "# Record the end time\n",
    "end_time = time.time()\n",
    "\n",
    "# Calculate the execution time\n",
    "execution_time = end_time - start_time\n",
    "\n",
    "file_path = f'./models/{file}.txt'  # Replace with the path to your desired file\n",
    "with open(file_path, 'w') as file:\n",
    "    # Write data to the file\n",
    "    file.write(f\"{file:}\\n\")\n",
    "    file.write(f\"Execution Time: {execution_time} seconds\\n\")\n",
    "    file.write(f\"List of all Labels: {labels_list}\\n\")\n",
    "\n",
    "print(\"Execution Time:\", execution_time, \"seconds\")"
   ]
  },
  {
   "cell_type": "code",
   "execution_count": 24,
   "id": "5ced9f01",
   "metadata": {},
   "outputs": [],
   "source": [
    "import optuna"
   ]
  },
  {
   "cell_type": "code",
   "execution_count": 26,
   "id": "201b75cc",
   "metadata": {},
   "outputs": [
    {
     "name": "stdout",
     "output_type": "stream",
     "text": [
      "GPU on: True\n"
     ]
    },
    {
     "data": {
      "application/vnd.jupyter.widget-view+json": {
       "model_id": "",
       "version_major": 2,
       "version_minor": 0
      },
      "text/plain": [
       "Map:   0%|          | 0/15882 [00:00<?, ? examples/s]"
      ]
     },
     "metadata": {},
     "output_type": "display_data"
    },
    {
     "data": {
      "application/vnd.jupyter.widget-view+json": {
       "model_id": "",
       "version_major": 2,
       "version_minor": 0
      },
      "text/plain": [
       "Map:   0%|          | 0/3971 [00:00<?, ? examples/s]"
      ]
     },
     "metadata": {},
     "output_type": "display_data"
    },
    {
     "name": "stdout",
     "output_type": "stream",
     "text": [
      "GPU on: True\n"
     ]
    },
    {
     "name": "stderr",
     "output_type": "stream",
     "text": [
      "[I 2023-07-30 15:52:08,325] A new study created in memory with name: no-name-f9d6096a-157c-49c7-b08a-d5298b43bb66\n"
     ]
    },
    {
     "name": "stdout",
     "output_type": "stream",
     "text": [
      "GPU on: True\n"
     ]
    },
    {
     "name": "stderr",
     "output_type": "stream",
     "text": [
      "C:\\ProgramData\\anaconda3\\lib\\site-packages\\transformers\\optimization.py:411: FutureWarning: This implementation of AdamW is deprecated and will be removed in a future version. Use the PyTorch implementation torch.optim.AdamW instead, or set `no_deprecation_warning=True` to disable this warning\n",
      "  warnings.warn(\n"
     ]
    },
    {
     "name": "stdout",
     "output_type": "stream",
     "text": [
      "{'loss': 1.5094, 'learning_rate': 3.5319461094383905e-05, 'epoch': 0.13}\n",
      "{'eval_loss': 1.4877976179122925, 'eval_f1': 0.06872727272727272, 'eval_runtime': 77.7481, 'eval_samples_per_second': 51.075, 'eval_steps_per_second': 6.392, 'epoch': 0.13}\n",
      "{'loss': 1.5204, 'learning_rate': 3.377212642802169e-05, 'epoch': 0.25}\n",
      "{'eval_loss': 1.5012670755386353, 'eval_f1': 0.06872727272727272, 'eval_runtime': 77.5666, 'eval_samples_per_second': 51.195, 'eval_steps_per_second': 6.407, 'epoch': 0.25}\n",
      "{'loss': 1.5185, 'learning_rate': 3.222479176165947e-05, 'epoch': 0.38}\n",
      "{'eval_loss': 1.5169566869735718, 'eval_f1': 0.06872727272727272, 'eval_runtime': 88.4744, 'eval_samples_per_second': 44.883, 'eval_steps_per_second': 5.617, 'epoch': 0.38}\n",
      "{'loss': 1.5348, 'learning_rate': 3.067745709529726e-05, 'epoch': 0.5}\n",
      "{'eval_loss': 1.4878863096237183, 'eval_f1': 0.06872727272727272, 'eval_runtime': 88.5956, 'eval_samples_per_second': 44.822, 'eval_steps_per_second': 5.61, 'epoch': 0.5}\n",
      "{'loss': 1.5459, 'learning_rate': 2.9130122428935046e-05, 'epoch': 0.63}\n",
      "{'eval_loss': 1.5101803541183472, 'eval_f1': 0.06872727272727272, 'eval_runtime': 88.8803, 'eval_samples_per_second': 44.678, 'eval_steps_per_second': 5.592, 'epoch': 0.63}\n",
      "{'loss': 1.5242, 'learning_rate': 2.7582787762572833e-05, 'epoch': 0.76}\n",
      "{'eval_loss': 1.5082319974899292, 'eval_f1': 0.06872727272727272, 'eval_runtime': 89.3759, 'eval_samples_per_second': 44.43, 'eval_steps_per_second': 5.561, 'epoch': 0.76}\n",
      "{'loss': 1.506, 'learning_rate': 2.6035453096210617e-05, 'epoch': 0.88}\n",
      "{'eval_loss': 1.5052400827407837, 'eval_f1': 0.06872727272727272, 'eval_runtime': 87.5781, 'eval_samples_per_second': 45.342, 'eval_steps_per_second': 5.675, 'epoch': 0.88}\n",
      "{'loss': 1.4617, 'learning_rate': 2.4488118429848403e-05, 'epoch': 1.01}\n",
      "{'eval_loss': 1.5126292705535889, 'eval_f1': 0.06872727272727272, 'eval_runtime': 88.0353, 'eval_samples_per_second': 45.107, 'eval_steps_per_second': 5.645, 'epoch': 1.01}\n",
      "{'loss': 1.5133, 'learning_rate': 2.2940783763486187e-05, 'epoch': 1.13}\n",
      "{'eval_loss': 1.5074061155319214, 'eval_f1': 0.06872727272727272, 'eval_runtime': 87.5764, 'eval_samples_per_second': 45.343, 'eval_steps_per_second': 5.675, 'epoch': 1.13}\n",
      "{'loss': 1.4879, 'learning_rate': 2.1393449097123977e-05, 'epoch': 1.26}\n",
      "{'eval_loss': 1.516839623451233, 'eval_f1': 0.06872727272727272, 'eval_runtime': 88.087, 'eval_samples_per_second': 45.08, 'eval_steps_per_second': 5.642, 'epoch': 1.26}\n",
      "{'loss': 1.4547, 'learning_rate': 1.984611443076176e-05, 'epoch': 1.39}\n",
      "{'eval_loss': 1.5101385116577148, 'eval_f1': 0.06872727272727272, 'eval_runtime': 87.055, 'eval_samples_per_second': 45.615, 'eval_steps_per_second': 5.709, 'epoch': 1.39}\n",
      "{'loss': 1.5201, 'learning_rate': 1.8298779764399548e-05, 'epoch': 1.51}\n",
      "{'eval_loss': 1.5073864459991455, 'eval_f1': 0.06872727272727272, 'eval_runtime': 87.0537, 'eval_samples_per_second': 45.616, 'eval_steps_per_second': 5.709, 'epoch': 1.51}\n",
      "{'loss': 1.5305, 'learning_rate': 1.675144509803733e-05, 'epoch': 1.64}\n",
      "{'eval_loss': 1.5062745809555054, 'eval_f1': 0.06872727272727272, 'eval_runtime': 87.0149, 'eval_samples_per_second': 45.636, 'eval_steps_per_second': 5.712, 'epoch': 1.64}\n",
      "{'loss': 1.5298, 'learning_rate': 1.5204110431675117e-05, 'epoch': 1.76}\n",
      "{'eval_loss': 1.5093185901641846, 'eval_f1': 0.06872727272727272, 'eval_runtime': 87.1011, 'eval_samples_per_second': 45.591, 'eval_steps_per_second': 5.706, 'epoch': 1.76}\n",
      "{'loss': 1.5408, 'learning_rate': 1.3656775765312902e-05, 'epoch': 1.89}\n",
      "{'eval_loss': 1.5033257007598877, 'eval_f1': 0.06872727272727272, 'eval_runtime': 87.336, 'eval_samples_per_second': 45.468, 'eval_steps_per_second': 5.691, 'epoch': 1.89}\n",
      "{'loss': 1.4835, 'learning_rate': 1.2109441098950689e-05, 'epoch': 2.01}\n",
      "{'eval_loss': 1.5123441219329834, 'eval_f1': 0.06872727272727272, 'eval_runtime': 87.4034, 'eval_samples_per_second': 45.433, 'eval_steps_per_second': 5.686, 'epoch': 2.01}\n",
      "{'loss': 1.5055, 'learning_rate': 1.0562106432588474e-05, 'epoch': 2.14}\n",
      "{'eval_loss': 1.509463906288147, 'eval_f1': 0.06872727272727272, 'eval_runtime': 87.6656, 'eval_samples_per_second': 45.297, 'eval_steps_per_second': 5.669, 'epoch': 2.14}\n",
      "{'loss': 1.5228, 'learning_rate': 9.014771766226261e-06, 'epoch': 2.27}\n",
      "{'eval_loss': 1.506940484046936, 'eval_f1': 0.06872727272727272, 'eval_runtime': 87.0986, 'eval_samples_per_second': 45.592, 'eval_steps_per_second': 5.706, 'epoch': 2.27}\n",
      "{'loss': 1.5073, 'learning_rate': 7.467437099864046e-06, 'epoch': 2.39}\n",
      "{'eval_loss': 1.512904405593872, 'eval_f1': 0.06872727272727272, 'eval_runtime': 87.4057, 'eval_samples_per_second': 45.432, 'eval_steps_per_second': 5.686, 'epoch': 2.39}\n",
      "{'loss': 1.4979, 'learning_rate': 5.920102433501832e-06, 'epoch': 2.52}\n",
      "{'eval_loss': 1.5105695724487305, 'eval_f1': 0.06872727272727272, 'eval_runtime': 87.2516, 'eval_samples_per_second': 45.512, 'eval_steps_per_second': 5.696, 'epoch': 2.52}\n",
      "{'loss': 1.4745, 'learning_rate': 4.372767767139618e-06, 'epoch': 2.64}\n",
      "{'eval_loss': 1.5111253261566162, 'eval_f1': 0.06870557116878823, 'eval_runtime': 87.5569, 'eval_samples_per_second': 45.353, 'eval_steps_per_second': 5.676, 'epoch': 2.64}\n",
      "{'loss': 1.5243, 'learning_rate': 2.8254331007774033e-06, 'epoch': 2.77}\n",
      "{'eval_loss': 1.5006126165390015, 'eval_f1': 0.06872727272727272, 'eval_runtime': 87.6994, 'eval_samples_per_second': 45.28, 'eval_steps_per_second': 5.667, 'epoch': 2.77}\n",
      "{'loss': 1.5046, 'learning_rate': 1.278098434415189e-06, 'epoch': 2.9}\n",
      "{'eval_loss': 1.4869335889816284, 'eval_f1': 0.06872727272727272, 'eval_runtime': 87.7286, 'eval_samples_per_second': 45.265, 'eval_steps_per_second': 5.665, 'epoch': 2.9}\n"
     ]
    },
    {
     "name": "stderr",
     "output_type": "stream",
     "text": [
      "[I 2023-07-30 17:21:47,974] Trial 0 finished with value: 0.06872727272727272 and parameters: {'num_trial_epochs': 3, 'learning_rate': 3.686679576074612e-05, 'batch_size': 23}. Best is trial 0 with value: 0.06872727272727272.\n"
     ]
    },
    {
     "name": "stdout",
     "output_type": "stream",
     "text": [
      "{'train_runtime': 5378.1502, 'train_samples_per_second': 8.859, 'train_steps_per_second': 2.215, 'train_loss': 1.508405595925276, 'epoch': 3.0}\n",
      "GPU on: True\n"
     ]
    },
    {
     "name": "stderr",
     "output_type": "stream",
     "text": [
      "C:\\ProgramData\\anaconda3\\lib\\site-packages\\transformers\\optimization.py:411: FutureWarning: This implementation of AdamW is deprecated and will be removed in a future version. Use the PyTorch implementation torch.optim.AdamW instead, or set `no_deprecation_warning=True` to disable this warning\n",
      "  warnings.warn(\n"
     ]
    },
    {
     "name": "stdout",
     "output_type": "stream",
     "text": [
      "{'loss': 1.5098, 'learning_rate': 4.380425437934969e-05, 'epoch': 0.13}\n",
      "{'eval_loss': 1.5332114696502686, 'eval_f1': 0.06872727272727272, 'eval_runtime': 90.2838, 'eval_samples_per_second': 43.984, 'eval_steps_per_second': 5.505, 'epoch': 0.13}\n",
      "{'loss': 1.5238, 'learning_rate': 4.1885203543489283e-05, 'epoch': 0.25}\n",
      "{'eval_loss': 1.51582670211792, 'eval_f1': 0.06872727272727272, 'eval_runtime': 90.1954, 'eval_samples_per_second': 44.027, 'eval_steps_per_second': 5.51, 'epoch': 0.25}\n",
      "{'loss': 1.535, 'learning_rate': 3.9966152707628874e-05, 'epoch': 0.38}\n",
      "{'eval_loss': 1.5169711112976074, 'eval_f1': 0.06872727272727272, 'eval_runtime': 88.7499, 'eval_samples_per_second': 44.744, 'eval_steps_per_second': 5.6, 'epoch': 0.38}\n",
      "{'loss': 1.546, 'learning_rate': 3.804710187176847e-05, 'epoch': 0.5}\n",
      "{'eval_loss': 1.5065213441848755, 'eval_f1': 0.06872727272727272, 'eval_runtime': 88.8558, 'eval_samples_per_second': 44.69, 'eval_steps_per_second': 5.593, 'epoch': 0.5}\n",
      "{'loss': 1.5473, 'learning_rate': 3.6128051035908054e-05, 'epoch': 0.63}\n",
      "{'eval_loss': 1.508120059967041, 'eval_f1': 0.06872727272727272, 'eval_runtime': 88.8903, 'eval_samples_per_second': 44.673, 'eval_steps_per_second': 5.591, 'epoch': 0.63}\n",
      "{'loss': 1.5211, 'learning_rate': 3.420900020004765e-05, 'epoch': 0.76}\n",
      "{'eval_loss': 1.5146058797836304, 'eval_f1': 0.06872727272727272, 'eval_runtime': 88.8365, 'eval_samples_per_second': 44.7, 'eval_steps_per_second': 5.595, 'epoch': 0.76}\n",
      "{'loss': 1.5122, 'learning_rate': 3.228994936418724e-05, 'epoch': 0.88}\n",
      "{'eval_loss': 1.5067741870880127, 'eval_f1': 0.06872727272727272, 'eval_runtime': 86.8859, 'eval_samples_per_second': 45.704, 'eval_steps_per_second': 5.72, 'epoch': 0.88}\n",
      "{'loss': 1.4613, 'learning_rate': 3.037089852832683e-05, 'epoch': 1.01}\n",
      "{'eval_loss': 1.5167371034622192, 'eval_f1': 0.06872727272727272, 'eval_runtime': 86.8754, 'eval_samples_per_second': 45.709, 'eval_steps_per_second': 5.721, 'epoch': 1.01}\n",
      "{'loss': 1.5136, 'learning_rate': 2.8451847692466422e-05, 'epoch': 1.13}\n",
      "{'eval_loss': 1.507498860359192, 'eval_f1': 0.06872727272727272, 'eval_runtime': 86.8872, 'eval_samples_per_second': 45.703, 'eval_steps_per_second': 5.72, 'epoch': 1.13}\n",
      "{'loss': 1.4862, 'learning_rate': 2.6532796856606016e-05, 'epoch': 1.26}\n",
      "{'eval_loss': 1.5155558586120605, 'eval_f1': 0.06872727272727272, 'eval_runtime': 86.7389, 'eval_samples_per_second': 45.781, 'eval_steps_per_second': 5.73, 'epoch': 1.26}\n",
      "{'loss': 1.455, 'learning_rate': 2.4613746020745602e-05, 'epoch': 1.39}\n",
      "{'eval_loss': 1.5101715326309204, 'eval_f1': 0.06872727272727272, 'eval_runtime': 86.76, 'eval_samples_per_second': 45.77, 'eval_steps_per_second': 5.728, 'epoch': 1.39}\n",
      "{'loss': 1.5201, 'learning_rate': 2.2694695184885196e-05, 'epoch': 1.51}\n",
      "{'eval_loss': 1.507382869720459, 'eval_f1': 0.06872727272727272, 'eval_runtime': 86.7642, 'eval_samples_per_second': 45.768, 'eval_steps_per_second': 5.728, 'epoch': 1.51}\n",
      "{'loss': 1.5304, 'learning_rate': 2.077564434902479e-05, 'epoch': 1.64}\n",
      "{'eval_loss': 1.506811261177063, 'eval_f1': 0.06872727272727272, 'eval_runtime': 86.7481, 'eval_samples_per_second': 45.776, 'eval_steps_per_second': 5.729, 'epoch': 1.64}\n",
      "{'loss': 1.5305, 'learning_rate': 1.8856593513164377e-05, 'epoch': 1.76}\n",
      "{'eval_loss': 1.50835382938385, 'eval_f1': 0.06872727272727272, 'eval_runtime': 86.8175, 'eval_samples_per_second': 45.74, 'eval_steps_per_second': 5.725, 'epoch': 1.76}\n",
      "{'loss': 1.5398, 'learning_rate': 1.6937542677303967e-05, 'epoch': 1.89}\n",
      "{'eval_loss': 1.5036572217941284, 'eval_f1': 0.06872727272727272, 'eval_runtime': 86.8018, 'eval_samples_per_second': 45.748, 'eval_steps_per_second': 5.726, 'epoch': 1.89}\n",
      "{'loss': 1.483, 'learning_rate': 1.5018491841443559e-05, 'epoch': 2.01}\n",
      "{'eval_loss': 1.512012004852295, 'eval_f1': 0.06872727272727272, 'eval_runtime': 86.9019, 'eval_samples_per_second': 45.695, 'eval_steps_per_second': 5.719, 'epoch': 2.01}\n",
      "{'loss': 1.5067, 'learning_rate': 1.309944100558315e-05, 'epoch': 2.14}\n",
      "{'eval_loss': 1.5085810422897339, 'eval_f1': 0.06872727272727272, 'eval_runtime': 86.7917, 'eval_samples_per_second': 45.753, 'eval_steps_per_second': 5.726, 'epoch': 2.14}\n",
      "{'loss': 1.5243, 'learning_rate': 1.1180390169722743e-05, 'epoch': 2.27}\n",
      "{'eval_loss': 1.5072667598724365, 'eval_f1': 0.06872727272727272, 'eval_runtime': 86.7965, 'eval_samples_per_second': 45.751, 'eval_steps_per_second': 5.726, 'epoch': 2.27}\n",
      "{'loss': 1.5078, 'learning_rate': 9.261339333862335e-06, 'epoch': 2.39}\n",
      "{'eval_loss': 1.509640097618103, 'eval_f1': 0.06872727272727272, 'eval_runtime': 86.7636, 'eval_samples_per_second': 45.768, 'eval_steps_per_second': 5.728, 'epoch': 2.39}\n",
      "{'loss': 1.5001, 'learning_rate': 7.342288498001925e-06, 'epoch': 2.52}\n",
      "{'eval_loss': 1.5095747709274292, 'eval_f1': 0.06872727272727272, 'eval_runtime': 86.7557, 'eval_samples_per_second': 45.772, 'eval_steps_per_second': 5.729, 'epoch': 2.52}\n",
      "{'loss': 1.4674, 'learning_rate': 5.423237662141516e-06, 'epoch': 2.64}\n",
      "{'eval_loss': 1.5100951194763184, 'eval_f1': 0.06872727272727272, 'eval_runtime': 86.7376, 'eval_samples_per_second': 45.782, 'eval_steps_per_second': 5.73, 'epoch': 2.64}\n",
      "{'loss': 1.5281, 'learning_rate': 3.504186826281107e-06, 'epoch': 2.77}\n",
      "{'eval_loss': 1.5080291032791138, 'eval_f1': 0.06872727272727272, 'eval_runtime': 86.7371, 'eval_samples_per_second': 45.782, 'eval_steps_per_second': 5.73, 'epoch': 2.77}\n",
      "{'loss': 1.5246, 'learning_rate': 1.5851359904206977e-06, 'epoch': 2.9}\n",
      "{'eval_loss': 1.5064142942428589, 'eval_f1': 0.06872727272727272, 'eval_runtime': 86.8014, 'eval_samples_per_second': 45.748, 'eval_steps_per_second': 5.726, 'epoch': 2.9}\n"
     ]
    },
    {
     "name": "stderr",
     "output_type": "stream",
     "text": [
      "[I 2023-07-30 18:52:11,308] Trial 1 finished with value: 0.06872727272727272 and parameters: {'num_trial_epochs': 3, 'learning_rate': 4.57233052152101e-05, 'batch_size': 16}. Best is trial 0 with value: 0.06872727272727272.\n"
     ]
    },
    {
     "name": "stdout",
     "output_type": "stream",
     "text": [
      "{'train_runtime': 5421.6676, 'train_samples_per_second': 8.788, 'train_steps_per_second': 2.197, 'train_loss': 1.5115223134243447, 'epoch': 3.0}\n",
      "GPU on: True\n"
     ]
    },
    {
     "name": "stderr",
     "output_type": "stream",
     "text": [
      "C:\\ProgramData\\anaconda3\\lib\\site-packages\\transformers\\optimization.py:411: FutureWarning: This implementation of AdamW is deprecated and will be removed in a future version. Use the PyTorch implementation torch.optim.AdamW instead, or set `no_deprecation_warning=True` to disable this warning\n",
      "  warnings.warn(\n"
     ]
    },
    {
     "name": "stdout",
     "output_type": "stream",
     "text": [
      "{'loss': 1.5112, 'learning_rate': 3.856361305244734e-05, 'epoch': 0.13}\n",
      "{'eval_loss': 1.4899280071258545, 'eval_f1': 0.06872727272727272, 'eval_runtime': 90.5023, 'eval_samples_per_second': 43.877, 'eval_steps_per_second': 5.492, 'epoch': 0.13}\n",
      "{'loss': 1.5235, 'learning_rate': 3.687415309220695e-05, 'epoch': 0.25}\n",
      "{'eval_loss': 1.519321322441101, 'eval_f1': 0.06872727272727272, 'eval_runtime': 88.7063, 'eval_samples_per_second': 44.766, 'eval_steps_per_second': 5.603, 'epoch': 0.25}\n",
      "{'loss': 1.5331, 'learning_rate': 3.5184693131966544e-05, 'epoch': 0.38}\n",
      "{'eval_loss': 1.517182469367981, 'eval_f1': 0.06872727272727272, 'eval_runtime': 88.8873, 'eval_samples_per_second': 44.675, 'eval_steps_per_second': 5.591, 'epoch': 0.38}\n",
      "{'loss': 1.5479, 'learning_rate': 3.3495233171726146e-05, 'epoch': 0.5}\n",
      "{'eval_loss': 1.5074303150177002, 'eval_f1': 0.06872727272727272, 'eval_runtime': 87.2402, 'eval_samples_per_second': 45.518, 'eval_steps_per_second': 5.697, 'epoch': 0.5}\n",
      "{'loss': 1.5477, 'learning_rate': 3.180577321148575e-05, 'epoch': 0.63}\n",
      "{'eval_loss': 1.5102331638336182, 'eval_f1': 0.06872727272727272, 'eval_runtime': 87.2122, 'eval_samples_per_second': 45.533, 'eval_steps_per_second': 5.699, 'epoch': 0.63}\n",
      "{'loss': 1.5238, 'learning_rate': 3.011631325124535e-05, 'epoch': 0.76}\n",
      "{'eval_loss': 1.5171993970870972, 'eval_f1': 0.06872727272727272, 'eval_runtime': 87.3345, 'eval_samples_per_second': 45.469, 'eval_steps_per_second': 5.691, 'epoch': 0.76}\n",
      "{'loss': 1.5083, 'learning_rate': 2.842685329100495e-05, 'epoch': 0.88}\n",
      "{'eval_loss': 1.5064523220062256, 'eval_f1': 0.06872727272727272, 'eval_runtime': 87.1789, 'eval_samples_per_second': 45.55, 'eval_steps_per_second': 5.701, 'epoch': 0.88}\n",
      "{'loss': 1.46, 'learning_rate': 2.6737393330764553e-05, 'epoch': 1.01}\n",
      "{'eval_loss': 1.5167328119277954, 'eval_f1': 0.06872727272727272, 'eval_runtime': 87.0612, 'eval_samples_per_second': 45.612, 'eval_steps_per_second': 5.709, 'epoch': 1.01}\n",
      "{'loss': 1.5129, 'learning_rate': 2.5047933370524153e-05, 'epoch': 1.13}\n",
      "{'eval_loss': 1.5074670314788818, 'eval_f1': 0.06872727272727272, 'eval_runtime': 86.8829, 'eval_samples_per_second': 45.705, 'eval_steps_per_second': 5.72, 'epoch': 1.13}\n",
      "{'loss': 1.4884, 'learning_rate': 2.3358473410283755e-05, 'epoch': 1.26}\n",
      "{'eval_loss': 1.519087791442871, 'eval_f1': 0.06872727272727272, 'eval_runtime': 86.8407, 'eval_samples_per_second': 45.727, 'eval_steps_per_second': 5.723, 'epoch': 1.26}\n",
      "{'loss': 1.4555, 'learning_rate': 2.1669013450043354e-05, 'epoch': 1.39}\n",
      "{'eval_loss': 1.5100196599960327, 'eval_f1': 0.06872727272727272, 'eval_runtime': 86.9964, 'eval_samples_per_second': 45.646, 'eval_steps_per_second': 5.713, 'epoch': 1.39}\n",
      "{'loss': 1.5197, 'learning_rate': 1.9979553489802957e-05, 'epoch': 1.51}\n",
      "{'eval_loss': 1.510840892791748, 'eval_f1': 0.06872727272727272, 'eval_runtime': 87.0541, 'eval_samples_per_second': 45.615, 'eval_steps_per_second': 5.709, 'epoch': 1.51}\n",
      "{'loss': 1.5307, 'learning_rate': 1.829009352956256e-05, 'epoch': 1.64}\n",
      "{'eval_loss': 1.508310317993164, 'eval_f1': 0.06872727272727272, 'eval_runtime': 87.1948, 'eval_samples_per_second': 45.542, 'eval_steps_per_second': 5.7, 'epoch': 1.64}\n",
      "{'loss': 1.5308, 'learning_rate': 1.660063356932216e-05, 'epoch': 1.76}\n",
      "{'eval_loss': 1.5086700916290283, 'eval_f1': 0.06872727272727272, 'eval_runtime': 86.9785, 'eval_samples_per_second': 45.655, 'eval_steps_per_second': 5.714, 'epoch': 1.76}\n",
      "{'loss': 1.5415, 'learning_rate': 1.491117360908176e-05, 'epoch': 1.89}\n",
      "{'eval_loss': 1.5034127235412598, 'eval_f1': 0.06872727272727272, 'eval_runtime': 87.1677, 'eval_samples_per_second': 45.556, 'eval_steps_per_second': 5.702, 'epoch': 1.89}\n",
      "{'loss': 1.4835, 'learning_rate': 1.322171364884136e-05, 'epoch': 2.01}\n",
      "{'eval_loss': 1.5121921300888062, 'eval_f1': 0.06872727272727272, 'eval_runtime': 86.9967, 'eval_samples_per_second': 45.645, 'eval_steps_per_second': 5.713, 'epoch': 2.01}\n",
      "{'loss': 1.506, 'learning_rate': 1.1532253688600962e-05, 'epoch': 2.14}\n",
      "{'eval_loss': 1.5083974599838257, 'eval_f1': 0.06872727272727272, 'eval_runtime': 86.9426, 'eval_samples_per_second': 45.674, 'eval_steps_per_second': 5.716, 'epoch': 2.14}\n",
      "{'loss': 1.5236, 'learning_rate': 9.842793728360564e-06, 'epoch': 2.27}\n",
      "{'eval_loss': 1.5078309774398804, 'eval_f1': 0.06872727272727272, 'eval_runtime': 87.3024, 'eval_samples_per_second': 45.486, 'eval_steps_per_second': 5.693, 'epoch': 2.27}\n",
      "{'loss': 1.5051, 'learning_rate': 8.153333768120165e-06, 'epoch': 2.39}\n",
      "{'eval_loss': 1.5128883123397827, 'eval_f1': 0.06872727272727272, 'eval_runtime': 87.0193, 'eval_samples_per_second': 45.634, 'eval_steps_per_second': 5.711, 'epoch': 2.39}\n",
      "{'loss': 1.4986, 'learning_rate': 6.463873807879766e-06, 'epoch': 2.52}\n",
      "{'eval_loss': 1.5105071067810059, 'eval_f1': 0.06872727272727272, 'eval_runtime': 86.8344, 'eval_samples_per_second': 45.731, 'eval_steps_per_second': 5.724, 'epoch': 2.52}\n",
      "{'loss': 1.4657, 'learning_rate': 4.774413847639367e-06, 'epoch': 2.64}\n",
      "{'eval_loss': 1.508467435836792, 'eval_f1': 0.06872727272727272, 'eval_runtime': 86.8165, 'eval_samples_per_second': 45.74, 'eval_steps_per_second': 5.725, 'epoch': 2.64}\n",
      "{'loss': 1.5221, 'learning_rate': 3.0849538873989684e-06, 'epoch': 2.77}\n",
      "{'eval_loss': 1.5015238523483276, 'eval_f1': 0.06872727272727272, 'eval_runtime': 87.079, 'eval_samples_per_second': 45.602, 'eval_steps_per_second': 5.707, 'epoch': 2.77}\n",
      "{'loss': 1.5135, 'learning_rate': 1.3954939271585693e-06, 'epoch': 2.9}\n",
      "{'eval_loss': 1.494295358657837, 'eval_f1': 0.06872727272727272, 'eval_runtime': 86.9627, 'eval_samples_per_second': 45.663, 'eval_steps_per_second': 5.715, 'epoch': 2.9}\n"
     ]
    },
    {
     "name": "stderr",
     "output_type": "stream",
     "text": [
      "[I 2023-07-30 20:22:26,857] Trial 2 finished with value: 0.06872727272727272 and parameters: {'num_trial_epochs': 4, 'learning_rate': 4.025307301268774e-05, 'batch_size': 31}. Best is trial 0 with value: 0.06872727272727272.\n"
     ]
    },
    {
     "name": "stdout",
     "output_type": "stream",
     "text": [
      "{'train_runtime': 5413.5814, 'train_samples_per_second': 8.801, 'train_steps_per_second': 2.201, 'train_loss': 1.5102642811506468, 'epoch': 3.0}\n",
      "GPU on: True\n"
     ]
    },
    {
     "name": "stderr",
     "output_type": "stream",
     "text": [
      "C:\\ProgramData\\anaconda3\\lib\\site-packages\\transformers\\optimization.py:411: FutureWarning: This implementation of AdamW is deprecated and will be removed in a future version. Use the PyTorch implementation torch.optim.AdamW instead, or set `no_deprecation_warning=True` to disable this warning\n",
      "  warnings.warn(\n"
     ]
    },
    {
     "name": "stdout",
     "output_type": "stream",
     "text": [
      "{'loss': 1.5053, 'learning_rate': 2.7792273342912735e-05, 'epoch': 0.13}\n",
      "{'eval_loss': 1.5041524171829224, 'eval_f1': 0.0687169312169312, 'eval_runtime': 89.983, 'eval_samples_per_second': 44.131, 'eval_steps_per_second': 5.523, 'epoch': 0.13}\n",
      "{'loss': 1.5044, 'learning_rate': 2.657470244381028e-05, 'epoch': 0.25}\n",
      "{'eval_loss': 1.4833824634552002, 'eval_f1': 0.07025812943071137, 'eval_runtime': 89.9513, 'eval_samples_per_second': 44.146, 'eval_steps_per_second': 5.525, 'epoch': 0.25}\n",
      "{'loss': 1.4959, 'learning_rate': 2.5357131544707816e-05, 'epoch': 0.38}\n",
      "{'eval_loss': 1.4734350442886353, 'eval_f1': 0.06872727272727272, 'eval_runtime': 89.9707, 'eval_samples_per_second': 44.137, 'eval_steps_per_second': 5.524, 'epoch': 0.38}\n",
      "{'loss': 1.4917, 'learning_rate': 2.413956064560536e-05, 'epoch': 0.5}\n",
      "{'eval_loss': 1.440989375114441, 'eval_f1': 0.06872727272727272, 'eval_runtime': 89.9886, 'eval_samples_per_second': 44.128, 'eval_steps_per_second': 5.523, 'epoch': 0.5}\n",
      "{'loss': 1.4818, 'learning_rate': 2.2921989746502898e-05, 'epoch': 0.63}\n",
      "{'eval_loss': 1.4213752746582031, 'eval_f1': 0.06872727272727272, 'eval_runtime': 89.9636, 'eval_samples_per_second': 44.14, 'eval_steps_per_second': 5.524, 'epoch': 0.63}\n",
      "{'loss': 1.4498, 'learning_rate': 2.1704418847400442e-05, 'epoch': 0.76}\n",
      "{'eval_loss': 1.4034110307693481, 'eval_f1': 0.0750567155469444, 'eval_runtime': 89.8882, 'eval_samples_per_second': 44.177, 'eval_steps_per_second': 5.529, 'epoch': 0.76}\n",
      "{'loss': 1.4228, 'learning_rate': 2.048684794829798e-05, 'epoch': 0.88}\n",
      "{'eval_loss': 1.4049694538116455, 'eval_f1': 0.06872727272727272, 'eval_runtime': 89.9127, 'eval_samples_per_second': 44.165, 'eval_steps_per_second': 5.528, 'epoch': 0.88}\n",
      "{'loss': 1.3681, 'learning_rate': 1.9269277049195524e-05, 'epoch': 1.01}\n",
      "{'eval_loss': 1.3802354335784912, 'eval_f1': 0.0974704629923798, 'eval_runtime': 89.9186, 'eval_samples_per_second': 44.162, 'eval_steps_per_second': 5.527, 'epoch': 1.01}\n",
      "{'loss': 1.3516, 'learning_rate': 1.805170615009306e-05, 'epoch': 1.13}\n",
      "{'eval_loss': 1.415197730064392, 'eval_f1': 0.1102576737869595, 'eval_runtime': 89.8569, 'eval_samples_per_second': 44.192, 'eval_steps_per_second': 5.531, 'epoch': 1.13}\n",
      "{'loss': 1.316, 'learning_rate': 1.6834135250990605e-05, 'epoch': 1.26}\n",
      "{'eval_loss': 1.439635157585144, 'eval_f1': 0.17081093777456996, 'eval_runtime': 89.9033, 'eval_samples_per_second': 44.17, 'eval_steps_per_second': 5.528, 'epoch': 1.26}\n",
      "{'loss': 1.3079, 'learning_rate': 1.5616564351888143e-05, 'epoch': 1.39}\n",
      "{'eval_loss': 1.3260165452957153, 'eval_f1': 0.20014613980306478, 'eval_runtime': 89.8652, 'eval_samples_per_second': 44.188, 'eval_steps_per_second': 5.531, 'epoch': 1.39}\n",
      "{'loss': 1.3281, 'learning_rate': 1.4398993452785685e-05, 'epoch': 1.51}\n",
      "{'eval_loss': 1.3394814729690552, 'eval_f1': 0.20046345558635367, 'eval_runtime': 89.8534, 'eval_samples_per_second': 44.194, 'eval_steps_per_second': 5.531, 'epoch': 1.51}\n",
      "{'loss': 1.3428, 'learning_rate': 1.3181422553683226e-05, 'epoch': 1.64}\n",
      "{'eval_loss': 1.3258426189422607, 'eval_f1': 0.24642704278200553, 'eval_runtime': 89.861, 'eval_samples_per_second': 44.19, 'eval_steps_per_second': 5.531, 'epoch': 1.64}\n",
      "{'loss': 1.3039, 'learning_rate': 1.1963851654580765e-05, 'epoch': 1.76}\n",
      "{'eval_loss': 1.2936488389968872, 'eval_f1': 0.25131336958264866, 'eval_runtime': 89.8652, 'eval_samples_per_second': 44.188, 'eval_steps_per_second': 5.531, 'epoch': 1.76}\n",
      "{'loss': 1.2904, 'learning_rate': 1.0746280755478306e-05, 'epoch': 1.89}\n",
      "{'eval_loss': 1.2766783237457275, 'eval_f1': 0.29133125471906496, 'eval_runtime': 89.8451, 'eval_samples_per_second': 44.198, 'eval_steps_per_second': 5.532, 'epoch': 1.89}\n",
      "{'loss': 1.223, 'learning_rate': 9.528709856375846e-06, 'epoch': 2.01}\n",
      "{'eval_loss': 1.2833521366119385, 'eval_f1': 0.2716002494089283, 'eval_runtime': 89.9021, 'eval_samples_per_second': 44.17, 'eval_steps_per_second': 5.528, 'epoch': 2.01}\n",
      "{'loss': 1.0774, 'learning_rate': 8.311138957273387e-06, 'epoch': 2.14}\n",
      "{'eval_loss': 1.3240727186203003, 'eval_f1': 0.2993956038759154, 'eval_runtime': 89.8902, 'eval_samples_per_second': 44.176, 'eval_steps_per_second': 5.529, 'epoch': 2.14}\n",
      "{'loss': 1.1115, 'learning_rate': 7.093568058170929e-06, 'epoch': 2.27}\n",
      "{'eval_loss': 1.2982934713363647, 'eval_f1': 0.3048540490099449, 'eval_runtime': 89.8447, 'eval_samples_per_second': 44.198, 'eval_steps_per_second': 5.532, 'epoch': 2.27}\n",
      "{'loss': 1.0624, 'learning_rate': 5.87599715906847e-06, 'epoch': 2.39}\n",
      "{'eval_loss': 1.3473016023635864, 'eval_f1': 0.2801770210865616, 'eval_runtime': 89.8652, 'eval_samples_per_second': 44.188, 'eval_steps_per_second': 5.531, 'epoch': 2.39}\n",
      "{'loss': 1.0406, 'learning_rate': 4.65842625996601e-06, 'epoch': 2.52}\n",
      "{'eval_loss': 1.3229864835739136, 'eval_f1': 0.3048284151494049, 'eval_runtime': 89.8675, 'eval_samples_per_second': 44.187, 'eval_steps_per_second': 5.53, 'epoch': 2.52}\n",
      "{'loss': 1.0204, 'learning_rate': 3.4408553608635503e-06, 'epoch': 2.64}\n",
      "{'eval_loss': 1.296858310699463, 'eval_f1': 0.32953401211048383, 'eval_runtime': 89.8694, 'eval_samples_per_second': 44.186, 'eval_steps_per_second': 5.53, 'epoch': 2.64}\n",
      "{'loss': 1.0284, 'learning_rate': 2.223284461761091e-06, 'epoch': 2.77}\n",
      "{'eval_loss': 1.3059089183807373, 'eval_f1': 0.33525798751826386, 'eval_runtime': 89.8209, 'eval_samples_per_second': 44.21, 'eval_steps_per_second': 5.533, 'epoch': 2.77}\n",
      "{'loss': 1.0419, 'learning_rate': 1.0057135626586315e-06, 'epoch': 2.9}\n",
      "{'eval_loss': 1.2921233177185059, 'eval_f1': 0.33702616029736776, 'eval_runtime': 89.8423, 'eval_samples_per_second': 44.2, 'eval_steps_per_second': 5.532, 'epoch': 2.9}\n"
     ]
    },
    {
     "name": "stderr",
     "output_type": "stream",
     "text": [
      "[I 2023-07-30 21:53:48,355] Trial 3 finished with value: 0.33702616029736776 and parameters: {'num_trial_epochs': 3, 'learning_rate': 2.9009844242015197e-05, 'batch_size': 24}. Best is trial 3 with value: 0.33702616029736776.\n"
     ]
    },
    {
     "name": "stdout",
     "output_type": "stream",
     "text": [
      "{'train_runtime': 5479.5915, 'train_samples_per_second': 8.695, 'train_steps_per_second': 2.174, 'train_loss': 1.277045214155164, 'epoch': 3.0}\n",
      "GPU on: True\n"
     ]
    },
    {
     "name": "stderr",
     "output_type": "stream",
     "text": [
      "C:\\ProgramData\\anaconda3\\lib\\site-packages\\transformers\\optimization.py:411: FutureWarning: This implementation of AdamW is deprecated and will be removed in a future version. Use the PyTorch implementation torch.optim.AdamW instead, or set `no_deprecation_warning=True` to disable this warning\n",
      "  warnings.warn(\n"
     ]
    },
    {
     "name": "stdout",
     "output_type": "stream",
     "text": [
      "{'loss': 1.5083, 'learning_rate': 4.273899880476005e-05, 'epoch': 0.13}\n",
      "{'eval_loss': 1.5209425687789917, 'eval_f1': 0.06872727272727272, 'eval_runtime': 89.7, 'eval_samples_per_second': 44.27, 'eval_steps_per_second': 5.541, 'epoch': 0.13}\n",
      "{'loss': 1.5235, 'learning_rate': 4.086661648614268e-05, 'epoch': 0.25}\n",
      "{'eval_loss': 1.516805648803711, 'eval_f1': 0.06872727272727272, 'eval_runtime': 86.9442, 'eval_samples_per_second': 45.673, 'eval_steps_per_second': 5.716, 'epoch': 0.25}\n",
      "{'loss': 1.5363, 'learning_rate': 3.899423416752531e-05, 'epoch': 0.38}\n",
      "{'eval_loss': 1.5171172618865967, 'eval_f1': 0.06872727272727272, 'eval_runtime': 86.9496, 'eval_samples_per_second': 45.67, 'eval_steps_per_second': 5.716, 'epoch': 0.38}\n",
      "{'loss': 1.546, 'learning_rate': 3.712185184890794e-05, 'epoch': 0.5}\n",
      "{'eval_loss': 1.5062698125839233, 'eval_f1': 0.06872727272727272, 'eval_runtime': 86.8199, 'eval_samples_per_second': 45.738, 'eval_steps_per_second': 5.724, 'epoch': 0.5}\n",
      "{'loss': 1.5475, 'learning_rate': 3.524946953029057e-05, 'epoch': 0.63}\n",
      "{'eval_loss': 1.5081791877746582, 'eval_f1': 0.06872727272727272, 'eval_runtime': 86.8151, 'eval_samples_per_second': 45.741, 'eval_steps_per_second': 5.725, 'epoch': 0.63}\n",
      "{'loss': 1.5213, 'learning_rate': 3.337708721167321e-05, 'epoch': 0.76}\n",
      "{'eval_loss': 1.5145598649978638, 'eval_f1': 0.06872727272727272, 'eval_runtime': 86.8538, 'eval_samples_per_second': 45.721, 'eval_steps_per_second': 5.722, 'epoch': 0.76}\n",
      "{'loss': 1.5103, 'learning_rate': 3.150470489305583e-05, 'epoch': 0.88}\n",
      "{'eval_loss': 1.5069425106048584, 'eval_f1': 0.06872727272727272, 'eval_runtime': 86.8661, 'eval_samples_per_second': 45.714, 'eval_steps_per_second': 5.721, 'epoch': 0.88}\n",
      "{'loss': 1.4606, 'learning_rate': 2.963232257443847e-05, 'epoch': 1.01}\n",
      "{'eval_loss': 1.5168547630310059, 'eval_f1': 0.06872727272727272, 'eval_runtime': 86.8064, 'eval_samples_per_second': 45.745, 'eval_steps_per_second': 5.725, 'epoch': 1.01}\n",
      "{'loss': 1.5138, 'learning_rate': 2.77599402558211e-05, 'epoch': 1.13}\n",
      "{'eval_loss': 1.507920265197754, 'eval_f1': 0.06872727272727272, 'eval_runtime': 86.7716, 'eval_samples_per_second': 45.764, 'eval_steps_per_second': 5.728, 'epoch': 1.13}\n",
      "{'loss': 1.4875, 'learning_rate': 2.5887557937203733e-05, 'epoch': 1.26}\n",
      "{'eval_loss': 1.515178918838501, 'eval_f1': 0.06872727272727272, 'eval_runtime': 86.7975, 'eval_samples_per_second': 45.75, 'eval_steps_per_second': 5.726, 'epoch': 1.26}\n",
      "{'loss': 1.4545, 'learning_rate': 2.4015175618586364e-05, 'epoch': 1.39}\n",
      "{'eval_loss': 1.5105098485946655, 'eval_f1': 0.06872727272727272, 'eval_runtime': 86.9084, 'eval_samples_per_second': 45.692, 'eval_steps_per_second': 5.719, 'epoch': 1.39}\n",
      "{'loss': 1.5199, 'learning_rate': 2.2142793299969e-05, 'epoch': 1.51}\n",
      "{'eval_loss': 1.507135033607483, 'eval_f1': 0.06872727272727272, 'eval_runtime': 86.881, 'eval_samples_per_second': 45.706, 'eval_steps_per_second': 5.72, 'epoch': 1.51}\n",
      "{'loss': 1.5308, 'learning_rate': 2.027041098135163e-05, 'epoch': 1.64}\n",
      "{'eval_loss': 1.5067917108535767, 'eval_f1': 0.06872727272727272, 'eval_runtime': 86.8541, 'eval_samples_per_second': 45.72, 'eval_steps_per_second': 5.722, 'epoch': 1.64}\n",
      "{'loss': 1.5296, 'learning_rate': 1.839802866273426e-05, 'epoch': 1.76}\n",
      "{'eval_loss': 1.5084182024002075, 'eval_f1': 0.06872727272727272, 'eval_runtime': 86.6693, 'eval_samples_per_second': 45.818, 'eval_steps_per_second': 5.734, 'epoch': 1.76}\n",
      "{'loss': 1.5405, 'learning_rate': 1.652564634411689e-05, 'epoch': 1.89}\n",
      "{'eval_loss': 1.5037931203842163, 'eval_f1': 0.06872727272727272, 'eval_runtime': 86.5915, 'eval_samples_per_second': 45.859, 'eval_steps_per_second': 5.74, 'epoch': 1.89}\n",
      "{'loss': 1.4833, 'learning_rate': 1.4653264025499523e-05, 'epoch': 2.01}\n",
      "{'eval_loss': 1.5123034715652466, 'eval_f1': 0.06872727272727272, 'eval_runtime': 86.5278, 'eval_samples_per_second': 45.893, 'eval_steps_per_second': 5.744, 'epoch': 2.01}\n",
      "{'loss': 1.5063, 'learning_rate': 1.2780881706882155e-05, 'epoch': 2.14}\n",
      "{'eval_loss': 1.5084381103515625, 'eval_f1': 0.06872727272727272, 'eval_runtime': 86.5847, 'eval_samples_per_second': 45.863, 'eval_steps_per_second': 5.74, 'epoch': 2.14}\n",
      "{'loss': 1.5246, 'learning_rate': 1.0908499388264788e-05, 'epoch': 2.27}\n",
      "{'eval_loss': 1.5074893236160278, 'eval_f1': 0.06872727272727272, 'eval_runtime': 86.7215, 'eval_samples_per_second': 45.79, 'eval_steps_per_second': 5.731, 'epoch': 2.27}\n",
      "{'loss': 1.5083, 'learning_rate': 9.03611706964742e-06, 'epoch': 2.39}\n",
      "{'eval_loss': 1.5093841552734375, 'eval_f1': 0.06872727272727272, 'eval_runtime': 86.8027, 'eval_samples_per_second': 45.747, 'eval_steps_per_second': 5.726, 'epoch': 2.39}\n",
      "{'loss': 1.4999, 'learning_rate': 7.163734751030051e-06, 'epoch': 2.52}\n",
      "{'eval_loss': 1.5089545249938965, 'eval_f1': 0.06872727272727272, 'eval_runtime': 87.0764, 'eval_samples_per_second': 45.604, 'eval_steps_per_second': 5.708, 'epoch': 2.52}\n",
      "{'loss': 1.4671, 'learning_rate': 5.291352432412683e-06, 'epoch': 2.64}\n",
      "{'eval_loss': 1.5100032091140747, 'eval_f1': 0.06872727272727272, 'eval_runtime': 87.1407, 'eval_samples_per_second': 45.57, 'eval_steps_per_second': 5.703, 'epoch': 2.64}\n",
      "{'loss': 1.5279, 'learning_rate': 3.4189701137953145e-06, 'epoch': 2.77}\n",
      "{'eval_loss': 1.5080187320709229, 'eval_f1': 0.06872727272727272, 'eval_runtime': 87.1182, 'eval_samples_per_second': 45.582, 'eval_steps_per_second': 5.705, 'epoch': 2.77}\n",
      "{'loss': 1.5247, 'learning_rate': 1.5465877951779462e-06, 'epoch': 2.9}\n",
      "{'eval_loss': 1.5064257383346558, 'eval_f1': 0.06872727272727272, 'eval_runtime': 87.1569, 'eval_samples_per_second': 45.562, 'eval_steps_per_second': 5.702, 'epoch': 2.9}\n"
     ]
    },
    {
     "name": "stderr",
     "output_type": "stream",
     "text": [
      "[I 2023-07-30 23:23:50,027] Trial 4 finished with value: 0.06872727272727272 and parameters: {'num_trial_epochs': 3, 'learning_rate': 4.4611381123377416e-05, 'batch_size': 18}. Best is trial 3 with value: 0.33702616029736776.\n"
     ]
    },
    {
     "name": "stdout",
     "output_type": "stream",
     "text": [
      "{'train_runtime': 5399.9818, 'train_samples_per_second': 8.823, 'train_steps_per_second': 2.206, 'train_loss': 1.511507978129525, 'epoch': 3.0}\n",
      "GPU on: True\n"
     ]
    },
    {
     "name": "stderr",
     "output_type": "stream",
     "text": [
      "C:\\ProgramData\\anaconda3\\lib\\site-packages\\transformers\\optimization.py:411: FutureWarning: This implementation of AdamW is deprecated and will be removed in a future version. Use the PyTorch implementation torch.optim.AdamW instead, or set `no_deprecation_warning=True` to disable this warning\n",
      "  warnings.warn(\n"
     ]
    },
    {
     "name": "stdout",
     "output_type": "stream",
     "text": [
      "{'loss': 1.5096, 'learning_rate': 3.643805413617155e-05, 'epoch': 0.13}\n",
      "{'eval_loss': 1.4928205013275146, 'eval_f1': 0.06872727272727272, 'eval_runtime': 89.4984, 'eval_samples_per_second': 44.37, 'eval_steps_per_second': 5.553, 'epoch': 0.13}\n",
      "{'loss': 1.5229, 'learning_rate': 3.484171425462544e-05, 'epoch': 0.25}\n",
      "{'eval_loss': 1.5218861103057861, 'eval_f1': 0.06872727272727272, 'eval_runtime': 88.8442, 'eval_samples_per_second': 44.696, 'eval_steps_per_second': 5.594, 'epoch': 0.25}\n",
      "{'loss': 1.5306, 'learning_rate': 3.324537437307933e-05, 'epoch': 0.38}\n",
      "{'eval_loss': 1.5251365900039673, 'eval_f1': 0.06872727272727272, 'eval_runtime': 88.8593, 'eval_samples_per_second': 44.689, 'eval_steps_per_second': 5.593, 'epoch': 0.38}\n",
      "{'loss': 1.5421, 'learning_rate': 3.164903449153322e-05, 'epoch': 0.5}\n",
      "{'eval_loss': 1.50568425655365, 'eval_f1': 0.06872727272727272, 'eval_runtime': 86.172, 'eval_samples_per_second': 46.082, 'eval_steps_per_second': 5.768, 'epoch': 0.5}\n",
      "{'loss': 1.5456, 'learning_rate': 3.0052694609987102e-05, 'epoch': 0.63}\n",
      "{'eval_loss': 1.507917881011963, 'eval_f1': 0.06872727272727272, 'eval_runtime': 86.1204, 'eval_samples_per_second': 46.11, 'eval_steps_per_second': 5.771, 'epoch': 0.63}\n",
      "{'loss': 1.5205, 'learning_rate': 2.8456354728440994e-05, 'epoch': 0.76}\n",
      "{'eval_loss': 1.5167299509048462, 'eval_f1': 0.06872727272727272, 'eval_runtime': 85.9295, 'eval_samples_per_second': 46.212, 'eval_steps_per_second': 5.784, 'epoch': 0.76}\n",
      "{'loss': 1.5089, 'learning_rate': 2.686001484689488e-05, 'epoch': 0.88}\n",
      "{'eval_loss': 1.5076236724853516, 'eval_f1': 0.06872727272727272, 'eval_runtime': 85.8913, 'eval_samples_per_second': 46.233, 'eval_steps_per_second': 5.786, 'epoch': 0.88}\n",
      "{'loss': 1.46, 'learning_rate': 2.526367496534877e-05, 'epoch': 1.01}\n",
      "{'eval_loss': 1.5152837038040161, 'eval_f1': 0.06872727272727272, 'eval_runtime': 85.9229, 'eval_samples_per_second': 46.216, 'eval_steps_per_second': 5.784, 'epoch': 1.01}\n",
      "{'loss': 1.5136, 'learning_rate': 2.3667335083802657e-05, 'epoch': 1.13}\n",
      "{'eval_loss': 1.512976884841919, 'eval_f1': 0.06872727272727272, 'eval_runtime': 85.9487, 'eval_samples_per_second': 46.202, 'eval_steps_per_second': 5.783, 'epoch': 1.13}\n",
      "{'loss': 1.4868, 'learning_rate': 2.2070995202256545e-05, 'epoch': 1.26}\n",
      "{'eval_loss': 1.5196144580841064, 'eval_f1': 0.06872727272727272, 'eval_runtime': 85.74, 'eval_samples_per_second': 46.314, 'eval_steps_per_second': 5.797, 'epoch': 1.26}\n",
      "{'loss': 1.4522, 'learning_rate': 2.047465532071043e-05, 'epoch': 1.39}\n",
      "{'eval_loss': 1.5078283548355103, 'eval_f1': 0.06872727272727272, 'eval_runtime': 85.6943, 'eval_samples_per_second': 46.339, 'eval_steps_per_second': 5.8, 'epoch': 1.39}\n",
      "{'loss': 1.5187, 'learning_rate': 1.8878315439164323e-05, 'epoch': 1.51}\n",
      "{'eval_loss': 1.507206678390503, 'eval_f1': 0.06872727272727272, 'eval_runtime': 85.6717, 'eval_samples_per_second': 46.351, 'eval_steps_per_second': 5.801, 'epoch': 1.51}\n",
      "{'loss': 1.5248, 'learning_rate': 1.728197555761821e-05, 'epoch': 1.64}\n",
      "{'eval_loss': 1.5057471990585327, 'eval_f1': 0.06872727272727272, 'eval_runtime': 85.6119, 'eval_samples_per_second': 46.384, 'eval_steps_per_second': 5.805, 'epoch': 1.64}\n",
      "{'loss': 1.5287, 'learning_rate': 1.5685635676072097e-05, 'epoch': 1.76}\n",
      "{'eval_loss': 1.5086506605148315, 'eval_f1': 0.06872727272727272, 'eval_runtime': 85.6057, 'eval_samples_per_second': 46.387, 'eval_steps_per_second': 5.806, 'epoch': 1.76}\n",
      "{'loss': 1.5387, 'learning_rate': 1.4089295794525983e-05, 'epoch': 1.89}\n",
      "{'eval_loss': 1.5035719871520996, 'eval_f1': 0.06872727272727272, 'eval_runtime': 85.4575, 'eval_samples_per_second': 46.468, 'eval_steps_per_second': 5.816, 'epoch': 1.89}\n",
      "{'loss': 1.4856, 'learning_rate': 1.2492955912979872e-05, 'epoch': 2.01}\n",
      "{'eval_loss': 1.5126099586486816, 'eval_f1': 0.06872727272727272, 'eval_runtime': 85.4893, 'eval_samples_per_second': 46.45, 'eval_steps_per_second': 5.814, 'epoch': 2.01}\n",
      "{'loss': 1.5038, 'learning_rate': 1.089661603143376e-05, 'epoch': 2.14}\n",
      "{'eval_loss': 1.5084644556045532, 'eval_f1': 0.06872727272727272, 'eval_runtime': 85.4394, 'eval_samples_per_second': 46.477, 'eval_steps_per_second': 5.817, 'epoch': 2.14}\n",
      "{'loss': 1.5195, 'learning_rate': 9.30027614988765e-06, 'epoch': 2.27}\n",
      "{'eval_loss': 1.5052568912506104, 'eval_f1': 0.06872727272727272, 'eval_runtime': 85.4033, 'eval_samples_per_second': 46.497, 'eval_steps_per_second': 5.819, 'epoch': 2.27}\n",
      "{'loss': 1.5025, 'learning_rate': 7.703936268341538e-06, 'epoch': 2.39}\n",
      "{'eval_loss': 1.5100892782211304, 'eval_f1': 0.06872727272727272, 'eval_runtime': 85.3996, 'eval_samples_per_second': 46.499, 'eval_steps_per_second': 5.82, 'epoch': 2.39}\n",
      "{'loss': 1.4939, 'learning_rate': 6.107596386795425e-06, 'epoch': 2.52}\n",
      "{'eval_loss': 1.5093212127685547, 'eval_f1': 0.06872727272727272, 'eval_runtime': 85.3445, 'eval_samples_per_second': 46.529, 'eval_steps_per_second': 5.823, 'epoch': 2.52}\n",
      "{'loss': 1.4653, 'learning_rate': 4.511256505249313e-06, 'epoch': 2.64}\n",
      "{'eval_loss': 1.5074373483657837, 'eval_f1': 0.06872727272727272, 'eval_runtime': 85.3555, 'eval_samples_per_second': 46.523, 'eval_steps_per_second': 5.823, 'epoch': 2.64}\n",
      "{'loss': 1.5188, 'learning_rate': 2.914916623703201e-06, 'epoch': 2.77}\n",
      "{'eval_loss': 1.506088137626648, 'eval_f1': 0.06872727272727272, 'eval_runtime': 85.3291, 'eval_samples_per_second': 46.537, 'eval_steps_per_second': 5.825, 'epoch': 2.77}\n",
      "{'loss': 1.5208, 'learning_rate': 1.3185767421570885e-06, 'epoch': 2.9}\n",
      "{'eval_loss': 1.5036072731018066, 'eval_f1': 0.06872727272727272, 'eval_runtime': 85.3206, 'eval_samples_per_second': 46.542, 'eval_steps_per_second': 5.825, 'epoch': 2.9}\n"
     ]
    },
    {
     "name": "stderr",
     "output_type": "stream",
     "text": [
      "[I 2023-07-31 00:53:20,108] Trial 5 finished with value: 0.06872727272727272 and parameters: {'num_trial_epochs': 4, 'learning_rate': 3.8034394017717666e-05, 'batch_size': 22}. Best is trial 3 with value: 0.33702616029736776.\n"
     ]
    },
    {
     "name": "stdout",
     "output_type": "stream",
     "text": [
      "{'train_runtime': 5368.3674, 'train_samples_per_second': 8.875, 'train_steps_per_second': 2.219, 'train_loss': 1.5088595862073602, 'epoch': 3.0}\n",
      "GPU on: True\n"
     ]
    },
    {
     "name": "stderr",
     "output_type": "stream",
     "text": [
      "C:\\ProgramData\\anaconda3\\lib\\site-packages\\transformers\\optimization.py:411: FutureWarning: This implementation of AdamW is deprecated and will be removed in a future version. Use the PyTorch implementation torch.optim.AdamW instead, or set `no_deprecation_warning=True` to disable this warning\n",
      "  warnings.warn(\n"
     ]
    },
    {
     "name": "stdout",
     "output_type": "stream",
     "text": [
      "{'loss': 1.5114, 'learning_rate': 2.5825571302843555e-05, 'epoch': 0.13}\n",
      "{'eval_loss': 1.4776793718338013, 'eval_f1': 0.06872727272727272, 'eval_runtime': 89.1868, 'eval_samples_per_second': 44.525, 'eval_steps_per_second': 5.573, 'epoch': 0.13}\n",
      "{'loss': 1.5003, 'learning_rate': 2.4694161011822633e-05, 'epoch': 0.25}\n",
      "{'eval_loss': 1.5131895542144775, 'eval_f1': 0.07170963756160333, 'eval_runtime': 89.1717, 'eval_samples_per_second': 44.532, 'eval_steps_per_second': 5.574, 'epoch': 0.25}\n",
      "{'loss': 1.5053, 'learning_rate': 2.356275072080171e-05, 'epoch': 0.38}\n",
      "{'eval_loss': 1.4925878047943115, 'eval_f1': 0.06872727272727272, 'eval_runtime': 89.1137, 'eval_samples_per_second': 44.561, 'eval_steps_per_second': 5.577, 'epoch': 0.38}\n",
      "{'loss': 1.5018, 'learning_rate': 2.243134042978079e-05, 'epoch': 0.5}\n",
      "{'eval_loss': 1.459825038909912, 'eval_f1': 0.06900601416418324, 'eval_runtime': 89.1152, 'eval_samples_per_second': 44.56, 'eval_steps_per_second': 5.577, 'epoch': 0.5}\n",
      "{'loss': 1.5027, 'learning_rate': 2.1299930138759868e-05, 'epoch': 0.63}\n",
      "{'eval_loss': 1.4506001472473145, 'eval_f1': 0.06929470260735351, 'eval_runtime': 89.1145, 'eval_samples_per_second': 44.561, 'eval_steps_per_second': 5.577, 'epoch': 0.63}\n",
      "{'loss': 1.4716, 'learning_rate': 2.0168519847738946e-05, 'epoch': 0.76}\n",
      "{'eval_loss': 1.430292010307312, 'eval_f1': 0.06872727272727272, 'eval_runtime': 89.2161, 'eval_samples_per_second': 44.51, 'eval_steps_per_second': 5.571, 'epoch': 0.76}\n",
      "{'loss': 1.4366, 'learning_rate': 1.9037109556718024e-05, 'epoch': 0.88}\n",
      "{'eval_loss': 1.4302891492843628, 'eval_f1': 0.06872727272727272, 'eval_runtime': 89.1621, 'eval_samples_per_second': 44.537, 'eval_steps_per_second': 5.574, 'epoch': 0.88}\n",
      "{'loss': 1.3791, 'learning_rate': 1.7905699265697106e-05, 'epoch': 1.01}\n",
      "{'eval_loss': 1.4304215908050537, 'eval_f1': 0.09029819932675956, 'eval_runtime': 89.2039, 'eval_samples_per_second': 44.516, 'eval_steps_per_second': 5.572, 'epoch': 1.01}\n",
      "{'loss': 1.39, 'learning_rate': 1.677428897467618e-05, 'epoch': 1.13}\n",
      "{'eval_loss': 1.4070965051651, 'eval_f1': 0.09079469993963771, 'eval_runtime': 89.1761, 'eval_samples_per_second': 44.53, 'eval_steps_per_second': 5.573, 'epoch': 1.13}\n",
      "{'loss': 1.3429, 'learning_rate': 1.5642878683655263e-05, 'epoch': 1.26}\n",
      "{'eval_loss': 1.4139072895050049, 'eval_f1': 0.12832945556635822, 'eval_runtime': 89.1685, 'eval_samples_per_second': 44.534, 'eval_steps_per_second': 5.574, 'epoch': 1.26}\n",
      "{'loss': 1.3264, 'learning_rate': 1.451146839263434e-05, 'epoch': 1.39}\n",
      "{'eval_loss': 1.3556522130966187, 'eval_f1': 0.12914561485126697, 'eval_runtime': 89.2328, 'eval_samples_per_second': 44.502, 'eval_steps_per_second': 5.57, 'epoch': 1.39}\n",
      "{'loss': 1.3436, 'learning_rate': 1.3380058101613419e-05, 'epoch': 1.51}\n",
      "{'eval_loss': 1.3608856201171875, 'eval_f1': 0.19166147691873733, 'eval_runtime': 89.2437, 'eval_samples_per_second': 44.496, 'eval_steps_per_second': 5.569, 'epoch': 1.51}\n",
      "{'loss': 1.3599, 'learning_rate': 1.2248647810592497e-05, 'epoch': 1.64}\n",
      "{'eval_loss': 1.3722931146621704, 'eval_f1': 0.2098406984888813, 'eval_runtime': 89.2668, 'eval_samples_per_second': 44.485, 'eval_steps_per_second': 5.568, 'epoch': 1.64}\n",
      "{'loss': 1.3282, 'learning_rate': 1.1117237519571574e-05, 'epoch': 1.76}\n",
      "{'eval_loss': 1.3270013332366943, 'eval_f1': 0.1843585098046336, 'eval_runtime': 89.2091, 'eval_samples_per_second': 44.513, 'eval_steps_per_second': 5.571, 'epoch': 1.76}\n",
      "{'loss': 1.3199, 'learning_rate': 9.985827228550652e-06, 'epoch': 1.89}\n",
      "{'eval_loss': 1.3176286220550537, 'eval_f1': 0.2114149844729003, 'eval_runtime': 89.1034, 'eval_samples_per_second': 44.566, 'eval_steps_per_second': 5.578, 'epoch': 1.89}\n",
      "{'loss': 1.2634, 'learning_rate': 8.854416937529732e-06, 'epoch': 2.01}\n",
      "{'eval_loss': 1.3067837953567505, 'eval_f1': 0.21270713702804706, 'eval_runtime': 89.0966, 'eval_samples_per_second': 44.57, 'eval_steps_per_second': 5.578, 'epoch': 2.01}\n",
      "{'loss': 1.1259, 'learning_rate': 7.72300664650881e-06, 'epoch': 2.14}\n",
      "{'eval_loss': 1.3324148654937744, 'eval_f1': 0.2677177077391043, 'eval_runtime': 89.0789, 'eval_samples_per_second': 44.578, 'eval_steps_per_second': 5.579, 'epoch': 2.14}\n",
      "{'loss': 1.165, 'learning_rate': 6.5915963554878894e-06, 'epoch': 2.27}\n",
      "{'eval_loss': 1.310768961906433, 'eval_f1': 0.2712360675112452, 'eval_runtime': 89.1394, 'eval_samples_per_second': 44.548, 'eval_steps_per_second': 5.576, 'epoch': 2.27}\n",
      "{'loss': 1.1266, 'learning_rate': 5.460186064466968e-06, 'epoch': 2.39}\n",
      "{'eval_loss': 1.354161262512207, 'eval_f1': 0.26234688340227164, 'eval_runtime': 89.2302, 'eval_samples_per_second': 44.503, 'eval_steps_per_second': 5.57, 'epoch': 2.39}\n",
      "{'loss': 1.0821, 'learning_rate': 4.328775773446046e-06, 'epoch': 2.52}\n",
      "{'eval_loss': 1.3365929126739502, 'eval_f1': 0.28442333600375397, 'eval_runtime': 89.246, 'eval_samples_per_second': 44.495, 'eval_steps_per_second': 5.569, 'epoch': 2.52}\n",
      "{'loss': 1.079, 'learning_rate': 3.197365482425124e-06, 'epoch': 2.64}\n",
      "{'eval_loss': 1.3207849264144897, 'eval_f1': 0.2771283957103281, 'eval_runtime': 89.2132, 'eval_samples_per_second': 44.511, 'eval_steps_per_second': 5.571, 'epoch': 2.64}\n",
      "{'loss': 1.0722, 'learning_rate': 2.065955191404203e-06, 'epoch': 2.77}\n",
      "{'eval_loss': 1.3393189907073975, 'eval_f1': 0.28755976111220805, 'eval_runtime': 89.2243, 'eval_samples_per_second': 44.506, 'eval_steps_per_second': 5.57, 'epoch': 2.77}\n",
      "{'loss': 1.0881, 'learning_rate': 9.345449003832812e-07, 'epoch': 2.9}\n",
      "{'eval_loss': 1.337257742881775, 'eval_f1': 0.2935644379591127, 'eval_runtime': 89.2703, 'eval_samples_per_second': 44.483, 'eval_steps_per_second': 5.567, 'epoch': 2.9}\n"
     ]
    },
    {
     "name": "stderr",
     "output_type": "stream",
     "text": [
      "[I 2023-07-31 02:24:14,256] Trial 6 finished with value: 0.2935644379591127 and parameters: {'num_trial_epochs': 3, 'learning_rate': 2.6956981593864477e-05, 'batch_size': 18}. Best is trial 3 with value: 0.33702616029736776.\n"
     ]
    },
    {
     "name": "stdout",
     "output_type": "stream",
     "text": [
      "{'train_runtime': 5452.2516, 'train_samples_per_second': 8.739, 'train_steps_per_second': 2.185, 'train_loss': 1.3071799481994788, 'epoch': 3.0}\n",
      "GPU on: True\n"
     ]
    },
    {
     "name": "stderr",
     "output_type": "stream",
     "text": [
      "C:\\ProgramData\\anaconda3\\lib\\site-packages\\transformers\\optimization.py:411: FutureWarning: This implementation of AdamW is deprecated and will be removed in a future version. Use the PyTorch implementation torch.optim.AdamW instead, or set `no_deprecation_warning=True` to disable this warning\n",
      "  warnings.warn(\n"
     ]
    },
    {
     "name": "stdout",
     "output_type": "stream",
     "text": [
      "{'loss': 1.5153, 'learning_rate': 4.416450102716119e-05, 'epoch': 0.13}\n",
      "{'eval_loss': 1.5277031660079956, 'eval_f1': 0.06872727272727272, 'eval_runtime': 88.5999, 'eval_samples_per_second': 44.819, 'eval_steps_per_second': 5.609, 'epoch': 0.13}\n",
      "{'loss': 1.526, 'learning_rate': 4.222966789708316e-05, 'epoch': 0.25}\n",
      "{'eval_loss': 1.526636004447937, 'eval_f1': 0.06872727272727272, 'eval_runtime': 88.6467, 'eval_samples_per_second': 44.796, 'eval_steps_per_second': 5.607, 'epoch': 0.25}\n",
      "{'loss': 1.54, 'learning_rate': 4.0294834767005124e-05, 'epoch': 0.38}\n",
      "{'eval_loss': 1.5211024284362793, 'eval_f1': 0.06872727272727272, 'eval_runtime': 86.805, 'eval_samples_per_second': 45.746, 'eval_steps_per_second': 5.725, 'epoch': 0.38}\n",
      "{'loss': 1.5466, 'learning_rate': 3.836000163692709e-05, 'epoch': 0.5}\n",
      "{'eval_loss': 1.507489800453186, 'eval_f1': 0.06872727272727272, 'eval_runtime': 86.5585, 'eval_samples_per_second': 45.876, 'eval_steps_per_second': 5.742, 'epoch': 0.5}\n",
      "{'loss': 1.5485, 'learning_rate': 3.6425168506849056e-05, 'epoch': 0.63}\n",
      "{'eval_loss': 1.5085262060165405, 'eval_f1': 0.06872727272727272, 'eval_runtime': 86.6163, 'eval_samples_per_second': 45.846, 'eval_steps_per_second': 5.738, 'epoch': 0.63}\n",
      "{'loss': 1.5228, 'learning_rate': 3.449033537677102e-05, 'epoch': 0.76}\n",
      "{'eval_loss': 1.5172579288482666, 'eval_f1': 0.06872727272727272, 'eval_runtime': 86.8565, 'eval_samples_per_second': 45.719, 'eval_steps_per_second': 5.722, 'epoch': 0.76}\n",
      "{'loss': 1.5105, 'learning_rate': 3.255550224669299e-05, 'epoch': 0.88}\n",
      "{'eval_loss': 1.5061235427856445, 'eval_f1': 0.06872727272727272, 'eval_runtime': 86.9256, 'eval_samples_per_second': 45.683, 'eval_steps_per_second': 5.718, 'epoch': 0.88}\n",
      "{'loss': 1.4612, 'learning_rate': 3.062066911661496e-05, 'epoch': 1.01}\n",
      "{'eval_loss': 1.5168179273605347, 'eval_f1': 0.06872727272727272, 'eval_runtime': 86.3243, 'eval_samples_per_second': 46.001, 'eval_steps_per_second': 5.757, 'epoch': 1.01}\n",
      "{'loss': 1.5143, 'learning_rate': 2.8685835986536924e-05, 'epoch': 1.13}\n",
      "{'eval_loss': 1.5082308053970337, 'eval_f1': 0.06872727272727272, 'eval_runtime': 86.331, 'eval_samples_per_second': 45.997, 'eval_steps_per_second': 5.757, 'epoch': 1.13}\n",
      "{'loss': 1.4877, 'learning_rate': 2.6751002856458893e-05, 'epoch': 1.26}\n",
      "{'eval_loss': 1.5156285762786865, 'eval_f1': 0.06872727272727272, 'eval_runtime': 86.2761, 'eval_samples_per_second': 46.027, 'eval_steps_per_second': 5.761, 'epoch': 1.26}\n",
      "{'loss': 1.4556, 'learning_rate': 2.4816169726380856e-05, 'epoch': 1.39}\n",
      "{'eval_loss': 1.5099377632141113, 'eval_f1': 0.06872727272727272, 'eval_runtime': 86.3067, 'eval_samples_per_second': 46.01, 'eval_steps_per_second': 5.759, 'epoch': 1.39}\n",
      "{'loss': 1.5199, 'learning_rate': 2.2881336596302825e-05, 'epoch': 1.51}\n",
      "{'eval_loss': 1.5073552131652832, 'eval_f1': 0.06872727272727272, 'eval_runtime': 86.3836, 'eval_samples_per_second': 45.969, 'eval_steps_per_second': 5.753, 'epoch': 1.51}\n",
      "{'loss': 1.5316, 'learning_rate': 2.094650346622479e-05, 'epoch': 1.64}\n",
      "{'eval_loss': 1.506773591041565, 'eval_f1': 0.06872727272727272, 'eval_runtime': 86.1523, 'eval_samples_per_second': 46.093, 'eval_steps_per_second': 5.769, 'epoch': 1.64}\n",
      "{'loss': 1.5295, 'learning_rate': 1.9011670336146757e-05, 'epoch': 1.76}\n",
      "{'eval_loss': 1.508624792098999, 'eval_f1': 0.06872727272727272, 'eval_runtime': 86.161, 'eval_samples_per_second': 46.088, 'eval_steps_per_second': 5.768, 'epoch': 1.76}\n",
      "{'loss': 1.5405, 'learning_rate': 1.7076837206068723e-05, 'epoch': 1.89}\n",
      "{'eval_loss': 1.503783941268921, 'eval_f1': 0.06872727272727272, 'eval_runtime': 86.1735, 'eval_samples_per_second': 46.081, 'eval_steps_per_second': 5.767, 'epoch': 1.89}\n",
      "{'loss': 1.4834, 'learning_rate': 1.514200407599069e-05, 'epoch': 2.01}\n",
      "{'eval_loss': 1.5124753713607788, 'eval_f1': 0.06872727272727272, 'eval_runtime': 86.1851, 'eval_samples_per_second': 46.075, 'eval_steps_per_second': 5.767, 'epoch': 2.01}\n",
      "{'loss': 1.5064, 'learning_rate': 1.3207170945912655e-05, 'epoch': 2.14}\n",
      "{'eval_loss': 1.5087864398956299, 'eval_f1': 0.06872727272727272, 'eval_runtime': 86.1009, 'eval_samples_per_second': 46.12, 'eval_steps_per_second': 5.772, 'epoch': 2.14}\n",
      "{'loss': 1.5239, 'learning_rate': 1.1272337815834623e-05, 'epoch': 2.27}\n",
      "{'eval_loss': 1.5073624849319458, 'eval_f1': 0.06872727272727272, 'eval_runtime': 86.0268, 'eval_samples_per_second': 46.16, 'eval_steps_per_second': 5.777, 'epoch': 2.27}\n",
      "{'loss': 1.5085, 'learning_rate': 9.337504685756591e-06, 'epoch': 2.39}\n",
      "{'eval_loss': 1.5100069046020508, 'eval_f1': 0.06872727272727272, 'eval_runtime': 86.0426, 'eval_samples_per_second': 46.152, 'eval_steps_per_second': 5.776, 'epoch': 2.39}\n",
      "{'loss': 1.4994, 'learning_rate': 7.402671555678557e-06, 'epoch': 2.52}\n",
      "{'eval_loss': 1.5097732543945312, 'eval_f1': 0.06872727272727272, 'eval_runtime': 86.0457, 'eval_samples_per_second': 46.15, 'eval_steps_per_second': 5.776, 'epoch': 2.52}\n",
      "{'loss': 1.4675, 'learning_rate': 5.467838425600523e-06, 'epoch': 2.64}\n",
      "{'eval_loss': 1.5104352235794067, 'eval_f1': 0.06872727272727272, 'eval_runtime': 86.0504, 'eval_samples_per_second': 46.147, 'eval_steps_per_second': 5.776, 'epoch': 2.64}\n",
      "{'loss': 1.5278, 'learning_rate': 3.5330052955224894e-06, 'epoch': 2.77}\n",
      "{'eval_loss': 1.508060097694397, 'eval_f1': 0.06872727272727272, 'eval_runtime': 86.1128, 'eval_samples_per_second': 46.114, 'eval_steps_per_second': 5.771, 'epoch': 2.77}\n",
      "{'loss': 1.5245, 'learning_rate': 1.5981721654444557e-06, 'epoch': 2.9}\n",
      "{'eval_loss': 1.5062255859375, 'eval_f1': 0.06872727272727272, 'eval_runtime': 85.942, 'eval_samples_per_second': 46.206, 'eval_steps_per_second': 5.783, 'epoch': 2.9}\n"
     ]
    },
    {
     "name": "stderr",
     "output_type": "stream",
     "text": [
      "[I 2023-07-31 03:53:51,255] Trial 7 finished with value: 0.06872727272727272 and parameters: {'num_trial_epochs': 4, 'learning_rate': 4.6099334157239226e-05, 'batch_size': 31}. Best is trial 3 with value: 0.33702616029736776.\n"
     ]
    },
    {
     "name": "stdout",
     "output_type": "stream",
     "text": [
      "{'train_runtime': 5375.0278, 'train_samples_per_second': 8.864, 'train_steps_per_second': 2.216, 'train_loss': 1.5122990169123278, 'epoch': 3.0}\n",
      "GPU on: True\n"
     ]
    },
    {
     "name": "stderr",
     "output_type": "stream",
     "text": [
      "C:\\ProgramData\\anaconda3\\lib\\site-packages\\transformers\\optimization.py:411: FutureWarning: This implementation of AdamW is deprecated and will be removed in a future version. Use the PyTorch implementation torch.optim.AdamW instead, or set `no_deprecation_warning=True` to disable this warning\n",
      "  warnings.warn(\n"
     ]
    },
    {
     "name": "stdout",
     "output_type": "stream",
     "text": [
      "{'loss': 1.5024, 'learning_rate': 2.7492532233578824e-05, 'epoch': 0.13}\n",
      "{'eval_loss': 1.4925124645233154, 'eval_f1': 0.06872727272727272, 'eval_runtime': 89.2017, 'eval_samples_per_second': 44.517, 'eval_steps_per_second': 5.572, 'epoch': 0.13}\n",
      "{'loss': 1.5016, 'learning_rate': 2.6288092899767434e-05, 'epoch': 0.25}\n",
      "{'eval_loss': 1.4988723993301392, 'eval_f1': 0.08694155399314944, 'eval_runtime': 89.0061, 'eval_samples_per_second': 44.615, 'eval_steps_per_second': 5.584, 'epoch': 0.25}\n",
      "{'loss': 1.5057, 'learning_rate': 2.508365356595604e-05, 'epoch': 0.38}\n",
      "{'eval_loss': 1.5001749992370605, 'eval_f1': 0.06872727272727272, 'eval_runtime': 88.9576, 'eval_samples_per_second': 44.639, 'eval_steps_per_second': 5.587, 'epoch': 0.38}\n",
      "{'loss': 1.5067, 'learning_rate': 2.387921423214465e-05, 'epoch': 0.5}\n",
      "{'eval_loss': 1.4512449502944946, 'eval_f1': 0.07011930818419809, 'eval_runtime': 88.9309, 'eval_samples_per_second': 44.653, 'eval_steps_per_second': 5.589, 'epoch': 0.5}\n",
      "{'loss': 1.5011, 'learning_rate': 2.2674774898333258e-05, 'epoch': 0.63}\n",
      "{'eval_loss': 1.4623206853866577, 'eval_f1': 0.06870557116878823, 'eval_runtime': 88.9559, 'eval_samples_per_second': 44.64, 'eval_steps_per_second': 5.587, 'epoch': 0.63}\n",
      "{'loss': 1.4769, 'learning_rate': 2.1470335564521868e-05, 'epoch': 0.76}\n",
      "{'eval_loss': 1.4405674934387207, 'eval_f1': 0.07474975857275089, 'eval_runtime': 88.917, 'eval_samples_per_second': 44.66, 'eval_steps_per_second': 5.589, 'epoch': 0.76}\n",
      "{'loss': 1.4511, 'learning_rate': 2.0265896230710475e-05, 'epoch': 0.88}\n",
      "{'eval_loss': 1.437353253364563, 'eval_f1': 0.06873863448503885, 'eval_runtime': 88.8525, 'eval_samples_per_second': 44.692, 'eval_steps_per_second': 5.594, 'epoch': 0.88}\n",
      "{'loss': 1.3947, 'learning_rate': 1.9061456896899085e-05, 'epoch': 1.01}\n",
      "{'eval_loss': 1.4173959493637085, 'eval_f1': 0.09147678257509806, 'eval_runtime': 88.8526, 'eval_samples_per_second': 44.692, 'eval_steps_per_second': 5.594, 'epoch': 1.01}\n",
      "{'loss': 1.4002, 'learning_rate': 1.785701756308769e-05, 'epoch': 1.13}\n",
      "{'eval_loss': 1.4288781881332397, 'eval_f1': 0.06896188743729673, 'eval_runtime': 89.0234, 'eval_samples_per_second': 44.606, 'eval_steps_per_second': 5.583, 'epoch': 1.13}\n",
      "{'loss': 1.3716, 'learning_rate': 1.66525782292763e-05, 'epoch': 1.26}\n",
      "{'eval_loss': 1.4172022342681885, 'eval_f1': 0.12119741859490563, 'eval_runtime': 89.0005, 'eval_samples_per_second': 44.618, 'eval_steps_per_second': 5.584, 'epoch': 1.26}\n",
      "{'loss': 1.3381, 'learning_rate': 1.5448138895464908e-05, 'epoch': 1.39}\n",
      "{'eval_loss': 1.3757432699203491, 'eval_f1': 0.10391703811609217, 'eval_runtime': 89.0566, 'eval_samples_per_second': 44.59, 'eval_steps_per_second': 5.581, 'epoch': 1.39}\n",
      "{'loss': 1.3736, 'learning_rate': 1.4243699561653518e-05, 'epoch': 1.51}\n",
      "{'eval_loss': 1.4025908708572388, 'eval_f1': 0.13049007434726687, 'eval_runtime': 89.0001, 'eval_samples_per_second': 44.618, 'eval_steps_per_second': 5.584, 'epoch': 1.51}\n",
      "{'loss': 1.3908, 'learning_rate': 1.3039260227842127e-05, 'epoch': 1.64}\n",
      "{'eval_loss': 1.3433934450149536, 'eval_f1': 0.18321652959728052, 'eval_runtime': 88.9803, 'eval_samples_per_second': 44.628, 'eval_steps_per_second': 5.586, 'epoch': 1.64}\n",
      "{'loss': 1.3583, 'learning_rate': 1.1834820894030733e-05, 'epoch': 1.76}\n",
      "{'eval_loss': 1.3303619623184204, 'eval_f1': 0.16386120712763366, 'eval_runtime': 88.8931, 'eval_samples_per_second': 44.672, 'eval_steps_per_second': 5.591, 'epoch': 1.76}\n",
      "{'loss': 1.3413, 'learning_rate': 1.0630381560219342e-05, 'epoch': 1.89}\n",
      "{'eval_loss': 1.3121761083602905, 'eval_f1': 0.1823207061351967, 'eval_runtime': 88.9272, 'eval_samples_per_second': 44.655, 'eval_steps_per_second': 5.589, 'epoch': 1.89}\n",
      "{'loss': 1.2757, 'learning_rate': 9.42594222640795e-06, 'epoch': 2.01}\n",
      "{'eval_loss': 1.3286912441253662, 'eval_f1': 0.20826472464527232, 'eval_runtime': 88.829, 'eval_samples_per_second': 44.704, 'eval_steps_per_second': 5.595, 'epoch': 2.01}\n",
      "{'loss': 1.1553, 'learning_rate': 8.221502892596558e-06, 'epoch': 2.14}\n",
      "{'eval_loss': 1.3558655977249146, 'eval_f1': 0.24473893735915983, 'eval_runtime': 89.0129, 'eval_samples_per_second': 44.612, 'eval_steps_per_second': 5.583, 'epoch': 2.14}\n",
      "{'loss': 1.19, 'learning_rate': 7.0170635587851685e-06, 'epoch': 2.27}\n",
      "{'eval_loss': 1.3344368934631348, 'eval_f1': 0.27683665820241066, 'eval_runtime': 89.0152, 'eval_samples_per_second': 44.61, 'eval_steps_per_second': 5.583, 'epoch': 2.27}\n",
      "{'loss': 1.1719, 'learning_rate': 5.812624224973777e-06, 'epoch': 2.39}\n",
      "{'eval_loss': 1.3331971168518066, 'eval_f1': 0.30604057105761184, 'eval_runtime': 88.9442, 'eval_samples_per_second': 44.646, 'eval_steps_per_second': 5.588, 'epoch': 2.39}\n",
      "{'loss': 1.1332, 'learning_rate': 4.608184891162385e-06, 'epoch': 2.52}\n",
      "{'eval_loss': 1.2995446920394897, 'eval_f1': 0.3021127062249861, 'eval_runtime': 88.5102, 'eval_samples_per_second': 44.865, 'eval_steps_per_second': 5.615, 'epoch': 2.52}\n",
      "{'loss': 1.0863, 'learning_rate': 3.4037455573509928e-06, 'epoch': 2.64}\n",
      "{'eval_loss': 1.3212419748306274, 'eval_f1': 0.3255901448819173, 'eval_runtime': 88.6971, 'eval_samples_per_second': 44.77, 'eval_steps_per_second': 5.603, 'epoch': 2.64}\n",
      "{'loss': 1.1131, 'learning_rate': 2.199306223539601e-06, 'epoch': 2.77}\n",
      "{'eval_loss': 1.3292417526245117, 'eval_f1': 0.314981284636205, 'eval_runtime': 88.1241, 'eval_samples_per_second': 45.061, 'eval_steps_per_second': 5.64, 'epoch': 2.77}\n",
      "{'loss': 1.115, 'learning_rate': 9.948668897282095e-07, 'epoch': 2.9}\n",
      "{'eval_loss': 1.3272863626480103, 'eval_f1': 0.31087377399291427, 'eval_runtime': 88.329, 'eval_samples_per_second': 44.957, 'eval_steps_per_second': 5.627, 'epoch': 2.9}\n"
     ]
    },
    {
     "name": "stderr",
     "output_type": "stream",
     "text": [
      "[I 2023-07-31 05:24:31,701] Trial 8 finished with value: 0.31087377399291427 and parameters: {'num_trial_epochs': 3, 'learning_rate': 2.8696971567390218e-05, 'batch_size': 17}. Best is trial 3 with value: 0.33702616029736776.\n"
     ]
    },
    {
     "name": "stdout",
     "output_type": "stream",
     "text": [
      "{'train_runtime': 5438.577, 'train_samples_per_second': 8.761, 'train_steps_per_second': 2.19, 'train_loss': 1.3263223289913069, 'epoch': 3.0}\n",
      "GPU on: True\n"
     ]
    },
    {
     "name": "stderr",
     "output_type": "stream",
     "text": [
      "C:\\ProgramData\\anaconda3\\lib\\site-packages\\transformers\\optimization.py:411: FutureWarning: This implementation of AdamW is deprecated and will be removed in a future version. Use the PyTorch implementation torch.optim.AdamW instead, or set `no_deprecation_warning=True` to disable this warning\n",
      "  warnings.warn(\n"
     ]
    },
    {
     "name": "stdout",
     "output_type": "stream",
     "text": [
      "{'loss': 1.5068, 'learning_rate': 3.4078453024338334e-05, 'epoch': 0.13}\n",
      "{'eval_loss': 1.519049882888794, 'eval_f1': 0.06872727272727272, 'eval_runtime': 88.5085, 'eval_samples_per_second': 44.866, 'eval_steps_per_second': 5.615, 'epoch': 0.13}\n",
      "{'loss': 1.5057, 'learning_rate': 3.2585486537685466e-05, 'epoch': 0.25}\n",
      "{'eval_loss': 1.5150835514068604, 'eval_f1': 0.06872727272727272, 'eval_runtime': 88.378, 'eval_samples_per_second': 44.932, 'eval_steps_per_second': 5.624, 'epoch': 0.25}\n",
      "{'loss': 1.508, 'learning_rate': 3.10925200510326e-05, 'epoch': 0.38}\n",
      "{'eval_loss': 1.5012849569320679, 'eval_f1': 0.06872727272727272, 'eval_runtime': 88.1393, 'eval_samples_per_second': 45.054, 'eval_steps_per_second': 5.639, 'epoch': 0.38}\n",
      "{'loss': 1.5392, 'learning_rate': 2.9599553564379735e-05, 'epoch': 0.5}\n",
      "{'eval_loss': 1.4977359771728516, 'eval_f1': 0.06872727272727272, 'eval_runtime': 86.5616, 'eval_samples_per_second': 45.875, 'eval_steps_per_second': 5.742, 'epoch': 0.5}\n",
      "{'loss': 1.5504, 'learning_rate': 2.8106587077726864e-05, 'epoch': 0.63}\n",
      "{'eval_loss': 1.5062843561172485, 'eval_f1': 0.06872727272727272, 'eval_runtime': 86.3786, 'eval_samples_per_second': 45.972, 'eval_steps_per_second': 5.754, 'epoch': 0.63}\n",
      "{'loss': 1.5152, 'learning_rate': 2.6613620591074e-05, 'epoch': 0.76}\n",
      "{'eval_loss': 1.5045284032821655, 'eval_f1': 0.06872727272727272, 'eval_runtime': 87.3877, 'eval_samples_per_second': 45.441, 'eval_steps_per_second': 5.687, 'epoch': 0.76}\n",
      "{'loss': 1.4931, 'learning_rate': 2.5120654104421133e-05, 'epoch': 0.88}\n",
      "{'eval_loss': 1.5020244121551514, 'eval_f1': 0.06872727272727272, 'eval_runtime': 87.4961, 'eval_samples_per_second': 45.385, 'eval_steps_per_second': 5.68, 'epoch': 0.88}\n",
      "{'loss': 1.457, 'learning_rate': 2.362768761776827e-05, 'epoch': 1.01}\n",
      "{'eval_loss': 1.5194919109344482, 'eval_f1': 0.06872727272727272, 'eval_runtime': 84.7268, 'eval_samples_per_second': 46.868, 'eval_steps_per_second': 5.866, 'epoch': 1.01}\n",
      "{'loss': 1.5164, 'learning_rate': 2.21347211311154e-05, 'epoch': 1.13}\n",
      "{'eval_loss': 1.511043906211853, 'eval_f1': 0.06872727272727272, 'eval_runtime': 84.6339, 'eval_samples_per_second': 46.92, 'eval_steps_per_second': 5.872, 'epoch': 1.13}\n",
      "{'loss': 1.4876, 'learning_rate': 2.0641754644462535e-05, 'epoch': 1.26}\n",
      "{'eval_loss': 1.5179998874664307, 'eval_f1': 0.06872727272727272, 'eval_runtime': 84.9357, 'eval_samples_per_second': 46.753, 'eval_steps_per_second': 5.851, 'epoch': 1.26}\n",
      "{'loss': 1.4521, 'learning_rate': 1.9148788157809667e-05, 'epoch': 1.39}\n",
      "{'eval_loss': 1.5063475370407104, 'eval_f1': 0.06872727272727272, 'eval_runtime': 85.0662, 'eval_samples_per_second': 46.681, 'eval_steps_per_second': 5.843, 'epoch': 1.39}\n",
      "{'loss': 1.5233, 'learning_rate': 1.7655821671156804e-05, 'epoch': 1.51}\n",
      "{'eval_loss': 1.5092493295669556, 'eval_f1': 0.06872727272727272, 'eval_runtime': 85.0262, 'eval_samples_per_second': 46.703, 'eval_steps_per_second': 5.845, 'epoch': 1.51}\n",
      "{'loss': 1.5276, 'learning_rate': 1.6162855184503936e-05, 'epoch': 1.64}\n",
      "{'eval_loss': 1.5063058137893677, 'eval_f1': 0.06872727272727272, 'eval_runtime': 85.181, 'eval_samples_per_second': 46.618, 'eval_steps_per_second': 5.835, 'epoch': 1.64}\n",
      "{'loss': 1.5302, 'learning_rate': 1.4669888697851067e-05, 'epoch': 1.76}\n",
      "{'eval_loss': 1.5095809698104858, 'eval_f1': 0.06872727272727272, 'eval_runtime': 85.1117, 'eval_samples_per_second': 46.656, 'eval_steps_per_second': 5.839, 'epoch': 1.76}\n",
      "{'loss': 1.5403, 'learning_rate': 1.31769222111982e-05, 'epoch': 1.89}\n",
      "{'eval_loss': 1.5034116506576538, 'eval_f1': 0.06872727272727272, 'eval_runtime': 85.0056, 'eval_samples_per_second': 46.715, 'eval_steps_per_second': 5.847, 'epoch': 1.89}\n",
      "{'loss': 1.4867, 'learning_rate': 1.1683955724545334e-05, 'epoch': 2.01}\n",
      "{'eval_loss': 1.5133558511734009, 'eval_f1': 0.06872727272727272, 'eval_runtime': 85.0637, 'eval_samples_per_second': 46.683, 'eval_steps_per_second': 5.843, 'epoch': 2.01}\n",
      "{'loss': 1.505, 'learning_rate': 1.0190989237892467e-05, 'epoch': 2.14}\n",
      "{'eval_loss': 1.5079396963119507, 'eval_f1': 0.06872727272727272, 'eval_runtime': 85.2217, 'eval_samples_per_second': 46.596, 'eval_steps_per_second': 5.832, 'epoch': 2.14}\n",
      "{'loss': 1.5177, 'learning_rate': 8.698022751239602e-06, 'epoch': 2.27}\n",
      "{'eval_loss': 1.4915618896484375, 'eval_f1': 0.06872727272727272, 'eval_runtime': 86.3649, 'eval_samples_per_second': 45.979, 'eval_steps_per_second': 5.755, 'epoch': 2.27}\n",
      "{'loss': 1.4889, 'learning_rate': 7.205056264586735e-06, 'epoch': 2.39}\n",
      "{'eval_loss': 1.4842751026153564, 'eval_f1': 0.06872727272727272, 'eval_runtime': 86.9634, 'eval_samples_per_second': 45.663, 'eval_steps_per_second': 5.715, 'epoch': 2.39}\n",
      "{'loss': 1.4739, 'learning_rate': 5.712089777933869e-06, 'epoch': 2.52}\n",
      "{'eval_loss': 1.4877264499664307, 'eval_f1': 0.06872727272727272, 'eval_runtime': 86.8219, 'eval_samples_per_second': 45.737, 'eval_steps_per_second': 5.724, 'epoch': 2.52}\n",
      "{'loss': 1.4472, 'learning_rate': 4.219123291281001e-06, 'epoch': 2.64}\n",
      "{'eval_loss': 1.4756441116333008, 'eval_f1': 0.06872727272727272, 'eval_runtime': 86.9651, 'eval_samples_per_second': 45.662, 'eval_steps_per_second': 5.715, 'epoch': 2.64}\n",
      "{'loss': 1.4895, 'learning_rate': 2.7261568046281345e-06, 'epoch': 2.77}\n",
      "{'eval_loss': 1.4745303392410278, 'eval_f1': 0.06872727272727272, 'eval_runtime': 86.038, 'eval_samples_per_second': 46.154, 'eval_steps_per_second': 5.777, 'epoch': 2.77}\n",
      "{'loss': 1.4714, 'learning_rate': 1.2331903179752678e-06, 'epoch': 2.9}\n",
      "{'eval_loss': 1.474770188331604, 'eval_f1': 0.06872727272727272, 'eval_runtime': 86.797, 'eval_samples_per_second': 45.75, 'eval_steps_per_second': 5.726, 'epoch': 2.9}\n"
     ]
    },
    {
     "name": "stderr",
     "output_type": "stream",
     "text": [
      "[I 2023-07-31 06:53:55,108] Trial 9 finished with value: 0.06872727272727272 and parameters: {'num_trial_epochs': 4, 'learning_rate': 3.55714195109912e-05, 'batch_size': 26}. Best is trial 3 with value: 0.33702616029736776.\n"
     ]
    },
    {
     "name": "stdout",
     "output_type": "stream",
     "text": [
      "{'train_runtime': 5361.9594, 'train_samples_per_second': 8.886, 'train_steps_per_second': 2.222, 'train_loss': 1.5002923211512633, 'epoch': 3.0}\n",
      "GPU on: True\n"
     ]
    },
    {
     "name": "stderr",
     "output_type": "stream",
     "text": [
      "C:\\ProgramData\\anaconda3\\lib\\site-packages\\transformers\\optimization.py:411: FutureWarning: This implementation of AdamW is deprecated and will be removed in a future version. Use the PyTorch implementation torch.optim.AdamW instead, or set `no_deprecation_warning=True` to disable this warning\n",
      "  warnings.warn(\n"
     ]
    },
    {
     "name": "stdout",
     "output_type": "stream",
     "text": [
      "{'loss': 1.5125, 'learning_rate': 2.1367365202986115e-05, 'epoch': 0.13}\n",
      "{'eval_loss': 1.4913723468780518, 'eval_f1': 0.06872727272727272, 'eval_runtime': 88.5523, 'eval_samples_per_second': 44.844, 'eval_steps_per_second': 5.613, 'epoch': 0.13}\n",
      "{'loss': 1.5063, 'learning_rate': 2.043126754229278e-05, 'epoch': 0.25}\n",
      "{'eval_loss': 1.5177628993988037, 'eval_f1': 0.06872727272727272, 'eval_runtime': 88.7892, 'eval_samples_per_second': 44.724, 'eval_steps_per_second': 5.598, 'epoch': 0.25}\n",
      "{'loss': 1.4951, 'learning_rate': 1.9495169881599438e-05, 'epoch': 0.38}\n",
      "{'eval_loss': 1.4870893955230713, 'eval_f1': 0.06872727272727272, 'eval_runtime': 88.8412, 'eval_samples_per_second': 44.698, 'eval_steps_per_second': 5.594, 'epoch': 0.38}\n",
      "{'loss': 1.4919, 'learning_rate': 1.8559072220906105e-05, 'epoch': 0.5}\n",
      "{'eval_loss': 1.4328501224517822, 'eval_f1': 0.07038795846664865, 'eval_runtime': 88.9201, 'eval_samples_per_second': 44.658, 'eval_steps_per_second': 5.589, 'epoch': 0.5}\n",
      "{'loss': 1.471, 'learning_rate': 1.7622974560212764e-05, 'epoch': 0.63}\n",
      "{'eval_loss': 1.435564637184143, 'eval_f1': 0.0751179960971918, 'eval_runtime': 88.2381, 'eval_samples_per_second': 45.003, 'eval_steps_per_second': 5.632, 'epoch': 0.63}\n",
      "{'loss': 1.436, 'learning_rate': 1.668687689951943e-05, 'epoch': 0.76}\n",
      "{'eval_loss': 1.386853575706482, 'eval_f1': 0.08000804436513963, 'eval_runtime': 87.994, 'eval_samples_per_second': 45.128, 'eval_steps_per_second': 5.648, 'epoch': 0.76}\n",
      "{'loss': 1.4117, 'learning_rate': 1.575077923882609e-05, 'epoch': 0.88}\n",
      "{'eval_loss': 1.383927345275879, 'eval_f1': 0.07892800746919969, 'eval_runtime': 88.2856, 'eval_samples_per_second': 44.979, 'eval_steps_per_second': 5.629, 'epoch': 0.88}\n",
      "{'loss': 1.3576, 'learning_rate': 1.4814681578132755e-05, 'epoch': 1.01}\n",
      "{'eval_loss': 1.3832987546920776, 'eval_f1': 0.1016939135806076, 'eval_runtime': 88.1147, 'eval_samples_per_second': 45.066, 'eval_steps_per_second': 5.64, 'epoch': 1.01}\n",
      "{'loss': 1.3392, 'learning_rate': 1.3878583917439417e-05, 'epoch': 1.13}\n",
      "{'eval_loss': 1.3733747005462646, 'eval_f1': 0.13298608081190247, 'eval_runtime': 88.1921, 'eval_samples_per_second': 45.027, 'eval_steps_per_second': 5.635, 'epoch': 1.13}\n",
      "{'loss': 1.2896, 'learning_rate': 1.2942486256746081e-05, 'epoch': 1.26}\n",
      "{'eval_loss': 1.3998262882232666, 'eval_f1': 0.18628007257727724, 'eval_runtime': 88.2118, 'eval_samples_per_second': 45.017, 'eval_steps_per_second': 5.634, 'epoch': 1.26}\n",
      "{'loss': 1.2696, 'learning_rate': 1.2006388596052743e-05, 'epoch': 1.39}\n",
      "{'eval_loss': 1.333192229270935, 'eval_f1': 0.18666272535946224, 'eval_runtime': 88.4748, 'eval_samples_per_second': 44.883, 'eval_steps_per_second': 5.617, 'epoch': 1.39}\n",
      "{'loss': 1.2844, 'learning_rate': 1.1070290935359406e-05, 'epoch': 1.51}\n",
      "{'eval_loss': 1.319567084312439, 'eval_f1': 0.19950220094228338, 'eval_runtime': 88.1857, 'eval_samples_per_second': 45.03, 'eval_steps_per_second': 5.636, 'epoch': 1.51}\n",
      "{'loss': 1.3052, 'learning_rate': 1.0134193274666069e-05, 'epoch': 1.64}\n",
      "{'eval_loss': 1.3221499919891357, 'eval_f1': 0.20575858139260123, 'eval_runtime': 88.3634, 'eval_samples_per_second': 44.939, 'eval_steps_per_second': 5.624, 'epoch': 1.64}\n",
      "{'loss': 1.274, 'learning_rate': 9.19809561397273e-06, 'epoch': 1.76}\n",
      "{'eval_loss': 1.3014464378356934, 'eval_f1': 0.2133462897376949, 'eval_runtime': 88.4697, 'eval_samples_per_second': 44.885, 'eval_steps_per_second': 5.618, 'epoch': 1.76}\n",
      "{'loss': 1.2599, 'learning_rate': 8.261997953279393e-06, 'epoch': 1.89}\n",
      "{'eval_loss': 1.2792887687683105, 'eval_f1': 0.2727540994561153, 'eval_runtime': 88.4616, 'eval_samples_per_second': 44.89, 'eval_steps_per_second': 5.618, 'epoch': 1.89}\n",
      "{'loss': 1.1961, 'learning_rate': 7.325900292586056e-06, 'epoch': 2.01}\n",
      "{'eval_loss': 1.2768745422363281, 'eval_f1': 0.2579593781960509, 'eval_runtime': 88.2469, 'eval_samples_per_second': 44.999, 'eval_steps_per_second': 5.632, 'epoch': 2.01}\n",
      "{'loss': 1.0402, 'learning_rate': 6.3898026318927195e-06, 'epoch': 2.14}\n",
      "{'eval_loss': 1.3225198984146118, 'eval_f1': 0.27287998689756127, 'eval_runtime': 88.3263, 'eval_samples_per_second': 44.958, 'eval_steps_per_second': 5.627, 'epoch': 2.14}\n",
      "{'loss': 1.0603, 'learning_rate': 5.4537049711993826e-06, 'epoch': 2.27}\n",
      "{'eval_loss': 1.3141396045684814, 'eval_f1': 0.33017887944875157, 'eval_runtime': 88.5976, 'eval_samples_per_second': 44.821, 'eval_steps_per_second': 5.61, 'epoch': 2.27}\n",
      "{'loss': 1.0245, 'learning_rate': 4.517607310506046e-06, 'epoch': 2.39}\n",
      "{'eval_loss': 1.3117157220840454, 'eval_f1': 0.31684646659540755, 'eval_runtime': 88.4729, 'eval_samples_per_second': 44.884, 'eval_steps_per_second': 5.618, 'epoch': 2.39}\n",
      "{'loss': 1.004, 'learning_rate': 3.5815096498127083e-06, 'epoch': 2.52}\n",
      "{'eval_loss': 1.306411862373352, 'eval_f1': 0.3367252978147638, 'eval_runtime': 88.6842, 'eval_samples_per_second': 44.777, 'eval_steps_per_second': 5.604, 'epoch': 2.52}\n",
      "{'loss': 0.9949, 'learning_rate': 2.645411989119371e-06, 'epoch': 2.64}\n",
      "{'eval_loss': 1.299697995185852, 'eval_f1': 0.3420334918914033, 'eval_runtime': 88.7643, 'eval_samples_per_second': 44.736, 'eval_steps_per_second': 5.599, 'epoch': 2.64}\n",
      "{'loss': 1.0024, 'learning_rate': 1.7093143284260338e-06, 'epoch': 2.77}\n",
      "{'eval_loss': 1.3312718868255615, 'eval_f1': 0.3373061084489656, 'eval_runtime': 88.796, 'eval_samples_per_second': 44.72, 'eval_steps_per_second': 5.597, 'epoch': 2.77}\n",
      "{'loss': 0.9935, 'learning_rate': 7.732166677326965e-07, 'epoch': 2.9}\n",
      "{'eval_loss': 1.3309639692306519, 'eval_f1': 0.34473815452156187, 'eval_runtime': 88.8242, 'eval_samples_per_second': 44.706, 'eval_steps_per_second': 5.595, 'epoch': 2.9}\n"
     ]
    },
    {
     "name": "stderr",
     "output_type": "stream",
     "text": [
      "[I 2023-07-31 08:24:19,444] Trial 10 finished with value: 0.34473815452156187 and parameters: {'num_trial_epochs': 3, 'learning_rate': 2.2303462863679452e-05, 'batch_size': 27}. Best is trial 10 with value: 0.34473815452156187.\n"
     ]
    },
    {
     "name": "stdout",
     "output_type": "stream",
     "text": [
      "{'train_runtime': 5422.4279, 'train_samples_per_second': 8.787, 'train_steps_per_second': 2.197, 'train_loss': 1.254229285980586, 'epoch': 3.0}\n",
      "GPU on: True\n"
     ]
    },
    {
     "name": "stderr",
     "output_type": "stream",
     "text": [
      "C:\\ProgramData\\anaconda3\\lib\\site-packages\\transformers\\optimization.py:411: FutureWarning: This implementation of AdamW is deprecated and will be removed in a future version. Use the PyTorch implementation torch.optim.AdamW instead, or set `no_deprecation_warning=True` to disable this warning\n",
      "  warnings.warn(\n"
     ]
    },
    {
     "name": "stdout",
     "output_type": "stream",
     "text": [
      "{'loss': 1.5113, 'learning_rate': 1.949356595987651e-05, 'epoch': 0.13}\n",
      "{'eval_loss': 1.482629656791687, 'eval_f1': 0.06957987246010815, 'eval_runtime': 88.6875, 'eval_samples_per_second': 44.775, 'eval_steps_per_second': 5.604, 'epoch': 0.13}\n",
      "{'loss': 1.4893, 'learning_rate': 1.8639558864464413e-05, 'epoch': 0.25}\n",
      "{'eval_loss': 1.5342259407043457, 'eval_f1': 0.09397317663084735, 'eval_runtime': 88.8262, 'eval_samples_per_second': 44.705, 'eval_steps_per_second': 5.595, 'epoch': 0.25}\n",
      "{'loss': 1.4865, 'learning_rate': 1.7785551769052316e-05, 'epoch': 0.38}\n",
      "{'eval_loss': 1.4787946939468384, 'eval_f1': 0.06872727272727272, 'eval_runtime': 88.6703, 'eval_samples_per_second': 44.784, 'eval_steps_per_second': 5.605, 'epoch': 0.38}\n",
      "{'loss': 1.478, 'learning_rate': 1.693154467364022e-05, 'epoch': 0.5}\n",
      "{'eval_loss': 1.4268473386764526, 'eval_f1': 0.09630977869968851, 'eval_runtime': 88.6444, 'eval_samples_per_second': 44.797, 'eval_steps_per_second': 5.607, 'epoch': 0.5}\n",
      "{'loss': 1.4584, 'learning_rate': 1.6077537578228123e-05, 'epoch': 0.63}\n",
      "{'eval_loss': 1.4153127670288086, 'eval_f1': 0.07639926498911369, 'eval_runtime': 88.8283, 'eval_samples_per_second': 44.704, 'eval_steps_per_second': 5.595, 'epoch': 0.63}\n",
      "{'loss': 1.4292, 'learning_rate': 1.5223530482816028e-05, 'epoch': 0.76}\n",
      "{'eval_loss': 1.3794856071472168, 'eval_f1': 0.09446956740245158, 'eval_runtime': 88.2845, 'eval_samples_per_second': 44.98, 'eval_steps_per_second': 5.63, 'epoch': 0.76}\n",
      "{'loss': 1.4139, 'learning_rate': 1.4369523387403932e-05, 'epoch': 0.88}\n",
      "{'eval_loss': 1.3863404989242554, 'eval_f1': 0.07916009073874435, 'eval_runtime': 88.1875, 'eval_samples_per_second': 45.029, 'eval_steps_per_second': 5.636, 'epoch': 0.88}\n",
      "{'loss': 1.3554, 'learning_rate': 1.3515516291991837e-05, 'epoch': 1.01}\n",
      "{'eval_loss': 1.3720791339874268, 'eval_f1': 0.10039234874144531, 'eval_runtime': 88.4361, 'eval_samples_per_second': 44.902, 'eval_steps_per_second': 5.62, 'epoch': 1.01}\n",
      "{'loss': 1.3269, 'learning_rate': 1.2661509196579739e-05, 'epoch': 1.13}\n",
      "{'eval_loss': 1.362215518951416, 'eval_f1': 0.14528110826300006, 'eval_runtime': 88.7515, 'eval_samples_per_second': 44.743, 'eval_steps_per_second': 5.6, 'epoch': 1.13}\n",
      "{'loss': 1.2818, 'learning_rate': 1.1807502101167644e-05, 'epoch': 1.26}\n",
      "{'eval_loss': 1.399620771408081, 'eval_f1': 0.1713794375177033, 'eval_runtime': 88.8474, 'eval_samples_per_second': 44.695, 'eval_steps_per_second': 5.594, 'epoch': 1.26}\n",
      "{'loss': 1.2741, 'learning_rate': 1.0953495005755546e-05, 'epoch': 1.39}\n",
      "{'eval_loss': 1.3277575969696045, 'eval_f1': 0.18494426642976078, 'eval_runtime': 88.0496, 'eval_samples_per_second': 45.1, 'eval_steps_per_second': 5.645, 'epoch': 1.39}\n",
      "{'loss': 1.2827, 'learning_rate': 1.009948791034345e-05, 'epoch': 1.51}\n",
      "{'eval_loss': 1.3193329572677612, 'eval_f1': 0.23398318526092127, 'eval_runtime': 89.3661, 'eval_samples_per_second': 44.435, 'eval_steps_per_second': 5.561, 'epoch': 1.51}\n",
      "{'loss': 1.3078, 'learning_rate': 9.245480814931354e-06, 'epoch': 1.64}\n",
      "{'eval_loss': 1.3156834840774536, 'eval_f1': 0.2327834686753068, 'eval_runtime': 89.8399, 'eval_samples_per_second': 44.201, 'eval_steps_per_second': 5.532, 'epoch': 1.64}\n",
      "{'loss': 1.2699, 'learning_rate': 8.391473719519258e-06, 'epoch': 1.76}\n",
      "{'eval_loss': 1.2754474878311157, 'eval_f1': 0.23602178039519095, 'eval_runtime': 89.6377, 'eval_samples_per_second': 44.301, 'eval_steps_per_second': 5.545, 'epoch': 1.76}\n",
      "{'loss': 1.2465, 'learning_rate': 7.537466624107161e-06, 'epoch': 1.89}\n",
      "{'eval_loss': 1.2744824886322021, 'eval_f1': 0.2691138630948132, 'eval_runtime': 89.6061, 'eval_samples_per_second': 44.316, 'eval_steps_per_second': 5.547, 'epoch': 1.89}\n",
      "{'loss': 1.1948, 'learning_rate': 6.683459528695065e-06, 'epoch': 2.01}\n",
      "{'eval_loss': 1.2705769538879395, 'eval_f1': 0.2851645606301588, 'eval_runtime': 88.3844, 'eval_samples_per_second': 44.929, 'eval_steps_per_second': 5.623, 'epoch': 2.01}\n",
      "{'loss': 1.038, 'learning_rate': 5.829452433282969e-06, 'epoch': 2.14}\n",
      "{'eval_loss': 1.2883304357528687, 'eval_f1': 0.31001715623130965, 'eval_runtime': 88.4482, 'eval_samples_per_second': 44.896, 'eval_steps_per_second': 5.619, 'epoch': 2.14}\n",
      "{'loss': 1.0667, 'learning_rate': 4.975445337870873e-06, 'epoch': 2.27}\n",
      "{'eval_loss': 1.2918251752853394, 'eval_f1': 0.3090117682718538, 'eval_runtime': 88.3365, 'eval_samples_per_second': 44.953, 'eval_steps_per_second': 5.626, 'epoch': 2.27}\n",
      "{'loss': 1.0248, 'learning_rate': 4.121438242458777e-06, 'epoch': 2.39}\n",
      "{'eval_loss': 1.350026249885559, 'eval_f1': 0.2901650070989473, 'eval_runtime': 88.6244, 'eval_samples_per_second': 44.807, 'eval_steps_per_second': 5.608, 'epoch': 2.39}\n",
      "{'loss': 1.0075, 'learning_rate': 3.2674311470466807e-06, 'epoch': 2.52}\n",
      "{'eval_loss': 1.3062386512756348, 'eval_f1': 0.3228638378539, 'eval_runtime': 90.8215, 'eval_samples_per_second': 43.723, 'eval_steps_per_second': 5.472, 'epoch': 2.52}\n",
      "{'loss': 0.9935, 'learning_rate': 2.413424051634584e-06, 'epoch': 2.64}\n",
      "{'eval_loss': 1.2955260276794434, 'eval_f1': 0.3301395091316405, 'eval_runtime': 90.5151, 'eval_samples_per_second': 43.871, 'eval_steps_per_second': 5.491, 'epoch': 2.64}\n",
      "{'loss': 1.0158, 'learning_rate': 1.559416956222488e-06, 'epoch': 2.77}\n",
      "{'eval_loss': 1.3157954216003418, 'eval_f1': 0.32033860741646214, 'eval_runtime': 90.2623, 'eval_samples_per_second': 43.994, 'eval_steps_per_second': 5.506, 'epoch': 2.77}\n",
      "{'loss': 1.0, 'learning_rate': 7.054098608103915e-07, 'epoch': 2.9}\n",
      "{'eval_loss': 1.304567813873291, 'eval_f1': 0.33018623592009416, 'eval_runtime': 90.3322, 'eval_samples_per_second': 43.96, 'eval_steps_per_second': 5.502, 'epoch': 2.9}\n"
     ]
    },
    {
     "name": "stderr",
     "output_type": "stream",
     "text": [
      "[I 2023-07-31 09:55:20,864] Trial 11 finished with value: 0.33018623592009416 and parameters: {'num_trial_epochs': 3, 'learning_rate': 2.0347573055288606e-05, 'batch_size': 27}. Best is trial 10 with value: 0.34473815452156187.\n"
     ]
    },
    {
     "name": "stdout",
     "output_type": "stream",
     "text": [
      "{'train_runtime': 5459.704, 'train_samples_per_second': 8.727, 'train_steps_per_second': 2.182, 'train_loss': 1.2511828283333792, 'epoch': 3.0}\n",
      "GPU on: True\n"
     ]
    },
    {
     "name": "stderr",
     "output_type": "stream",
     "text": [
      "C:\\ProgramData\\anaconda3\\lib\\site-packages\\transformers\\optimization.py:411: FutureWarning: This implementation of AdamW is deprecated and will be removed in a future version. Use the PyTorch implementation torch.optim.AdamW instead, or set `no_deprecation_warning=True` to disable this warning\n",
      "  warnings.warn(\n"
     ]
    },
    {
     "name": "stdout",
     "output_type": "stream",
     "text": [
      "{'loss': 1.5009, 'learning_rate': 2.7376358796172166e-05, 'epoch': 0.13}\n",
      "{'eval_loss': 1.490553379058838, 'eval_f1': 0.06872727272727272, 'eval_runtime': 90.5054, 'eval_samples_per_second': 43.876, 'eval_steps_per_second': 5.491, 'epoch': 0.13}\n",
      "{'loss': 1.5155, 'learning_rate': 2.6177008984721533e-05, 'epoch': 0.25}\n",
      "{'eval_loss': 1.5378656387329102, 'eval_f1': 0.06872727272727272, 'eval_runtime': 90.2483, 'eval_samples_per_second': 44.001, 'eval_steps_per_second': 5.507, 'epoch': 0.25}\n",
      "{'loss': 1.5293, 'learning_rate': 2.4977659173270897e-05, 'epoch': 0.38}\n",
      "{'eval_loss': 1.509953260421753, 'eval_f1': 0.06872727272727272, 'eval_runtime': 89.5994, 'eval_samples_per_second': 44.32, 'eval_steps_per_second': 5.547, 'epoch': 0.38}\n",
      "{'loss': 1.5283, 'learning_rate': 2.3778309361820268e-05, 'epoch': 0.5}\n",
      "{'eval_loss': 1.4860023260116577, 'eval_f1': 0.06872727272727272, 'eval_runtime': 89.3915, 'eval_samples_per_second': 44.423, 'eval_steps_per_second': 5.56, 'epoch': 0.5}\n",
      "{'loss': 1.5294, 'learning_rate': 2.2578959550369632e-05, 'epoch': 0.63}\n",
      "{'eval_loss': 1.5033818483352661, 'eval_f1': 0.06872727272727272, 'eval_runtime': 90.0743, 'eval_samples_per_second': 44.086, 'eval_steps_per_second': 5.518, 'epoch': 0.63}\n",
      "{'loss': 1.5, 'learning_rate': 2.1379609738919e-05, 'epoch': 0.76}\n",
      "{'eval_loss': 1.4730907678604126, 'eval_f1': 0.06872727272727272, 'eval_runtime': 90.3875, 'eval_samples_per_second': 43.933, 'eval_steps_per_second': 5.499, 'epoch': 0.76}\n",
      "{'loss': 1.4736, 'learning_rate': 2.0180259927468363e-05, 'epoch': 0.88}\n",
      "{'eval_loss': 1.476069450378418, 'eval_f1': 0.06872727272727272, 'eval_runtime': 89.6623, 'eval_samples_per_second': 44.288, 'eval_steps_per_second': 5.543, 'epoch': 0.88}\n",
      "{'loss': 1.431, 'learning_rate': 1.898091011601773e-05, 'epoch': 1.01}\n",
      "{'eval_loss': 1.465528130531311, 'eval_f1': 0.06872727272727272, 'eval_runtime': 90.3733, 'eval_samples_per_second': 43.94, 'eval_steps_per_second': 5.499, 'epoch': 1.01}\n",
      "{'loss': 1.4508, 'learning_rate': 1.7781560304567095e-05, 'epoch': 1.13}\n",
      "{'eval_loss': 1.4475319385528564, 'eval_f1': 0.06872727272727272, 'eval_runtime': 89.9743, 'eval_samples_per_second': 44.135, 'eval_steps_per_second': 5.524, 'epoch': 1.13}\n",
      "{'loss': 1.4203, 'learning_rate': 1.6582210493116465e-05, 'epoch': 1.26}\n",
      "{'eval_loss': 1.445849895477295, 'eval_f1': 0.0725838842026075, 'eval_runtime': 90.693, 'eval_samples_per_second': 43.785, 'eval_steps_per_second': 5.48, 'epoch': 1.26}\n",
      "{'loss': 1.3798, 'learning_rate': 1.538286068166583e-05, 'epoch': 1.39}\n",
      "{'eval_loss': 1.403215765953064, 'eval_f1': 0.07551837232251697, 'eval_runtime': 90.5655, 'eval_samples_per_second': 43.847, 'eval_steps_per_second': 5.488, 'epoch': 1.39}\n",
      "{'loss': 1.4157, 'learning_rate': 1.4183510870215197e-05, 'epoch': 1.51}\n",
      "{'eval_loss': 1.3941975831985474, 'eval_f1': 0.09063401987464952, 'eval_runtime': 91.1427, 'eval_samples_per_second': 43.569, 'eval_steps_per_second': 5.453, 'epoch': 1.51}\n",
      "{'loss': 1.4189, 'learning_rate': 1.2984161058764563e-05, 'epoch': 1.64}\n",
      "{'eval_loss': 1.3850091695785522, 'eval_f1': 0.12665886555816291, 'eval_runtime': 90.3422, 'eval_samples_per_second': 43.955, 'eval_steps_per_second': 5.501, 'epoch': 1.64}\n",
      "{'loss': 1.3893, 'learning_rate': 1.1784811247313927e-05, 'epoch': 1.76}\n",
      "{'eval_loss': 1.344091534614563, 'eval_f1': 0.15174206008300267, 'eval_runtime': 89.1244, 'eval_samples_per_second': 44.556, 'eval_steps_per_second': 5.576, 'epoch': 1.76}\n",
      "{'loss': 1.367, 'learning_rate': 1.0585461435863294e-05, 'epoch': 1.89}\n",
      "{'eval_loss': 1.3345146179199219, 'eval_f1': 0.15792498355031648, 'eval_runtime': 89.5106, 'eval_samples_per_second': 44.363, 'eval_steps_per_second': 5.552, 'epoch': 1.89}\n",
      "{'loss': 1.3146, 'learning_rate': 9.38611162441266e-06, 'epoch': 2.01}\n",
      "{'eval_loss': 1.3238571882247925, 'eval_f1': 0.1754902511095222, 'eval_runtime': 89.5466, 'eval_samples_per_second': 44.346, 'eval_steps_per_second': 5.55, 'epoch': 2.01}\n",
      "{'loss': 1.2174, 'learning_rate': 8.186761812962025e-06, 'epoch': 2.14}\n",
      "{'eval_loss': 1.321106195449829, 'eval_f1': 0.2554795348646902, 'eval_runtime': 91.0885, 'eval_samples_per_second': 43.595, 'eval_steps_per_second': 5.456, 'epoch': 2.14}\n",
      "{'loss': 1.2568, 'learning_rate': 6.987412001511393e-06, 'epoch': 2.27}\n",
      "{'eval_loss': 1.3093419075012207, 'eval_f1': 0.24889320805589205, 'eval_runtime': 91.1155, 'eval_samples_per_second': 43.582, 'eval_steps_per_second': 5.455, 'epoch': 2.27}\n",
      "{'loss': 1.2143, 'learning_rate': 5.788062190060759e-06, 'epoch': 2.39}\n",
      "{'eval_loss': 1.3501759767532349, 'eval_f1': 0.2391162148623911, 'eval_runtime': 90.9077, 'eval_samples_per_second': 43.682, 'eval_steps_per_second': 5.467, 'epoch': 2.39}\n",
      "{'loss': 1.1814, 'learning_rate': 4.588712378610125e-06, 'epoch': 2.52}\n",
      "{'eval_loss': 1.3047175407409668, 'eval_f1': 0.2735817523424887, 'eval_runtime': 90.9761, 'eval_samples_per_second': 43.649, 'eval_steps_per_second': 5.463, 'epoch': 2.52}\n",
      "{'loss': 1.1518, 'learning_rate': 3.389362567159491e-06, 'epoch': 2.64}\n",
      "{'eval_loss': 1.3025226593017578, 'eval_f1': 0.27052187556234025, 'eval_runtime': 91.1526, 'eval_samples_per_second': 43.564, 'eval_steps_per_second': 5.452, 'epoch': 2.64}\n",
      "{'loss': 1.1693, 'learning_rate': 2.1900127557088573e-06, 'epoch': 2.77}\n",
      "{'eval_loss': 1.3070929050445557, 'eval_f1': 0.2850976218386972, 'eval_runtime': 91.3758, 'eval_samples_per_second': 43.458, 'eval_steps_per_second': 5.439, 'epoch': 2.77}\n",
      "{'loss': 1.1661, 'learning_rate': 9.906629442582234e-07, 'epoch': 2.9}\n",
      "{'eval_loss': 1.321301817893982, 'eval_f1': 0.2696823109969514, 'eval_runtime': 91.5096, 'eval_samples_per_second': 43.394, 'eval_steps_per_second': 5.431, 'epoch': 2.9}\n"
     ]
    },
    {
     "name": "stderr",
     "output_type": "stream",
     "text": [
      "[I 2023-07-31 11:27:57,597] Trial 12 finished with value: 0.2696823109969514 and parameters: {'num_trial_epochs': 3, 'learning_rate': 2.85757086076228e-05, 'batch_size': 27}. Best is trial 10 with value: 0.34473815452156187.\n"
     ]
    },
    {
     "name": "stdout",
     "output_type": "stream",
     "text": [
      "{'train_runtime': 5555.1026, 'train_samples_per_second': 8.577, 'train_steps_per_second': 2.145, 'train_loss': 1.36406056386422, 'epoch': 3.0}\n",
      "GPU on: True\n"
     ]
    },
    {
     "name": "stderr",
     "output_type": "stream",
     "text": [
      "C:\\ProgramData\\anaconda3\\lib\\site-packages\\transformers\\optimization.py:411: FutureWarning: This implementation of AdamW is deprecated and will be removed in a future version. Use the PyTorch implementation torch.optim.AdamW instead, or set `no_deprecation_warning=True` to disable this warning\n",
      "  warnings.warn(\n"
     ]
    },
    {
     "name": "stdout",
     "output_type": "stream",
     "text": [
      "{'loss': 1.5174, 'learning_rate': 1.9406286378404853e-05, 'epoch': 0.13}\n",
      "{'eval_loss': 1.4863274097442627, 'eval_f1': 0.06872727272727272, 'eval_runtime': 91.4756, 'eval_samples_per_second': 43.411, 'eval_steps_per_second': 5.433, 'epoch': 0.13}\n",
      "{'loss': 1.4999, 'learning_rate': 1.855610297446177e-05, 'epoch': 0.25}\n",
      "{'eval_loss': 1.5490844249725342, 'eval_f1': 0.09336009987601486, 'eval_runtime': 91.7994, 'eval_samples_per_second': 43.257, 'eval_steps_per_second': 5.414, 'epoch': 0.25}\n",
      "{'loss': 1.4886, 'learning_rate': 1.7705919570518684e-05, 'epoch': 0.38}\n",
      "{'eval_loss': 1.4831143617630005, 'eval_f1': 0.06872727272727272, 'eval_runtime': 91.4577, 'eval_samples_per_second': 43.419, 'eval_steps_per_second': 5.434, 'epoch': 0.38}\n",
      "{'loss': 1.4875, 'learning_rate': 1.68557361665756e-05, 'epoch': 0.5}\n",
      "{'eval_loss': 1.435441017150879, 'eval_f1': 0.07508002981538228, 'eval_runtime': 89.8019, 'eval_samples_per_second': 44.22, 'eval_steps_per_second': 5.534, 'epoch': 0.5}\n",
      "{'loss': 1.4725, 'learning_rate': 1.6005552762632514e-05, 'epoch': 0.63}\n",
      "{'eval_loss': 1.4348102807998657, 'eval_f1': 0.07281053342046903, 'eval_runtime': 89.4548, 'eval_samples_per_second': 44.391, 'eval_steps_per_second': 5.556, 'epoch': 0.63}\n",
      "{'loss': 1.4474, 'learning_rate': 1.515536935868943e-05, 'epoch': 0.76}\n",
      "{'eval_loss': 1.4017517566680908, 'eval_f1': 0.08185208907744498, 'eval_runtime': 91.5988, 'eval_samples_per_second': 43.352, 'eval_steps_per_second': 5.426, 'epoch': 0.76}\n",
      "{'loss': 1.4098, 'learning_rate': 1.4305185954746343e-05, 'epoch': 0.88}\n",
      "{'eval_loss': 1.3881663084030151, 'eval_f1': 0.0703548294290472, 'eval_runtime': 91.6782, 'eval_samples_per_second': 43.315, 'eval_steps_per_second': 5.421, 'epoch': 0.88}\n",
      "{'loss': 1.3573, 'learning_rate': 1.345500255080326e-05, 'epoch': 1.01}\n",
      "{'eval_loss': 1.3905280828475952, 'eval_f1': 0.10365021178736744, 'eval_runtime': 91.6971, 'eval_samples_per_second': 43.306, 'eval_steps_per_second': 5.42, 'epoch': 1.01}\n",
      "{'loss': 1.3402, 'learning_rate': 1.2604819146860174e-05, 'epoch': 1.13}\n",
      "{'eval_loss': 1.3844263553619385, 'eval_f1': 0.12732912540654323, 'eval_runtime': 91.8784, 'eval_samples_per_second': 43.22, 'eval_steps_per_second': 5.409, 'epoch': 1.13}\n",
      "{'loss': 1.3011, 'learning_rate': 1.175463574291709e-05, 'epoch': 1.26}\n",
      "{'eval_loss': 1.3647788763046265, 'eval_f1': 0.1926212364145392, 'eval_runtime': 91.5218, 'eval_samples_per_second': 43.389, 'eval_steps_per_second': 5.43, 'epoch': 1.26}\n",
      "{'loss': 1.2674, 'learning_rate': 1.0904452338974004e-05, 'epoch': 1.39}\n",
      "{'eval_loss': 1.3041090965270996, 'eval_f1': 0.1922150172042556, 'eval_runtime': 91.3146, 'eval_samples_per_second': 43.487, 'eval_steps_per_second': 5.443, 'epoch': 1.39}\n",
      "{'loss': 1.2888, 'learning_rate': 1.0054268935030921e-05, 'epoch': 1.51}\n",
      "{'eval_loss': 1.3205060958862305, 'eval_f1': 0.1929115588804751, 'eval_runtime': 91.2155, 'eval_samples_per_second': 43.534, 'eval_steps_per_second': 5.449, 'epoch': 1.51}\n",
      "{'loss': 1.3099, 'learning_rate': 9.204085531087836e-06, 'epoch': 1.64}\n",
      "{'eval_loss': 1.3092576265335083, 'eval_f1': 0.23420208868865072, 'eval_runtime': 91.2579, 'eval_samples_per_second': 43.514, 'eval_steps_per_second': 5.446, 'epoch': 1.64}\n",
      "{'loss': 1.2679, 'learning_rate': 8.35390212714475e-06, 'epoch': 1.76}\n",
      "{'eval_loss': 1.2889766693115234, 'eval_f1': 0.2681348331847085, 'eval_runtime': 89.7222, 'eval_samples_per_second': 44.259, 'eval_steps_per_second': 5.539, 'epoch': 1.76}\n",
      "{'loss': 1.2562, 'learning_rate': 7.503718723201666e-06, 'epoch': 1.89}\n",
      "{'eval_loss': 1.2880597114562988, 'eval_f1': 0.27290650139651984, 'eval_runtime': 89.5643, 'eval_samples_per_second': 44.337, 'eval_steps_per_second': 5.549, 'epoch': 1.89}\n",
      "{'loss': 1.2074, 'learning_rate': 6.653535319258581e-06, 'epoch': 2.01}\n",
      "{'eval_loss': 1.255802035331726, 'eval_f1': 0.3119873511980257, 'eval_runtime': 89.4769, 'eval_samples_per_second': 44.38, 'eval_steps_per_second': 5.555, 'epoch': 2.01}\n",
      "{'loss': 1.0303, 'learning_rate': 5.8033519153154964e-06, 'epoch': 2.14}\n",
      "{'eval_loss': 1.3396109342575073, 'eval_f1': 0.30347073564240545, 'eval_runtime': 89.3658, 'eval_samples_per_second': 44.435, 'eval_steps_per_second': 5.561, 'epoch': 2.14}\n",
      "{'loss': 1.0712, 'learning_rate': 4.9531685113724125e-06, 'epoch': 2.27}\n",
      "{'eval_loss': 1.3351140022277832, 'eval_f1': 0.32098231545847966, 'eval_runtime': 89.2417, 'eval_samples_per_second': 44.497, 'eval_steps_per_second': 5.569, 'epoch': 2.27}\n",
      "{'loss': 1.0337, 'learning_rate': 4.102985107429328e-06, 'epoch': 2.39}\n",
      "{'eval_loss': 1.3307586908340454, 'eval_f1': 0.30567882507928157, 'eval_runtime': 89.2282, 'eval_samples_per_second': 44.504, 'eval_steps_per_second': 5.57, 'epoch': 2.39}\n",
      "{'loss': 1.0054, 'learning_rate': 3.2528017034862426e-06, 'epoch': 2.52}\n",
      "{'eval_loss': 1.3050116300582886, 'eval_f1': 0.3250926449545296, 'eval_runtime': 89.3732, 'eval_samples_per_second': 44.432, 'eval_steps_per_second': 5.561, 'epoch': 2.52}\n",
      "{'loss': 1.0082, 'learning_rate': 2.402618299543158e-06, 'epoch': 2.64}\n",
      "{'eval_loss': 1.3109359741210938, 'eval_f1': 0.3349561531064095, 'eval_runtime': 89.316, 'eval_samples_per_second': 44.46, 'eval_steps_per_second': 5.565, 'epoch': 2.64}\n",
      "{'loss': 1.01, 'learning_rate': 1.5524348956000729e-06, 'epoch': 2.77}\n",
      "{'eval_loss': 1.3057279586791992, 'eval_f1': 0.3215201169379229, 'eval_runtime': 89.2952, 'eval_samples_per_second': 44.47, 'eval_steps_per_second': 5.566, 'epoch': 2.77}\n",
      "{'loss': 1.0139, 'learning_rate': 7.02251491656988e-07, 'epoch': 2.9}\n",
      "{'eval_loss': 1.3116016387939453, 'eval_f1': 0.33085317236019246, 'eval_runtime': 89.2518, 'eval_samples_per_second': 44.492, 'eval_steps_per_second': 5.569, 'epoch': 2.9}\n"
     ]
    },
    {
     "name": "stderr",
     "output_type": "stream",
     "text": [
      "[I 2023-07-31 13:00:11,102] Trial 13 finished with value: 0.33085317236019246 and parameters: {'num_trial_epochs': 3, 'learning_rate': 2.0256469782347938e-05, 'batch_size': 21}. Best is trial 10 with value: 0.34473815452156187.\n"
     ]
    },
    {
     "name": "stdout",
     "output_type": "stream",
     "text": [
      "{'train_runtime': 5531.3448, 'train_samples_per_second': 8.614, 'train_steps_per_second': 2.154, 'train_loss': 1.2562799657871129, 'epoch': 3.0}\n",
      "GPU on: True\n"
     ]
    },
    {
     "name": "stderr",
     "output_type": "stream",
     "text": [
      "C:\\ProgramData\\anaconda3\\lib\\site-packages\\transformers\\optimization.py:411: FutureWarning: This implementation of AdamW is deprecated and will be removed in a future version. Use the PyTorch implementation torch.optim.AdamW instead, or set `no_deprecation_warning=True` to disable this warning\n",
      "  warnings.warn(\n"
     ]
    },
    {
     "name": "stdout",
     "output_type": "stream",
     "text": [
      "{'loss': 1.5045, 'learning_rate': 2.376592423151965e-05, 'epoch': 0.13}\n",
      "{'eval_loss': 1.4950122833251953, 'eval_f1': 0.06872727272727272, 'eval_runtime': 89.0278, 'eval_samples_per_second': 44.604, 'eval_steps_per_second': 5.583, 'epoch': 0.13}\n",
      "{'loss': 1.5013, 'learning_rate': 2.272474644165197e-05, 'epoch': 0.25}\n",
      "{'eval_loss': 1.4788552522659302, 'eval_f1': 0.06872829502232511, 'eval_runtime': 89.1186, 'eval_samples_per_second': 44.559, 'eval_steps_per_second': 5.577, 'epoch': 0.25}\n",
      "{'loss': 1.486, 'learning_rate': 2.168356865178429e-05, 'epoch': 0.38}\n",
      "{'eval_loss': 1.4803303480148315, 'eval_f1': 0.06872727272727272, 'eval_runtime': 89.1092, 'eval_samples_per_second': 44.563, 'eval_steps_per_second': 5.577, 'epoch': 0.38}\n",
      "{'loss': 1.4839, 'learning_rate': 2.064239086191661e-05, 'epoch': 0.5}\n",
      "{'eval_loss': 1.4253051280975342, 'eval_f1': 0.07389624534832875, 'eval_runtime': 89.0698, 'eval_samples_per_second': 44.583, 'eval_steps_per_second': 5.58, 'epoch': 0.5}\n",
      "{'loss': 1.4696, 'learning_rate': 1.960121307204893e-05, 'epoch': 0.63}\n",
      "{'eval_loss': 1.4215213060379028, 'eval_f1': 0.07629034451706534, 'eval_runtime': 89.1444, 'eval_samples_per_second': 44.546, 'eval_steps_per_second': 5.575, 'epoch': 0.63}\n",
      "{'loss': 1.4218, 'learning_rate': 1.856003528218125e-05, 'epoch': 0.76}\n",
      "{'eval_loss': 1.3799757957458496, 'eval_f1': 0.1620312206886399, 'eval_runtime': 89.0976, 'eval_samples_per_second': 44.569, 'eval_steps_per_second': 5.578, 'epoch': 0.76}\n",
      "{'loss': 1.4156, 'learning_rate': 1.7518857492313572e-05, 'epoch': 0.88}\n",
      "{'eval_loss': 1.3939157724380493, 'eval_f1': 0.069514723197564, 'eval_runtime': 89.1328, 'eval_samples_per_second': 44.552, 'eval_steps_per_second': 5.576, 'epoch': 0.88}\n",
      "{'loss': 1.3508, 'learning_rate': 1.6477679702445893e-05, 'epoch': 1.01}\n",
      "{'eval_loss': 1.3715909719467163, 'eval_f1': 0.1255973203977852, 'eval_runtime': 89.1748, 'eval_samples_per_second': 44.531, 'eval_steps_per_second': 5.573, 'epoch': 1.01}\n",
      "{'loss': 1.3274, 'learning_rate': 1.5436501912578213e-05, 'epoch': 1.13}\n",
      "{'eval_loss': 1.3846609592437744, 'eval_f1': 0.19885878075086688, 'eval_runtime': 89.1425, 'eval_samples_per_second': 44.547, 'eval_steps_per_second': 5.575, 'epoch': 1.13}\n",
      "{'loss': 1.2882, 'learning_rate': 1.4395324122710535e-05, 'epoch': 1.26}\n",
      "{'eval_loss': 1.417421579360962, 'eval_f1': 0.18851885575786015, 'eval_runtime': 89.1857, 'eval_samples_per_second': 44.525, 'eval_steps_per_second': 5.573, 'epoch': 1.26}\n",
      "{'loss': 1.2765, 'learning_rate': 1.3354146332842854e-05, 'epoch': 1.39}\n",
      "{'eval_loss': 1.3219937086105347, 'eval_f1': 0.23333521528626125, 'eval_runtime': 89.2006, 'eval_samples_per_second': 44.518, 'eval_steps_per_second': 5.572, 'epoch': 1.39}\n",
      "{'loss': 1.2764, 'learning_rate': 1.2312968542975176e-05, 'epoch': 1.51}\n",
      "{'eval_loss': 1.3259994983673096, 'eval_f1': 0.2458494937710721, 'eval_runtime': 89.2618, 'eval_samples_per_second': 44.487, 'eval_steps_per_second': 5.568, 'epoch': 1.51}\n",
      "{'loss': 1.3159, 'learning_rate': 1.1271790753107497e-05, 'epoch': 1.64}\n",
      "{'eval_loss': 1.3067749738693237, 'eval_f1': 0.260141481459365, 'eval_runtime': 89.2578, 'eval_samples_per_second': 44.489, 'eval_steps_per_second': 5.568, 'epoch': 1.64}\n",
      "{'loss': 1.2651, 'learning_rate': 1.0230612963239818e-05, 'epoch': 1.76}\n",
      "{'eval_loss': 1.2814149856567383, 'eval_f1': 0.260855923820151, 'eval_runtime': 89.3013, 'eval_samples_per_second': 44.467, 'eval_steps_per_second': 5.565, 'epoch': 1.76}\n",
      "{'loss': 1.2564, 'learning_rate': 9.189435173372138e-06, 'epoch': 1.89}\n",
      "{'eval_loss': 1.2731207609176636, 'eval_f1': 0.2716635555457655, 'eval_runtime': 89.3076, 'eval_samples_per_second': 44.464, 'eval_steps_per_second': 5.565, 'epoch': 1.89}\n",
      "{'loss': 1.1969, 'learning_rate': 8.148257383504459e-06, 'epoch': 2.01}\n",
      "{'eval_loss': 1.265330195426941, 'eval_f1': 0.3069623984147124, 'eval_runtime': 89.2569, 'eval_samples_per_second': 44.49, 'eval_steps_per_second': 5.568, 'epoch': 2.01}\n",
      "{'loss': 1.0209, 'learning_rate': 7.107079593636779e-06, 'epoch': 2.14}\n",
      "{'eval_loss': 1.317161202430725, 'eval_f1': 0.3241420561917224, 'eval_runtime': 89.3545, 'eval_samples_per_second': 44.441, 'eval_steps_per_second': 5.562, 'epoch': 2.14}\n",
      "{'loss': 1.06, 'learning_rate': 6.0659018037691005e-06, 'epoch': 2.27}\n",
      "{'eval_loss': 1.305617094039917, 'eval_f1': 0.3259697312616449, 'eval_runtime': 89.2946, 'eval_samples_per_second': 44.471, 'eval_steps_per_second': 5.566, 'epoch': 2.27}\n",
      "{'loss': 1.0267, 'learning_rate': 5.024724013901421e-06, 'epoch': 2.39}\n",
      "{'eval_loss': 1.3449796438217163, 'eval_f1': 0.31272862528245515, 'eval_runtime': 89.2514, 'eval_samples_per_second': 44.492, 'eval_steps_per_second': 5.569, 'epoch': 2.39}\n",
      "{'loss': 0.981, 'learning_rate': 3.983546224033742e-06, 'epoch': 2.52}\n",
      "{'eval_loss': 1.3285290002822876, 'eval_f1': 0.34828515429071205, 'eval_runtime': 89.2249, 'eval_samples_per_second': 44.506, 'eval_steps_per_second': 5.57, 'epoch': 2.52}\n",
      "{'loss': 0.9852, 'learning_rate': 2.9423684341660617e-06, 'epoch': 2.64}\n",
      "{'eval_loss': 1.3129992485046387, 'eval_f1': 0.3445206817744588, 'eval_runtime': 89.2511, 'eval_samples_per_second': 44.492, 'eval_steps_per_second': 5.569, 'epoch': 2.64}\n",
      "{'loss': 1.0062, 'learning_rate': 1.9011906442983827e-06, 'epoch': 2.77}\n",
      "{'eval_loss': 1.3388727903366089, 'eval_f1': 0.3458505648287373, 'eval_runtime': 89.1863, 'eval_samples_per_second': 44.525, 'eval_steps_per_second': 5.573, 'epoch': 2.77}\n",
      "{'loss': 0.9846, 'learning_rate': 8.600128544307031e-07, 'epoch': 2.9}\n",
      "{'eval_loss': 1.330325722694397, 'eval_f1': 0.3426344995349554, 'eval_runtime': 89.2617, 'eval_samples_per_second': 44.487, 'eval_steps_per_second': 5.568, 'epoch': 2.9}\n"
     ]
    },
    {
     "name": "stderr",
     "output_type": "stream",
     "text": [
      "[I 2023-07-31 14:31:09,297] Trial 14 finished with value: 0.3426344995349554 and parameters: {'num_trial_epochs': 3, 'learning_rate': 2.480710202138733e-05, 'batch_size': 25}. Best is trial 10 with value: 0.34473815452156187.\n"
     ]
    },
    {
     "name": "stdout",
     "output_type": "stream",
     "text": [
      "{'train_runtime': 5456.3554, 'train_samples_per_second': 8.732, 'train_steps_per_second': 2.183, 'train_loss': 1.2488161879723372, 'epoch': 3.0}\n",
      "GPU on: True\n"
     ]
    },
    {
     "name": "stderr",
     "output_type": "stream",
     "text": [
      "C:\\ProgramData\\anaconda3\\lib\\site-packages\\transformers\\optimization.py:411: FutureWarning: This implementation of AdamW is deprecated and will be removed in a future version. Use the PyTorch implementation torch.optim.AdamW instead, or set `no_deprecation_warning=True` to disable this warning\n",
      "  warnings.warn(\n"
     ]
    },
    {
     "name": "stdout",
     "output_type": "stream",
     "text": [
      "{'loss': 1.5106, 'learning_rate': 2.324075614122524e-05, 'epoch': 0.13}\n",
      "{'eval_loss': 1.4845201969146729, 'eval_f1': 0.06872727272727272, 'eval_runtime': 89.1343, 'eval_samples_per_second': 44.551, 'eval_steps_per_second': 5.576, 'epoch': 0.13}\n",
      "{'loss': 1.5098, 'learning_rate': 2.2222585802960754e-05, 'epoch': 0.25}\n",
      "{'eval_loss': 1.5229483842849731, 'eval_f1': 0.06872727272727272, 'eval_runtime': 89.0592, 'eval_samples_per_second': 44.588, 'eval_steps_per_second': 5.581, 'epoch': 0.25}\n",
      "{'loss': 1.5118, 'learning_rate': 2.1204415464696262e-05, 'epoch': 0.38}\n",
      "{'eval_loss': 1.4932068586349487, 'eval_f1': 0.06872727272727272, 'eval_runtime': 89.0608, 'eval_samples_per_second': 44.588, 'eval_steps_per_second': 5.58, 'epoch': 0.38}\n",
      "{'loss': 1.4961, 'learning_rate': 2.0186245126431773e-05, 'epoch': 0.5}\n",
      "{'eval_loss': 1.44892418384552, 'eval_f1': 0.06872727272727272, 'eval_runtime': 89.2769, 'eval_samples_per_second': 44.48, 'eval_steps_per_second': 5.567, 'epoch': 0.5}\n",
      "{'loss': 1.4861, 'learning_rate': 1.9168074788167284e-05, 'epoch': 0.63}\n",
      "{'eval_loss': 1.4348701238632202, 'eval_f1': 0.06872727272727272, 'eval_runtime': 89.3286, 'eval_samples_per_second': 44.454, 'eval_steps_per_second': 5.564, 'epoch': 0.63}\n",
      "{'loss': 1.4461, 'learning_rate': 1.8149904449902795e-05, 'epoch': 0.76}\n",
      "{'eval_loss': 1.396185040473938, 'eval_f1': 0.08194401769034622, 'eval_runtime': 89.5287, 'eval_samples_per_second': 44.355, 'eval_steps_per_second': 5.551, 'epoch': 0.76}\n",
      "{'loss': 1.4353, 'learning_rate': 1.7131734111638302e-05, 'epoch': 0.88}\n",
      "{'eval_loss': 1.3931500911712646, 'eval_f1': 0.08163110213081705, 'eval_runtime': 89.3511, 'eval_samples_per_second': 44.443, 'eval_steps_per_second': 5.562, 'epoch': 0.88}\n",
      "{'loss': 1.3694, 'learning_rate': 1.6113563773373813e-05, 'epoch': 1.01}\n",
      "{'eval_loss': 1.389746904373169, 'eval_f1': 0.11178398450910547, 'eval_runtime': 89.3917, 'eval_samples_per_second': 44.422, 'eval_steps_per_second': 5.56, 'epoch': 1.01}\n",
      "{'loss': 1.3627, 'learning_rate': 1.5095393435109324e-05, 'epoch': 1.13}\n",
      "{'eval_loss': 1.4656009674072266, 'eval_f1': 0.10982427244403317, 'eval_runtime': 89.3616, 'eval_samples_per_second': 44.437, 'eval_steps_per_second': 5.562, 'epoch': 1.13}\n",
      "{'loss': 1.3263, 'learning_rate': 1.4077223096844835e-05, 'epoch': 1.26}\n",
      "{'eval_loss': 1.4103773832321167, 'eval_f1': 0.10851531219978786, 'eval_runtime': 89.3698, 'eval_samples_per_second': 44.433, 'eval_steps_per_second': 5.561, 'epoch': 1.26}\n",
      "{'loss': 1.3211, 'learning_rate': 1.3059052758580345e-05, 'epoch': 1.39}\n",
      "{'eval_loss': 1.335221767425537, 'eval_f1': 0.1666553498711098, 'eval_runtime': 89.3881, 'eval_samples_per_second': 44.424, 'eval_steps_per_second': 5.56, 'epoch': 1.39}\n",
      "{'loss': 1.3181, 'learning_rate': 1.2040882420315856e-05, 'epoch': 1.51}\n",
      "{'eval_loss': 1.3531830310821533, 'eval_f1': 0.18511811380964707, 'eval_runtime': 89.3016, 'eval_samples_per_second': 44.467, 'eval_steps_per_second': 5.565, 'epoch': 1.51}\n",
      "{'loss': 1.3435, 'learning_rate': 1.1022712082051367e-05, 'epoch': 1.64}\n",
      "{'eval_loss': 1.322148323059082, 'eval_f1': 0.21620590864752529, 'eval_runtime': 89.2552, 'eval_samples_per_second': 44.49, 'eval_steps_per_second': 5.568, 'epoch': 1.64}\n",
      "{'loss': 1.3061, 'learning_rate': 1.0004541743786876e-05, 'epoch': 1.76}\n",
      "{'eval_loss': 1.3023558855056763, 'eval_f1': 0.21462624702438388, 'eval_runtime': 89.2515, 'eval_samples_per_second': 44.492, 'eval_steps_per_second': 5.569, 'epoch': 1.76}\n",
      "{'loss': 1.3041, 'learning_rate': 8.986371405522385e-06, 'epoch': 1.89}\n",
      "{'eval_loss': 1.2848608493804932, 'eval_f1': 0.2403118668294461, 'eval_runtime': 89.2159, 'eval_samples_per_second': 44.51, 'eval_steps_per_second': 5.571, 'epoch': 1.89}\n",
      "{'loss': 1.2386, 'learning_rate': 7.968201067257896e-06, 'epoch': 2.01}\n",
      "{'eval_loss': 1.2830150127410889, 'eval_f1': 0.24433507374032887, 'eval_runtime': 89.2136, 'eval_samples_per_second': 44.511, 'eval_steps_per_second': 5.571, 'epoch': 2.01}\n",
      "{'loss': 1.102, 'learning_rate': 6.950030728993406e-06, 'epoch': 2.14}\n",
      "{'eval_loss': 1.340114951133728, 'eval_f1': 0.2970455672018003, 'eval_runtime': 89.5269, 'eval_samples_per_second': 44.355, 'eval_steps_per_second': 5.551, 'epoch': 2.14}\n",
      "{'loss': 1.1424, 'learning_rate': 5.931860390728917e-06, 'epoch': 2.27}\n",
      "{'eval_loss': 1.3084149360656738, 'eval_f1': 0.2879380142744411, 'eval_runtime': 89.6419, 'eval_samples_per_second': 44.298, 'eval_steps_per_second': 5.544, 'epoch': 2.27}\n",
      "{'loss': 1.0862, 'learning_rate': 4.913690052464428e-06, 'epoch': 2.39}\n",
      "{'eval_loss': 1.3439292907714844, 'eval_f1': 0.2749830000017694, 'eval_runtime': 89.6196, 'eval_samples_per_second': 44.309, 'eval_steps_per_second': 5.546, 'epoch': 2.39}\n",
      "{'loss': 1.0767, 'learning_rate': 3.895519714199938e-06, 'epoch': 2.52}\n",
      "{'eval_loss': 1.2927961349487305, 'eval_f1': 0.30635596516176283, 'eval_runtime': 89.5969, 'eval_samples_per_second': 44.321, 'eval_steps_per_second': 5.547, 'epoch': 2.52}\n",
      "{'loss': 1.0558, 'learning_rate': 2.877349375935448e-06, 'epoch': 2.64}\n",
      "{'eval_loss': 1.2862013578414917, 'eval_f1': 0.30884691739935954, 'eval_runtime': 89.5458, 'eval_samples_per_second': 44.346, 'eval_steps_per_second': 5.55, 'epoch': 2.64}\n",
      "{'loss': 1.0469, 'learning_rate': 1.8591790376709583e-06, 'epoch': 2.77}\n",
      "{'eval_loss': 1.3009752035140991, 'eval_f1': 0.3162501223553393, 'eval_runtime': 89.4805, 'eval_samples_per_second': 44.378, 'eval_steps_per_second': 5.554, 'epoch': 2.77}\n",
      "{'loss': 1.0512, 'learning_rate': 8.410086994064685e-07, 'epoch': 2.9}\n",
      "{'eval_loss': 1.3112125396728516, 'eval_f1': 0.3121674753271212, 'eval_runtime': 89.542, 'eval_samples_per_second': 44.348, 'eval_steps_per_second': 5.55, 'epoch': 2.9}\n"
     ]
    },
    {
     "name": "stderr",
     "output_type": "stream",
     "text": [
      "[I 2023-07-31 16:02:14,699] Trial 15 finished with value: 0.3121674753271212 and parameters: {'num_trial_epochs': 3, 'learning_rate': 2.4258926479489732e-05, 'batch_size': 29}. Best is trial 10 with value: 0.34473815452156187.\n"
     ]
    },
    {
     "name": "stdout",
     "output_type": "stream",
     "text": [
      "{'train_runtime': 5463.7517, 'train_samples_per_second': 8.72, 'train_steps_per_second': 2.18, 'train_loss': 1.2903616296887788, 'epoch': 3.0}\n",
      "GPU on: True\n"
     ]
    },
    {
     "name": "stderr",
     "output_type": "stream",
     "text": [
      "C:\\ProgramData\\anaconda3\\lib\\site-packages\\transformers\\optimization.py:411: FutureWarning: This implementation of AdamW is deprecated and will be removed in a future version. Use the PyTorch implementation torch.optim.AdamW instead, or set `no_deprecation_warning=True` to disable this warning\n",
      "  warnings.warn(\n"
     ]
    },
    {
     "name": "stdout",
     "output_type": "stream",
     "text": [
      "{'loss': 1.4999, 'learning_rate': 3.195853598105928e-05, 'epoch': 0.13}\n",
      "{'eval_loss': 1.4950121641159058, 'eval_f1': 0.06872727272727272, 'eval_runtime': 89.3433, 'eval_samples_per_second': 44.447, 'eval_steps_per_second': 5.563, 'epoch': 0.13}\n",
      "{'loss': 1.5113, 'learning_rate': 3.055844240438973e-05, 'epoch': 0.25}\n",
      "{'eval_loss': 1.5130314826965332, 'eval_f1': 0.06872727272727272, 'eval_runtime': 89.341, 'eval_samples_per_second': 44.448, 'eval_steps_per_second': 5.563, 'epoch': 0.25}\n",
      "{'loss': 1.5147, 'learning_rate': 2.915834882772017e-05, 'epoch': 0.38}\n",
      "{'eval_loss': 1.5097498893737793, 'eval_f1': 0.06872727272727272, 'eval_runtime': 89.2332, 'eval_samples_per_second': 44.501, 'eval_steps_per_second': 5.57, 'epoch': 0.38}\n",
      "{'loss': 1.5129, 'learning_rate': 2.7758255251050616e-05, 'epoch': 0.5}\n",
      "{'eval_loss': 1.4699822664260864, 'eval_f1': 0.07420919799427206, 'eval_runtime': 89.2381, 'eval_samples_per_second': 44.499, 'eval_steps_per_second': 5.569, 'epoch': 0.5}\n",
      "{'loss': 1.5082, 'learning_rate': 2.6358161674381057e-05, 'epoch': 0.63}\n",
      "{'eval_loss': 1.483945369720459, 'eval_f1': 0.06872727272727272, 'eval_runtime': 89.1887, 'eval_samples_per_second': 44.524, 'eval_steps_per_second': 5.572, 'epoch': 0.63}\n",
      "{'loss': 1.4778, 'learning_rate': 2.4958068097711505e-05, 'epoch': 0.76}\n",
      "{'eval_loss': 1.4586886167526245, 'eval_f1': 0.0754817005533331, 'eval_runtime': 89.3383, 'eval_samples_per_second': 44.449, 'eval_steps_per_second': 5.563, 'epoch': 0.76}\n",
      "{'loss': 1.4586, 'learning_rate': 2.3557974521041946e-05, 'epoch': 0.88}\n",
      "{'eval_loss': 1.438421368598938, 'eval_f1': 0.06872727272727272, 'eval_runtime': 89.3609, 'eval_samples_per_second': 44.438, 'eval_steps_per_second': 5.562, 'epoch': 0.88}\n",
      "{'loss': 1.3976, 'learning_rate': 2.2157880944372393e-05, 'epoch': 1.01}\n",
      "{'eval_loss': 1.4161587953567505, 'eval_f1': 0.0978643638185623, 'eval_runtime': 89.3622, 'eval_samples_per_second': 44.437, 'eval_steps_per_second': 5.562, 'epoch': 1.01}\n",
      "{'loss': 1.4073, 'learning_rate': 2.0757787367702834e-05, 'epoch': 1.13}\n",
      "{'eval_loss': 1.4732096195220947, 'eval_f1': 0.10890288531624907, 'eval_runtime': 89.4311, 'eval_samples_per_second': 44.403, 'eval_steps_per_second': 5.557, 'epoch': 1.13}\n",
      "{'loss': 1.3894, 'learning_rate': 1.9357693791033282e-05, 'epoch': 1.26}\n",
      "{'eval_loss': 1.4546693563461304, 'eval_f1': 0.08641230626240298, 'eval_runtime': 89.5122, 'eval_samples_per_second': 44.363, 'eval_steps_per_second': 5.552, 'epoch': 1.26}\n",
      "{'loss': 1.3433, 'learning_rate': 1.7957600214363723e-05, 'epoch': 1.39}\n",
      "{'eval_loss': 1.3656587600708008, 'eval_f1': 0.11609837780363923, 'eval_runtime': 89.6496, 'eval_samples_per_second': 44.295, 'eval_steps_per_second': 5.544, 'epoch': 1.39}\n",
      "{'loss': 1.3739, 'learning_rate': 1.655750663769417e-05, 'epoch': 1.51}\n",
      "{'eval_loss': 1.3801928758621216, 'eval_f1': 0.1668356337747437, 'eval_runtime': 89.7496, 'eval_samples_per_second': 44.245, 'eval_steps_per_second': 5.538, 'epoch': 1.51}\n",
      "{'loss': 1.3877, 'learning_rate': 1.5157413061024613e-05, 'epoch': 1.64}\n",
      "{'eval_loss': 1.3972867727279663, 'eval_f1': 0.15965254780596203, 'eval_runtime': 89.7347, 'eval_samples_per_second': 44.253, 'eval_steps_per_second': 5.539, 'epoch': 1.64}\n",
      "{'loss': 1.3538, 'learning_rate': 1.3757319484355055e-05, 'epoch': 1.76}\n",
      "{'eval_loss': 1.3412847518920898, 'eval_f1': 0.15539205692890434, 'eval_runtime': 89.7732, 'eval_samples_per_second': 44.234, 'eval_steps_per_second': 5.536, 'epoch': 1.76}\n",
      "{'loss': 1.3446, 'learning_rate': 1.23572259076855e-05, 'epoch': 1.89}\n",
      "{'eval_loss': 1.3060415983200073, 'eval_f1': 0.21610340011917187, 'eval_runtime': 89.9853, 'eval_samples_per_second': 44.129, 'eval_steps_per_second': 5.523, 'epoch': 1.89}\n",
      "{'loss': 1.272, 'learning_rate': 1.0957132331015944e-05, 'epoch': 2.01}\n",
      "{'eval_loss': 1.3077384233474731, 'eval_f1': 0.2216945594191881, 'eval_runtime': 90.0445, 'eval_samples_per_second': 44.1, 'eval_steps_per_second': 5.519, 'epoch': 2.01}\n",
      "{'loss': 1.1606, 'learning_rate': 9.557038754346388e-06, 'epoch': 2.14}\n",
      "{'eval_loss': 1.3617188930511475, 'eval_f1': 0.2523552729558992, 'eval_runtime': 90.0128, 'eval_samples_per_second': 44.116, 'eval_steps_per_second': 5.521, 'epoch': 2.14}\n",
      "{'loss': 1.1977, 'learning_rate': 8.156945177676832e-06, 'epoch': 2.27}\n",
      "{'eval_loss': 1.345400094985962, 'eval_f1': 0.2895730140801395, 'eval_runtime': 89.7962, 'eval_samples_per_second': 44.222, 'eval_steps_per_second': 5.535, 'epoch': 2.27}\n",
      "{'loss': 1.1668, 'learning_rate': 6.7568516010072774e-06, 'epoch': 2.39}\n",
      "{'eval_loss': 1.3696359395980835, 'eval_f1': 0.2914597094587932, 'eval_runtime': 89.5666, 'eval_samples_per_second': 44.336, 'eval_steps_per_second': 5.549, 'epoch': 2.39}\n",
      "{'loss': 1.136, 'learning_rate': 5.356758024337722e-06, 'epoch': 2.52}\n",
      "{'eval_loss': 1.3027077913284302, 'eval_f1': 0.3025114088078451, 'eval_runtime': 89.557, 'eval_samples_per_second': 44.34, 'eval_steps_per_second': 5.55, 'epoch': 2.52}\n",
      "{'loss': 1.0835, 'learning_rate': 3.956664447668165e-06, 'epoch': 2.64}\n",
      "{'eval_loss': 1.3094099760055542, 'eval_f1': 0.3211379727428777, 'eval_runtime': 89.5463, 'eval_samples_per_second': 44.346, 'eval_steps_per_second': 5.55, 'epoch': 2.64}\n",
      "{'loss': 1.1125, 'learning_rate': 2.5565708709986093e-06, 'epoch': 2.77}\n",
      "{'eval_loss': 1.312438726425171, 'eval_f1': 0.3289695910994429, 'eval_runtime': 89.547, 'eval_samples_per_second': 44.345, 'eval_steps_per_second': 5.55, 'epoch': 2.77}\n",
      "{'loss': 1.0919, 'learning_rate': 1.156477294329053e-06, 'epoch': 2.9}\n",
      "{'eval_loss': 1.322867751121521, 'eval_f1': 0.32059349318179853, 'eval_runtime': 89.5236, 'eval_samples_per_second': 44.357, 'eval_steps_per_second': 5.552, 'epoch': 2.9}\n"
     ]
    },
    {
     "name": "stderr",
     "output_type": "stream",
     "text": [
      "[I 2023-07-31 17:33:28,963] Trial 16 finished with value: 0.32059349318179853 and parameters: {'num_trial_epochs': 3, 'learning_rate': 3.335862955772884e-05, 'batch_size': 25}. Best is trial 10 with value: 0.34473815452156187.\n"
     ]
    },
    {
     "name": "stdout",
     "output_type": "stream",
     "text": [
      "{'train_runtime': 5472.6347, 'train_samples_per_second': 8.706, 'train_steps_per_second': 2.177, 'train_loss': 1.3285205757488865, 'epoch': 3.0}\n",
      "GPU on: True\n"
     ]
    },
    {
     "name": "stderr",
     "output_type": "stream",
     "text": [
      "C:\\ProgramData\\anaconda3\\lib\\site-packages\\transformers\\optimization.py:411: FutureWarning: This implementation of AdamW is deprecated and will be removed in a future version. Use the PyTorch implementation torch.optim.AdamW instead, or set `no_deprecation_warning=True` to disable this warning\n",
      "  warnings.warn(\n"
     ]
    },
    {
     "name": "stdout",
     "output_type": "stream",
     "text": [
      "{'loss': 1.5143, 'learning_rate': 2.268979232328593e-05, 'epoch': 0.13}\n",
      "{'eval_loss': 1.4904468059539795, 'eval_f1': 0.06872727272727272, 'eval_runtime': 89.5643, 'eval_samples_per_second': 44.337, 'eval_steps_per_second': 5.549, 'epoch': 0.13}\n",
      "{'loss': 1.5127, 'learning_rate': 2.1695759539474228e-05, 'epoch': 0.25}\n",
      "{'eval_loss': 1.5311331748962402, 'eval_f1': 0.06872727272727272, 'eval_runtime': 89.359, 'eval_samples_per_second': 44.439, 'eval_steps_per_second': 5.562, 'epoch': 0.25}\n",
      "{'loss': 1.5085, 'learning_rate': 2.0701726755662524e-05, 'epoch': 0.38}\n",
      "{'eval_loss': 1.529895544052124, 'eval_f1': 0.06872727272727272, 'eval_runtime': 89.338, 'eval_samples_per_second': 44.449, 'eval_steps_per_second': 5.563, 'epoch': 0.38}\n",
      "{'loss': 1.4999, 'learning_rate': 1.9707693971850823e-05, 'epoch': 0.5}\n",
      "{'eval_loss': 1.4416651725769043, 'eval_f1': 0.06900601416418324, 'eval_runtime': 89.4164, 'eval_samples_per_second': 44.41, 'eval_steps_per_second': 5.558, 'epoch': 0.5}\n",
      "{'loss': 1.4949, 'learning_rate': 1.871366118803912e-05, 'epoch': 0.63}\n",
      "{'eval_loss': 1.4389680624008179, 'eval_f1': 0.06872727272727272, 'eval_runtime': 89.4181, 'eval_samples_per_second': 44.409, 'eval_steps_per_second': 5.558, 'epoch': 0.63}\n",
      "{'loss': 1.455, 'learning_rate': 1.7719628404227415e-05, 'epoch': 0.76}\n",
      "{'eval_loss': 1.4233752489089966, 'eval_f1': 0.07564530094397029, 'eval_runtime': 89.4308, 'eval_samples_per_second': 44.403, 'eval_steps_per_second': 5.557, 'epoch': 0.76}\n",
      "{'loss': 1.4304, 'learning_rate': 1.672559562041571e-05, 'epoch': 0.88}\n",
      "{'eval_loss': 1.4367700815200806, 'eval_f1': 0.06955500538748663, 'eval_runtime': 89.5402, 'eval_samples_per_second': 44.349, 'eval_steps_per_second': 5.551, 'epoch': 0.88}\n",
      "{'loss': 1.3766, 'learning_rate': 1.573156283660401e-05, 'epoch': 1.01}\n",
      "{'eval_loss': 1.3832108974456787, 'eval_f1': 0.10219147000870818, 'eval_runtime': 89.4287, 'eval_samples_per_second': 44.404, 'eval_steps_per_second': 5.558, 'epoch': 1.01}\n",
      "{'loss': 1.3684, 'learning_rate': 1.4737530052792305e-05, 'epoch': 1.13}\n",
      "{'eval_loss': 1.3779772520065308, 'eval_f1': 0.13102298758260583, 'eval_runtime': 89.5065, 'eval_samples_per_second': 44.365, 'eval_steps_per_second': 5.553, 'epoch': 1.13}\n",
      "{'loss': 1.3267, 'learning_rate': 1.3743497268980605e-05, 'epoch': 1.26}\n",
      "{'eval_loss': 1.4014955759048462, 'eval_f1': 0.19749719417958694, 'eval_runtime': 89.7763, 'eval_samples_per_second': 44.232, 'eval_steps_per_second': 5.536, 'epoch': 1.26}\n",
      "{'loss': 1.305, 'learning_rate': 1.27494644851689e-05, 'epoch': 1.39}\n",
      "{'eval_loss': 1.3157193660736084, 'eval_f1': 0.16848313719057595, 'eval_runtime': 89.744, 'eval_samples_per_second': 44.248, 'eval_steps_per_second': 5.538, 'epoch': 1.39}\n",
      "{'loss': 1.316, 'learning_rate': 1.17554317013572e-05, 'epoch': 1.51}\n",
      "{'eval_loss': 1.3472539186477661, 'eval_f1': 0.23171922681683488, 'eval_runtime': 89.8475, 'eval_samples_per_second': 44.197, 'eval_steps_per_second': 5.532, 'epoch': 1.51}\n",
      "{'loss': 1.3342, 'learning_rate': 1.0761398917545495e-05, 'epoch': 1.64}\n",
      "{'eval_loss': 1.3275713920593262, 'eval_f1': 0.22821186727384962, 'eval_runtime': 89.7725, 'eval_samples_per_second': 44.234, 'eval_steps_per_second': 5.536, 'epoch': 1.64}\n",
      "{'loss': 1.3091, 'learning_rate': 9.767366133733791e-06, 'epoch': 1.76}\n",
      "{'eval_loss': 1.2940709590911865, 'eval_f1': 0.21896960404848093, 'eval_runtime': 89.7109, 'eval_samples_per_second': 44.264, 'eval_steps_per_second': 5.54, 'epoch': 1.76}\n",
      "{'loss': 1.2869, 'learning_rate': 8.773333349922089e-06, 'epoch': 1.89}\n",
      "{'eval_loss': 1.2887516021728516, 'eval_f1': 0.24563027380202201, 'eval_runtime': 89.6613, 'eval_samples_per_second': 44.289, 'eval_steps_per_second': 5.543, 'epoch': 1.89}\n",
      "{'loss': 1.2276, 'learning_rate': 7.779300566110386e-06, 'epoch': 2.01}\n",
      "{'eval_loss': 1.2904846668243408, 'eval_f1': 0.29986664225239884, 'eval_runtime': 89.7201, 'eval_samples_per_second': 44.26, 'eval_steps_per_second': 5.539, 'epoch': 2.01}\n",
      "{'loss': 1.0851, 'learning_rate': 6.785267782298684e-06, 'epoch': 2.14}\n",
      "{'eval_loss': 1.3236923217773438, 'eval_f1': 0.2869823489708273, 'eval_runtime': 89.8272, 'eval_samples_per_second': 44.207, 'eval_steps_per_second': 5.533, 'epoch': 2.14}\n",
      "{'loss': 1.1296, 'learning_rate': 5.791234998486981e-06, 'epoch': 2.27}\n",
      "{'eval_loss': 1.3332377672195435, 'eval_f1': 0.2980173505994086, 'eval_runtime': 89.7888, 'eval_samples_per_second': 44.226, 'eval_steps_per_second': 5.535, 'epoch': 2.27}\n",
      "{'loss': 1.1001, 'learning_rate': 4.7972022146752786e-06, 'epoch': 2.39}\n",
      "{'eval_loss': 1.331695318222046, 'eval_f1': 0.2987378553446296, 'eval_runtime': 89.79, 'eval_samples_per_second': 44.225, 'eval_steps_per_second': 5.535, 'epoch': 2.39}\n",
      "{'loss': 1.0858, 'learning_rate': 3.8031694308635756e-06, 'epoch': 2.52}\n",
      "{'eval_loss': 1.297106146812439, 'eval_f1': 0.3160168633935688, 'eval_runtime': 90.1665, 'eval_samples_per_second': 44.041, 'eval_steps_per_second': 5.512, 'epoch': 2.52}\n",
      "{'loss': 1.0247, 'learning_rate': 2.8091366470518723e-06, 'epoch': 2.64}\n",
      "{'eval_loss': 1.3185944557189941, 'eval_f1': 0.308602105833928, 'eval_runtime': 90.1777, 'eval_samples_per_second': 44.035, 'eval_steps_per_second': 5.511, 'epoch': 2.64}\n",
      "{'loss': 1.0369, 'learning_rate': 1.8151038632401696e-06, 'epoch': 2.77}\n",
      "{'eval_loss': 1.314298391342163, 'eval_f1': 0.3195483160083342, 'eval_runtime': 90.1777, 'eval_samples_per_second': 44.035, 'eval_steps_per_second': 5.511, 'epoch': 2.77}\n",
      "{'loss': 1.0234, 'learning_rate': 8.210710794284665e-07, 'epoch': 2.9}\n",
      "{'eval_loss': 1.3226419687271118, 'eval_f1': 0.32673015763061963, 'eval_runtime': 90.1594, 'eval_samples_per_second': 44.044, 'eval_steps_per_second': 5.512, 'epoch': 2.9}\n"
     ]
    },
    {
     "name": "stderr",
     "output_type": "stream",
     "text": [
      "[I 2023-07-31 19:04:49,767] Trial 17 finished with value: 0.32673015763061963 and parameters: {'num_trial_epochs': 4, 'learning_rate': 2.3683825107097633e-05, 'batch_size': 29}. Best is trial 10 with value: 0.34473815452156187.\n"
     ]
    },
    {
     "name": "stdout",
     "output_type": "stream",
     "text": [
      "{'train_runtime': 5479.4467, 'train_samples_per_second': 8.695, 'train_steps_per_second': 2.174, 'train_loss': 1.285400913212588, 'epoch': 3.0}\n",
      "GPU on: True\n"
     ]
    },
    {
     "name": "stderr",
     "output_type": "stream",
     "text": [
      "C:\\ProgramData\\anaconda3\\lib\\site-packages\\transformers\\optimization.py:411: FutureWarning: This implementation of AdamW is deprecated and will be removed in a future version. Use the PyTorch implementation torch.optim.AdamW instead, or set `no_deprecation_warning=True` to disable this warning\n",
      "  warnings.warn(\n"
     ]
    },
    {
     "name": "stdout",
     "output_type": "stream",
     "text": [
      "{'loss': 1.5037, 'learning_rate': 2.9495672067010246e-05, 'epoch': 0.13}\n",
      "{'eval_loss': 1.5041500329971313, 'eval_f1': 0.06872727272727272, 'eval_runtime': 90.0667, 'eval_samples_per_second': 44.09, 'eval_steps_per_second': 5.518, 'epoch': 0.13}\n",
      "{'loss': 1.5065, 'learning_rate': 2.8203475796660196e-05, 'epoch': 0.25}\n",
      "{'eval_loss': 1.5224953889846802, 'eval_f1': 0.06900601416418324, 'eval_runtime': 90.0655, 'eval_samples_per_second': 44.09, 'eval_steps_per_second': 5.518, 'epoch': 0.25}\n",
      "{'loss': 1.5062, 'learning_rate': 2.6911279526310146e-05, 'epoch': 0.38}\n",
      "{'eval_loss': 1.4960912466049194, 'eval_f1': 0.06872727272727272, 'eval_runtime': 89.9543, 'eval_samples_per_second': 44.145, 'eval_steps_per_second': 5.525, 'epoch': 0.38}\n",
      "{'loss': 1.5034, 'learning_rate': 2.5619083255960096e-05, 'epoch': 0.5}\n",
      "{'eval_loss': 1.4507628679275513, 'eval_f1': 0.07189996746867458, 'eval_runtime': 89.9345, 'eval_samples_per_second': 44.154, 'eval_steps_per_second': 5.526, 'epoch': 0.5}\n",
      "{'loss': 1.4931, 'learning_rate': 2.4326886985610045e-05, 'epoch': 0.63}\n",
      "{'eval_loss': 1.4653444290161133, 'eval_f1': 0.06872727272727272, 'eval_runtime': 90.0274, 'eval_samples_per_second': 44.109, 'eval_steps_per_second': 5.521, 'epoch': 0.63}\n",
      "{'loss': 1.4808, 'learning_rate': 2.3034690715259995e-05, 'epoch': 0.76}\n",
      "{'eval_loss': 1.4495748281478882, 'eval_f1': 0.06994114179712556, 'eval_runtime': 89.965, 'eval_samples_per_second': 44.139, 'eval_steps_per_second': 5.524, 'epoch': 0.76}\n",
      "{'loss': 1.4479, 'learning_rate': 2.1742494444909945e-05, 'epoch': 0.88}\n",
      "{'eval_loss': 1.4350978136062622, 'eval_f1': 0.06902803594068685, 'eval_runtime': 90.219, 'eval_samples_per_second': 44.015, 'eval_steps_per_second': 5.509, 'epoch': 0.88}\n",
      "{'loss': 1.3841, 'learning_rate': 2.0450298174559895e-05, 'epoch': 1.01}\n",
      "{'eval_loss': 1.420414924621582, 'eval_f1': 0.10274760631859137, 'eval_runtime': 90.1037, 'eval_samples_per_second': 44.071, 'eval_steps_per_second': 5.516, 'epoch': 1.01}\n",
      "{'loss': 1.3975, 'learning_rate': 1.9158101904209845e-05, 'epoch': 1.13}\n",
      "{'eval_loss': 1.4315026998519897, 'eval_f1': 0.10401000107621113, 'eval_runtime': 90.0632, 'eval_samples_per_second': 44.091, 'eval_steps_per_second': 5.518, 'epoch': 1.13}\n",
      "{'loss': 1.3716, 'learning_rate': 1.7865905633859794e-05, 'epoch': 1.26}\n",
      "{'eval_loss': 1.4098068475723267, 'eval_f1': 0.09550403242108599, 'eval_runtime': 89.9592, 'eval_samples_per_second': 44.142, 'eval_steps_per_second': 5.525, 'epoch': 1.26}\n",
      "{'loss': 1.3406, 'learning_rate': 1.6573709363509744e-05, 'epoch': 1.39}\n"
     ]
    },
    {
     "name": "stderr",
     "output_type": "stream",
     "text": [
      "[I 2023-07-31 19:47:43,506] Trial 18 pruned. \n"
     ]
    },
    {
     "name": "stdout",
     "output_type": "stream",
     "text": [
      "{'eval_loss': 1.3669817447662354, 'eval_f1': 0.10490978714542301, 'eval_runtime': 89.9868, 'eval_samples_per_second': 44.129, 'eval_steps_per_second': 5.523, 'epoch': 1.39}\n",
      "GPU on: True\n"
     ]
    },
    {
     "name": "stderr",
     "output_type": "stream",
     "text": [
      "C:\\ProgramData\\anaconda3\\lib\\site-packages\\transformers\\optimization.py:411: FutureWarning: This implementation of AdamW is deprecated and will be removed in a future version. Use the PyTorch implementation torch.optim.AdamW instead, or set `no_deprecation_warning=True` to disable this warning\n",
      "  warnings.warn(\n"
     ]
    },
    {
     "name": "stdout",
     "output_type": "stream",
     "text": [
      "{'loss': 1.5078, 'learning_rate': 2.331459132463376e-05, 'epoch': 0.13}\n",
      "{'eval_loss': 1.5077029466629028, 'eval_f1': 0.06872727272727272, 'eval_runtime': 90.0361, 'eval_samples_per_second': 44.105, 'eval_steps_per_second': 5.52, 'epoch': 0.13}\n",
      "{'loss': 1.5042, 'learning_rate': 2.2293186289821102e-05, 'epoch': 0.25}\n",
      "{'eval_loss': 1.5261329412460327, 'eval_f1': 0.06872727272727272, 'eval_runtime': 89.9466, 'eval_samples_per_second': 44.148, 'eval_steps_per_second': 5.526, 'epoch': 0.25}\n",
      "{'loss': 1.4973, 'learning_rate': 2.1271781255008444e-05, 'epoch': 0.38}\n",
      "{'eval_loss': 1.4999911785125732, 'eval_f1': 0.06872727272727272, 'eval_runtime': 89.876, 'eval_samples_per_second': 44.183, 'eval_steps_per_second': 5.53, 'epoch': 0.38}\n",
      "{'loss': 1.4925, 'learning_rate': 2.0250376220195786e-05, 'epoch': 0.5}\n",
      "{'eval_loss': 1.4469274282455444, 'eval_f1': 0.06872727272727272, 'eval_runtime': 89.9464, 'eval_samples_per_second': 44.149, 'eval_steps_per_second': 5.526, 'epoch': 0.5}\n",
      "{'loss': 1.493, 'learning_rate': 1.9228971185383124e-05, 'epoch': 0.63}\n",
      "{'eval_loss': 1.4480568170547485, 'eval_f1': 0.06900601416418324, 'eval_runtime': 89.8908, 'eval_samples_per_second': 44.176, 'eval_steps_per_second': 5.529, 'epoch': 0.63}\n",
      "{'loss': 1.4557, 'learning_rate': 1.8207566150570466e-05, 'epoch': 0.76}\n",
      "{'eval_loss': 1.4103013277053833, 'eval_f1': 0.0770690971559458, 'eval_runtime': 89.8789, 'eval_samples_per_second': 44.182, 'eval_steps_per_second': 5.53, 'epoch': 0.76}\n",
      "{'loss': 1.4347, 'learning_rate': 1.7186161115757804e-05, 'epoch': 0.88}\n",
      "{'eval_loss': 1.4154579639434814, 'eval_f1': 0.06872727272727272, 'eval_runtime': 89.7329, 'eval_samples_per_second': 44.254, 'eval_steps_per_second': 5.539, 'epoch': 0.88}\n",
      "{'loss': 1.3676, 'learning_rate': 1.6164756080945146e-05, 'epoch': 1.01}\n",
      "{'eval_loss': 1.3975329399108887, 'eval_f1': 0.13425158112194713, 'eval_runtime': 89.9664, 'eval_samples_per_second': 44.139, 'eval_steps_per_second': 5.524, 'epoch': 1.01}\n",
      "{'loss': 1.3647, 'learning_rate': 1.5143351046132486e-05, 'epoch': 1.13}\n",
      "{'eval_loss': 1.3917114734649658, 'eval_f1': 0.13835967656390918, 'eval_runtime': 89.8463, 'eval_samples_per_second': 44.198, 'eval_steps_per_second': 5.532, 'epoch': 1.13}\n",
      "{'loss': 1.317, 'learning_rate': 1.4121946011319828e-05, 'epoch': 1.26}\n",
      "{'eval_loss': 1.4289164543151855, 'eval_f1': 0.16017618042024276, 'eval_runtime': 89.9009, 'eval_samples_per_second': 44.171, 'eval_steps_per_second': 5.528, 'epoch': 1.26}\n",
      "{'loss': 1.3018, 'learning_rate': 1.3100540976507168e-05, 'epoch': 1.39}\n",
      "{'eval_loss': 1.3275455236434937, 'eval_f1': 0.17439195847197056, 'eval_runtime': 89.7507, 'eval_samples_per_second': 44.245, 'eval_steps_per_second': 5.538, 'epoch': 1.39}\n",
      "{'loss': 1.3211, 'learning_rate': 1.207913594169451e-05, 'epoch': 1.51}\n",
      "{'eval_loss': 1.351881504058838, 'eval_f1': 0.18046070357268146, 'eval_runtime': 89.7366, 'eval_samples_per_second': 44.252, 'eval_steps_per_second': 5.538, 'epoch': 1.51}\n",
      "{'loss': 1.338, 'learning_rate': 1.105773090688185e-05, 'epoch': 1.64}\n",
      "{'eval_loss': 1.3189553022384644, 'eval_f1': 0.19496955416417056, 'eval_runtime': 89.7127, 'eval_samples_per_second': 44.263, 'eval_steps_per_second': 5.54, 'epoch': 1.64}\n",
      "{'loss': 1.3014, 'learning_rate': 1.003632587206919e-05, 'epoch': 1.76}\n",
      "{'eval_loss': 1.2990294694900513, 'eval_f1': 0.22631971188164873, 'eval_runtime': 89.6224, 'eval_samples_per_second': 44.308, 'eval_steps_per_second': 5.545, 'epoch': 1.76}\n",
      "{'loss': 1.2855, 'learning_rate': 9.01492083725653e-06, 'epoch': 1.89}\n",
      "{'eval_loss': 1.2879135608673096, 'eval_f1': 0.23190947410658108, 'eval_runtime': 89.6417, 'eval_samples_per_second': 44.299, 'eval_steps_per_second': 5.544, 'epoch': 1.89}\n",
      "{'loss': 1.2288, 'learning_rate': 7.99351580244387e-06, 'epoch': 2.01}\n",
      "{'eval_loss': 1.276135802268982, 'eval_f1': 0.2431660297229974, 'eval_runtime': 89.6872, 'eval_samples_per_second': 44.276, 'eval_steps_per_second': 5.541, 'epoch': 2.01}\n",
      "{'loss': 1.0824, 'learning_rate': 6.972110767631212e-06, 'epoch': 2.14}\n",
      "{'eval_loss': 1.3001540899276733, 'eval_f1': 0.2744802636712021, 'eval_runtime': 89.4898, 'eval_samples_per_second': 44.374, 'eval_steps_per_second': 5.554, 'epoch': 2.14}\n",
      "{'loss': 1.1147, 'learning_rate': 5.950705732818554e-06, 'epoch': 2.27}\n",
      "{'eval_loss': 1.3027150630950928, 'eval_f1': 0.31342237736250533, 'eval_runtime': 89.4223, 'eval_samples_per_second': 44.407, 'eval_steps_per_second': 5.558, 'epoch': 2.27}\n",
      "{'loss': 1.0759, 'learning_rate': 4.929300698005895e-06, 'epoch': 2.39}\n",
      "{'eval_loss': 1.3063238859176636, 'eval_f1': 0.30041672353101356, 'eval_runtime': 89.3825, 'eval_samples_per_second': 44.427, 'eval_steps_per_second': 5.56, 'epoch': 2.39}\n",
      "{'loss': 1.0544, 'learning_rate': 3.907895663193235e-06, 'epoch': 2.52}\n",
      "{'eval_loss': 1.291914701461792, 'eval_f1': 0.32158875688445554, 'eval_runtime': 89.5238, 'eval_samples_per_second': 44.357, 'eval_steps_per_second': 5.552, 'epoch': 2.52}\n",
      "{'loss': 1.0368, 'learning_rate': 2.8864906283805754e-06, 'epoch': 2.64}\n",
      "{'eval_loss': 1.3011035919189453, 'eval_f1': 0.3257005726060612, 'eval_runtime': 89.3947, 'eval_samples_per_second': 44.421, 'eval_steps_per_second': 5.56, 'epoch': 2.64}\n",
      "{'loss': 1.0385, 'learning_rate': 1.865085593567916e-06, 'epoch': 2.77}\n",
      "{'eval_loss': 1.3191899061203003, 'eval_f1': 0.31686416430058717, 'eval_runtime': 89.3891, 'eval_samples_per_second': 44.424, 'eval_steps_per_second': 5.56, 'epoch': 2.77}\n",
      "{'loss': 1.0532, 'learning_rate': 8.436805587552566e-07, 'epoch': 2.9}\n",
      "{'eval_loss': 1.2948813438415527, 'eval_f1': 0.34022518960107934, 'eval_runtime': 89.3891, 'eval_samples_per_second': 44.424, 'eval_steps_per_second': 5.56, 'epoch': 2.9}\n"
     ]
    },
    {
     "name": "stderr",
     "output_type": "stream",
     "text": [
      "[I 2023-07-31 21:19:02,795] Trial 19 finished with value: 0.34022518960107934 and parameters: {'num_trial_epochs': 3, 'learning_rate': 2.433599635944642e-05, 'batch_size': 29}. Best is trial 10 with value: 0.34473815452156187.\n"
     ]
    },
    {
     "name": "stdout",
     "output_type": "stream",
     "text": [
      "{'train_runtime': 5477.5037, 'train_samples_per_second': 8.698, 'train_steps_per_second': 2.175, 'train_loss': 1.28194749816623, 'epoch': 3.0}\n",
      "BestRun(run_id='10', objective=0.34473815452156187, hyperparameters={'num_trial_epochs': 3, 'learning_rate': 2.2303462863679452e-05, 'batch_size': 27}, run_summary=None)\n"
     ]
    }
   ],
   "source": [
    "# model selection(optimizing) with optuna\n",
    "def model_init():\n",
    "    labels_list = df_train_temp[\"label\"].unique().tolist()\n",
    "    model_ckpt= 'nlpaueb/bert-base-uncased-eurlex'\n",
    "    device = torch.device(\"cuda\" if torch.cuda.is_available() else \"cpu\")\n",
    "    print(f'GPU on: {torch.cuda.is_available()}')\n",
    "    return (BertForSequenceClassification.from_pretrained(model_ckpt, num_labels = len(labels_list)).to(device))\n",
    "\n",
    "def compute_metrics(pred):\n",
    "    labels = pred.label_ids\n",
    "    preds = pred.predictions.argmax(-1)\n",
    "    f1 = f1_score(labels, preds, average=\"macro\")\n",
    "    return {\"f1\": f1}\n",
    "\n",
    "#model\n",
    "def legal_bert_textclf(train_data, valid_data):\n",
    "    \n",
    "    #default arguments for training\n",
    "    default_args = {\n",
    "        \"output_dir\": \"tmp\",\n",
    "        \"evaluation_strategy\": \"steps\",\n",
    "        \"log_level\": \"error\",\n",
    "        \"report_to\": \"none\",\n",
    "    }\n",
    "    \n",
    "    # Transformer settings\n",
    "    \n",
    "    model_ckpt= 'nlpaueb/bert-base-uncased-eurlex'\n",
    "    \n",
    "    # Get the number of unique labels, pretrained model anf device\n",
    "    labels_list = df_train_temp[\"label\"].unique().tolist()\n",
    "    \n",
    "    # Loading model and tokenaizer\n",
    "    tokenizer = BertTokenizer.from_pretrained(model_ckpt)\n",
    "    model = model_init() \n",
    "    \n",
    "    #tokenizing samples\n",
    "    def tokenization(sample):\n",
    "        # Obtain unique label\n",
    "        \n",
    "        #tokenize text\n",
    "        tokenized_sample = tokenizer(sample['text'], padding=True, truncation=True, max_length=512)\n",
    "        \n",
    "        #encode label\n",
    "        labels = ClassLabel(names=labels_list)\n",
    "        tokenized_sample[\"label\"] = labels.str2int(sample['label'])\n",
    "        return tokenized_sample\n",
    "    \n",
    "    \n",
    "    train_token = train_data.map(tokenization, batched=True)\n",
    "    eval_token  = valid_data.map(tokenization, batched= True)\n",
    "     # Training\n",
    "    logging.set_verbosity_error()\n",
    "\n",
    "    training_args = TrainingArguments(per_device_train_batch_size=4, **default_args)\n",
    "    trainer = Trainer(model_init=model_init, args=training_args, train_dataset=train_token, eval_dataset=eval_token, compute_metrics=compute_metrics)\n",
    "    \n",
    "    return model, trainer\n",
    "\n",
    "model, trainer = legal_bert_textclf(train, valid)\n",
    "\n",
    "#hiperparam search\n",
    "def hp_space(trial):\n",
    "    return {\"num_trial_epochs\": trial.suggest_int(\"num_trial_epochs\", 3, 4),\n",
    "            \"learning_rate\":trial.suggest_float(\"learning_rate\", 0.00002, 0.00005),\n",
    "            \"batch_size\": trial.suggest_int(\"batch_size\", 16, 32)}\n",
    "\n",
    "#optimizazion\n",
    "best_run = trainer.hyperparameter_search(n_trials=20, direction=\"maximize\", hp_space=hp_space)\n",
    "print(best_run)\n",
    "\n",
    "# BestRun(run_id='10', objective=0.34473815452156187,\n",
    "#  hyperparameters={'num_trial_epochs': 3, 'learning_rate': 2.2303462863679452e-05, 'batch_size': 27}, run_summary=None)"
   ]
  },
  {
   "cell_type": "code",
   "execution_count": 29,
   "id": "d8f57b57",
   "metadata": {},
   "outputs": [],
   "source": [
    "def longer_tokenization_predict(tokenizer, sample):\n",
    "    #print(torch.cuda.memory_summary(device=None, abbreviated=False))\n",
    "    tokens = tokenizer.encode_plus(sample['text'], add_special_tokens=False)\n",
    "    \n",
    "    input_ids = tokens['input_ids']\n",
    "    attention_mask = tokens['attention_mask']\n",
    "\n",
    "    # initialize probabilities list\n",
    "    probs_list = []\n",
    "\n",
    "    start = 0\n",
    "    window_size = 510  # we take 2 off here so that we can fit in our [CLS] and [SEP] tokens\n",
    "    total_len = len(input_ids)\n",
    "    \n",
    "    loop = True\n",
    "\n",
    "    while loop:\n",
    "        end = start + window_size\n",
    "        if end >= total_len:\n",
    "            loop = False\n",
    "            end = total_len\n",
    "        # (1) extract window from input_ids and attention_mask\n",
    "        input_ids_chunk = input_ids[start:end]\n",
    "        attention_mask_chunk = attention_mask[start:end]\n",
    "        # (2) add [CLS] and [SEP]\n",
    "        input_ids_chunk = [101] + input_ids_chunk + [102]\n",
    "        attention_mask_chunk = [1] + attention_mask_chunk + [1]\n",
    "        # (3) add padding upto window_size + 2 (512) tokens\n",
    "        input_ids_chunk += [0] * (window_size - len(input_ids_chunk) + 2)\n",
    "        attention_mask_chunk += [0] * (window_size - len(attention_mask_chunk) + 2)\n",
    "        # (4) format into PyTorch tensors dictionary\n",
    "        input_dict = {\n",
    "            'input_ids': torch.Tensor([input_ids_chunk]).to(device).long(),\n",
    "            'attention_mask': torch.Tensor([attention_mask_chunk]).to(device).int()\n",
    "        }\n",
    "        # (5) make logits prediction\n",
    "        outputs = model(**input_dict)\n",
    "        # (6) calculate softmax and append to list\n",
    "        probs = torch.nn.functional.softmax(outputs[0], dim=-1)\n",
    "        probs_list.append(probs)\n",
    "\n",
    "        start = end\n",
    "    \n",
    "    #averaging over all input chuncks predictions\n",
    "    with torch.no_grad():\n",
    "        # we must include our stacks operation in here too\n",
    "        stacks = torch.stack(probs_list).to(device)\n",
    "        # now resize\n",
    "        stacks = stacks.resize_(stacks.shape[0], stacks.shape[2]).to(device)\n",
    "        # finally, we can calculate the mean value for each sentiment class\n",
    "        mean = stacks.mean(dim=0)\n",
    "    \n",
    "    #winner class\n",
    "    return {\"prediction\" : torch.argmax(mean).item()}\n"
   ]
  },
  {
   "cell_type": "code",
   "execution_count": 31,
   "id": "b96edee7",
   "metadata": {
    "scrolled": true
   },
   "outputs": [
    {
     "name": "stdout",
     "output_type": "stream",
     "text": [
      "GPU on: True\n"
     ]
    },
    {
     "data": {
      "application/vnd.jupyter.widget-view+json": {
       "model_id": "",
       "version_major": 2,
       "version_minor": 0
      },
      "text/plain": [
       "Map:   0%|          | 0/4956 [00:00<?, ? examples/s]"
      ]
     },
     "metadata": {},
     "output_type": "display_data"
    },
    {
     "name": "stdout",
     "output_type": "stream",
     "text": [
      "Execution Time: 18957.255979776382 seconds\n"
     ]
    }
   ],
   "source": [
    "# loading saved model and infer\n",
    "\n",
    "# Record the start time\n",
    "start_time = time.time()\n",
    "\n",
    "# Call your function\n",
    "\n",
    "#label and trasformer path\n",
    "labels_list = df_train_temp[\"label\"].unique().tolist()\n",
    "transformer_path = \"./models/nlpaueb_bert-base-uncased-eurlex/\"\n",
    "\n",
    "# Transformer settings\n",
    "device = torch.device(\"cpu\")  #device = torch.device(\"cuda\" if torch.cuda.is_available() else \"cpu\")\n",
    "print(f'GPU on: {torch.cuda.is_available()}')\n",
    "model_ckpt= 'nlpaueb/bert-base-uncased-eurlex'\n",
    "\n",
    "#Loading model and tokenizer\n",
    "tokenizer = BertTokenizer.from_pretrained(model_ckpt)\n",
    "model = BertForSequenceClassification.from_pretrained(transformer_path, num_labels = len(labels_list)).to(device)\n",
    "\n",
    "prediction = test_dataset.map(lambda sample: longer_tokenization_predict(tokenizer, sample), batched=False)\n",
    "\n",
    "# Record the end time\n",
    "end_time = time.time()\n",
    "\n",
    "# Calculate the execution time\n",
    "execution_time = end_time - start_time\n",
    "\n",
    "#file_path\n",
    "file = model_ckpt.replace(\"/\", \"_\")\n",
    "\n",
    "file_path = f'./models/{file}_predict.txt'  # Replace with the path to your desired file\n",
    "with open(file_path, 'w') as file:\n",
    "    # Write data to the file\n",
    "    file.write(f\"{file:}\\n\")\n",
    "    file.write(f\"Execution Time: {execution_time} seconds\\n\")\n",
    "    file.write(f\"List of all Labels: {labels_list}\\n\")\n",
    "\n",
    "print(\"Execution Time:\", execution_time, \"seconds\")\n",
    "\n"
   ]
  },
  {
   "cell_type": "code",
   "execution_count": 44,
   "id": "ee5cc36d",
   "metadata": {},
   "outputs": [
    {
     "data": {
      "image/png": "[encoded data removed]",
      "text/plain": [
       "<Figure size 600x600 with 1 Axes>"
      ]
     },
     "metadata": {},
     "output_type": "display_data"
    }
   ],
   "source": [
    "from sklearn.metrics import ConfusionMatrixDisplay, confusion_matrix\n",
    "\n",
    "def plot_confusion_matrix(y_pred, y_true, labels_list):\n",
    "    cm = confusion_matrix(y_true, y_pred, normalize= \"true\")\n",
    "    fig, ax = plt.subplots(figsize=(6,6))\n",
    "    disp = ConfusionMatrixDisplay(confusion_matrix=cm, display_labels = labels_list)\n",
    "    disp.plot(cmap=\"Blues\", values_format=\".2f\", ax=ax, colorbar= False)\n",
    "    plt.title(\"Normalized confusion Matrix\")\n",
    "    plt.show()\n",
    "\n",
    "labels = ClassLabel(names=labels_list)\n",
    "y_true = labels.str2int(prediction['label'])\n",
    "plot_confusion_matrix(prediction[\"prediction\"], y_true, labels_list)\n"
   ]
  }
 ],
 "metadata": {
  "kernelspec": {
   "display_name": "Python 3 (ipykernel)",
   "language": "python",
   "name": "python3"
  },
  "language_info": {
   "codemirror_mode": {
    "name": "ipython",
    "version": 3
   },
   "file_extension": ".py",
   "mimetype": "text/x-python",
   "name": "python",
   "nbconvert_exporter": "python",
   "pygments_lexer": "ipython3",
   "version": "3.10.9"
  }
 },
 "nbformat": 4,
 "nbformat_minor": 5
}
