{
 "cells": [
  {
   "cell_type": "code",
   "execution_count": 1,
   "id": "d8569bca",
   "metadata": {},
   "outputs": [
    {
     "name": "stdout",
     "output_type": "stream",
     "text": [
      "<class 'pandas.core.frame.DataFrame'>\n",
      "RangeIndex: 24985 entries, 0 to 24984\n",
      "Data columns (total 4 columns):\n",
      " #   Column        Non-Null Count  Dtype \n",
      "---  ------        --------------  ----- \n",
      " 0   case_id       24985 non-null  object\n",
      " 1   case_outcome  24985 non-null  object\n",
      " 2   case_title    24985 non-null  object\n",
      " 3   case_text     24809 non-null  object\n",
      "dtypes: object(4)\n",
      "memory usage: 780.9+ KB\n"
     ]
    }
   ],
   "source": [
    "import pandas as pd\n",
    "\n",
    "#Loading Dataset\n",
    "df = pd.read_csv(\"./datasets/legal_text_classification.csv\")\n",
    "df.info()"
   ]
  },
  {
   "cell_type": "code",
   "execution_count": 2,
   "id": "cd22074a",
   "metadata": {},
   "outputs": [
    {
     "name": "stderr",
     "output_type": "stream",
     "text": [
      "Token indices sequence length is longer than the specified maximum sequence length for this model (660 > 512). Running this sequence through the model will result in indexing errors\n"
     ]
    },
    {
     "data": {
      "image/png": "[encoded data removed]",
      "text/plain": [
       "<Figure size 1000x500 with 1 Axes>"
      ]
     },
     "metadata": {},
     "output_type": "display_data"
    }
   ],
   "source": [
    "import matplotlib.pyplot as plt\n",
    "import pandas as pd\n",
    "from datasets import load_dataset\n",
    "from tqdm import tqdm\n",
    "import torch\n",
    "from transformers import AutoModelForSeq2SeqLM, AutoTokenizer\n",
    "\n",
    "# base model\n",
    "device = \"cuda\" if torch.cuda.is_available() else \"cpu\"\n",
    "\n",
    "model_ckpt = \"nlpaueb/legal-bert-small-uncased\"\n",
    "tokenizer = AutoTokenizer.from_pretrained(model_ckpt)  \n",
    "\n",
    "# plotting sentences lenghth distribution (in terms of token)\n",
    "d_len = [len(tokenizer.encode(str(s))) for s in df[\"case_text\"]]\n",
    "\n",
    "fig, axes = plt.subplots( figsize=(10, 5), sharey=True)\n",
    "axes.hist(d_len, bins=20, color=\"C0\", edgecolor=\"C0\")\n",
    "axes.set_title(\"Dialogue Token Length\")\n",
    "axes.set_xlabel(\"Length\")\n",
    "axes.set_ylabel(\"Count\")\n",
    "plt.tight_layout()\n",
    "plt.show()"
   ]
  },
  {
   "cell_type": "code",
   "execution_count": 3,
   "id": "65589183",
   "metadata": {},
   "outputs": [],
   "source": [
    "from datasets import Dataset, DatasetDict\n",
    "\n",
    "def preprocess_data(df):\n",
    "    \n",
    "    #adding token_lenght column\n",
    "    df[\"lb_num_token\"] = d_len\n",
    "    \n",
    "    #Dropping Nan values\n",
    "    df = df.dropna(subset=['case_text'])\n",
    "\n",
    "    # Dropping unused features and renaming columns\n",
    "    df = df.drop(columns =['case_id', 'case_title'])\n",
    "    df.rename(columns={\"case_text\":\"text\", \"case_outcome\":\"label\"}, inplace= True)\n",
    "\n",
    "    # Get the number of unique labels\n",
    "    labels_list = df[\"label\"].unique().tolist()\n",
    "    \n",
    "    # Splitting Dataset\n",
    "    df = Dataset.from_pandas(df)\n",
    "    df = df.map(lambda example: {'text': str(example['text'])})\n",
    "    train_valid = df.train_test_split(test_size= 0.2, seed= 42)\n",
    "    valid_test  = train_valid[\"test\"].train_test_split(test_size= 0.5, seed= 42)\n",
    "    \n",
    "    df_split = DatasetDict({\n",
    "    'train': train_valid['train'],\n",
    "    'valid': valid_test['train'],\n",
    "    'test': valid_test['test']\n",
    "    })\n",
    "    \n",
    "    return df_split, labels_list"
   ]
  },
  {
   "cell_type": "code",
   "execution_count": 4,
   "id": "f4ab1050",
   "metadata": {},
   "outputs": [
    {
     "data": {
      "application/vnd.jupyter.widget-view+json": {
       "model_id": "",
       "version_major": 2,
       "version_minor": 0
      },
      "text/plain": [
       "Map:   0%|          | 0/24809 [00:00<?, ? examples/s]"
      ]
     },
     "metadata": {},
     "output_type": "display_data"
    }
   ],
   "source": [
    "#splitting in training and test set\n",
    "from datasets import Dataset, ClassLabel\n",
    "\n",
    "# preprocessing dataset\n",
    "df, labels_list = preprocess_data(df)\n",
    "\n",
    "train = df[\"train\"]\n",
    "valid = df[\"valid\"]\n",
    "test  = df[\"test\"]"
   ]
  },
  {
   "cell_type": "code",
   "execution_count": 5,
   "id": "2ac39386",
   "metadata": {},
   "outputs": [],
   "source": [
    "import time\n",
    "from transformers import AutoModel, AutoTokenizer, AutoModelForSeq2SeqLM\n",
    "import torch\n",
    "from transformers import TrainingArguments, Trainer, logging\n",
    "from accelerate import Accelerator\n",
    "from sklearn.metrics import f1_score"
   ]
  },
  {
   "cell_type": "code",
   "execution_count": null,
   "id": "87de33fe",
   "metadata": {},
   "outputs": [
    {
     "name": "stdout",
     "output_type": "stream",
     "text": [
      "Dataset({\n",
      "    features: ['label', 'text', 'lb_num_token', '__index_level_0__'],\n",
      "    num_rows: 19847\n",
      "})\n"
     ]
    },
    {
     "data": {
      "application/vnd.jupyter.widget-view+json": {
       "model_id": "",
       "version_major": 2,
       "version_minor": 0
      },
      "text/plain": [
       "Filter:   0%|          | 0/19847 [00:00<?, ? examples/s]"
      ]
     },
     "metadata": {},
     "output_type": "display_data"
    },
    {
     "data": {
      "application/vnd.jupyter.widget-view+json": {
       "model_id": "",
       "version_major": 2,
       "version_minor": 0
      },
      "text/plain": [
       "Filter:   0%|          | 0/19847 [00:00<?, ? examples/s]"
      ]
     },
     "metadata": {},
     "output_type": "display_data"
    },
    {
     "data": {
      "application/vnd.jupyter.widget-view+json": {
       "model_id": "5d1f640d092e4942a228f6b127b669d7",
       "version_major": 2,
       "version_minor": 0
      },
      "text/plain": [
       "Map:   0%|          | 0/5570 [00:00<?, ? examples/s]"
      ]
     },
     "metadata": {},
     "output_type": "display_data"
    },
    {
     "name": "stderr",
     "output_type": "stream",
     "text": [
      "Token indices sequence length is longer than the specified maximum sequence length for this model (1561 > 1024). Running this sequence through the model will result in indexing errors\n"
     ]
    }
   ],
   "source": [
    "def summarize_pegasus_long(tokenizer, model_sum, sample):\n",
    "    summary = \"\"\n",
    "    \n",
    "    # summary token lenght condition\n",
    "    d_len = len(tokenizer.encode(sample))\n",
    "    \n",
    "    if(d_len > 1024):\n",
    "    \n",
    "    # Summaries of long documents\n",
    "        start = 0\n",
    "        window_size = 1024\n",
    "        total_len = d_len\n",
    "        loop = True\n",
    "    \n",
    "        while loop:\n",
    "            end = start + window_size\n",
    "            if end >= total_len:\n",
    "                loop = False\n",
    "                end = total_len\n",
    "                \n",
    "            # (1) extract window from sample and tokenize it\n",
    "            input_chuck_tokenizer = tokenizer.encode(sample[start:end+1], return_tensors='pt',max_length=1024,truncation=True).to(device)    \n",
    "            # (2) summarize chunk\n",
    "            with torch.no_grad():\n",
    "                summary_chunck = model_sum.generate(input_chuck_tokenizer,\n",
    "                                      num_beams=9,\n",
    "                                      no_repeat_ngram_size=3,\n",
    "                                      length_penalty=2.0,\n",
    "                                      min_length=50,\n",
    "                                      max_length=100,\n",
    "                                      early_stopping=True)\n",
    "                \n",
    "            # (3) concatenate summaries\n",
    "            summary = summary + \"\\n\" + [tokenizer.decode(g, skip_special_tokens=True, clean_up_tokenization_spaces=False) for g in summary_chunck][0]       \n",
    "            start = end\n",
    "    else:\n",
    "        # single summary\n",
    "        input_tokenized = tokenizer.encode(sample, return_tensors='pt',max_length=1024,truncation=True).to(device)    \n",
    "        with torch.no_grad():\n",
    "            summary_ids = model_sum.generate(input_tokenized,\n",
    "                                          num_beams=9,\n",
    "                                          no_repeat_ngram_size=3,\n",
    "                                          length_penalty=2.0,\n",
    "                                          min_length=150,\n",
    "                                          max_length=400,\n",
    "                                          early_stopping=True)\n",
    "        \n",
    "        summary = [tokenizer.decode(g, skip_special_tokens=True, clean_up_tokenization_spaces=False) for g in summary_ids][0]\n",
    "    return {\"text\" : summary }\n",
    "\n",
    "def summarizing_samples(df):\n",
    "    print(df)\n",
    "    model_ckpt_sum = \"nsi319/legal-pegasus\"\n",
    "    tokenizer_sum = AutoTokenizer.from_pretrained(model_ckpt_sum)\n",
    "    model_sum = AutoModelForSeq2SeqLM.from_pretrained(model_ckpt_sum).to(device)\n",
    "    \n",
    "    df_long = df.filter(lambda example: example[\"lb_num_token\"] > 512)\n",
    "    df_short= df.filter(lambda example: example[\"lb_num_token\"] <= 512)\n",
    "\n",
    "    df_long = df_long.map(lambda example: summarize_pegasus_long(tokenizer_sum, model_sum, example[\"text\"]), batched = False)\n",
    "                                                                                          \n",
    "    df = concatenate_datasets([df_long, df_short])\n",
    "    print(df)\n",
    "    return df\n",
    "\n",
    "# Record the start time\n",
    "start_time = time.time()\n",
    "\n",
    "# Summarize trasformer model\n",
    "device = \"cuda\" if torch.cuda.is_available() else \"cpu\"\n",
    "\n",
    "# Call your function\n",
    "train = summarizing_samples(train)\n",
    "valid = summarizing_samples(valid)\n",
    "test = summarizing_samples(test)\n",
    "\n",
    "# Record the end time\n",
    "end_time = time.time()\n",
    "\n",
    "# Execution time in Minutes\n",
    "execution_time = (end_time - start_time)/60\n",
    "print(\"Execution Time:\", execution_time, \"minutes\")"
   ]
  },
  {
   "cell_type": "code",
   "execution_count": null,
   "id": "977d47ed",
   "metadata": {},
   "outputs": [],
   "source": [
    "def compute_metrics(pred):\n",
    "    labels = pred.label_ids\n",
    "    preds = pred.predictions.argmax(-1)\n",
    "    f1 = f1_score(labels, preds, average=\"macro\")\n",
    "    return {\"f1\": f1}\n",
    "\n",
    "def legalbert_last_hiddenstate_fe(data, tokenizer_sum , label_list):\n",
    "    \n",
    "    if str(type(data)) ==  \"<class 'dict'>\":\n",
    "        data = Dataset.from_dict(data)\n",
    "        print(data)\n",
    "        \n",
    "    # Transformer settings\n",
    "    device = torch.device(\"cuda\" if torch.cuda.is_available() else \"cpu\")\n",
    "    print(f'GPU on: {torch.cuda.is_available()}')\n",
    "    model_ckpt= 'nlpaueb/legal-bert-small-uncased'\n",
    "    #trained_model = './tmp/run-10/checkpoint-11500'\n",
    "    \n",
    "    # Loading model and tokenaizer\n",
    "    tokenizer = AutoTokenizer.from_pretrained(model_ckpt)\n",
    "    model = AutoModel.from_pretrained(model_ckpt, num_labels = len(labels_list)).to(device)\n",
    "    \n",
    "    print(\"GPU memory allocated before tokenization\", torch.cuda.memory_allocated()/(1024**3))\n",
    "    \n",
    "\n",
    "    \n",
    "    #tokenizing samples\n",
    "    def tokenization(batch):\n",
    "        #tokenize text\n",
    "        tokenized_sample = tokenizer(batch[\"text\"][i], padding=True, truncation=True, max_length=512, return_tensors= \"pt\").to(device)\n",
    "        \n",
    "        #encode label\n",
    "        labels = ClassLabel(names=labels_list)\n",
    "        tokenized_sample[\"label\"] = labels.str2int(batch[\"label\"])\n",
    "        \n",
    "        return tokenized_sample\n",
    "    \n",
    "    \n",
    "    data_token = data.map(tokenization, batched=True, batch_size = 5)\n",
    "    print(\"Done tokenization\")\n",
    "    print(\"GPU memory allocated after tokenization\", torch.cuda.memory_allocated()/(1024**3))\n",
    "    torch.cuda.empty_cache()\n",
    "    \n",
    "    \n",
    "    #mapping inputs\n",
    "    def extract_hidden_state(batch, device = \"cpu\"):\n",
    "        model.to(\"cpu\")\n",
    "        inputs = {k:v.to(device) for k,v in batch.items() if k in tokenizer.model_input_names}\n",
    "    \n",
    "        # Retriving last hidden state\n",
    "        with torch.no_grad():\n",
    "            last_hidden_state = model(**inputs).last_hidden_state\n",
    "        \n",
    "        return {\"hidden_state\": last_hidden_state[:,0]}\n",
    "    \n",
    "    \n",
    "    data_token.set_format(\"torch\", columns=[\"input_ids\", \"attention_mask\", \"label\"])\n",
    "    \n",
    "    data_hidden = data_token.map(extract_hidden_state, batched = True)\n",
    "    \n",
    "    print(\"Done hidden state\")\n",
    "    \n",
    "    return data_hidden"
   ]
  },
  {
   "cell_type": "code",
   "execution_count": null,
   "id": "e1e09055",
   "metadata": {},
   "outputs": [],
   "source": [
    "# Record the start time\n",
    "start_time = time.time()\n",
    "\n",
    "# Summarize trasformer model\n",
    "device = \"cuda\" if torch.cuda.is_available() else \"cpu\"\n",
    "\n",
    "# Call your function\n",
    "train = legalbert_last_hiddenstate_fe(train, tokenizer_sum,labels_list)\n",
    "valid = legalbert_last_hiddenstate_fe(valid, tokenizer_sum, labels_list)\n",
    "test  = legalbert_last_hiddenstate_fe(test[0:5], tokenizer_sum, labels_list)\n",
    "\n",
    "# Record the end time\n",
    "end_time = time.time()\n",
    "\n",
    "# Execution time in Minutes\n",
    "execution_time = (end_time - start_time)/60\n",
    "print(\"Execution Time:\", execution_time, \"minutes\")"
   ]
  },
  {
   "cell_type": "code",
   "execution_count": null,
   "id": "7e3b4670",
   "metadata": {},
   "outputs": [],
   "source": [
    "import numpy as np\n",
    "\n",
    "#creating a features matrix\n",
    "x_train = np.array(train[\"hidden_state\"])\n",
    "x_valid = np.array(valid[\"hidden_state\"])\n",
    "x_test  = np.array(test[\"hidden_state\"])\n",
    "y_train = np.array(train[\"label\"])\n",
    "y_valid = np.array(valid[\"label\"])\n",
    "y_test = np.array(test[\"label\"])"
   ]
  },
  {
   "cell_type": "code",
   "execution_count": null,
   "id": "9090181d",
   "metadata": {},
   "outputs": [],
   "source": [
    "from sklearn.linear_model import LogisticRegression\n",
    "\n",
    "# training softmax regression\n",
    "clf = LogisticRegression(random_state=0, multi_class=\"multinomial\").fit(x_train, y_train)\n",
    "y_pred = clf.predict(x_valid)"
   ]
  },
  {
   "cell_type": "code",
   "execution_count": null,
   "id": "acdf4a74",
   "metadata": {},
   "outputs": [],
   "source": [
    "from sklearn.metrics import ConfusionMatrixDisplay, confusion_matrix\n",
    "import matplotlib.pyplot as plt\n",
    "\n",
    "#confusion matrix\n",
    "def plot_confusion_matrix(y_pred, y_true, labels_list):\n",
    "    cm = confusion_matrix(y_true, y_pred, normalize= \"true\")\n",
    "    fig, ax = plt.subplots(figsize=(11,11))\n",
    "    disp = ConfusionMatrixDisplay(confusion_matrix=cm, display_labels = labels_list)\n",
    "    disp.plot(cmap=\"Blues\", values_format=\".2f\", ax=ax, colorbar= False)\n",
    "    plt.title(\"Normalized confusion Matrix\")\n",
    "    plt.show()\n",
    "\n",
    "# Confusion Matrix plot\n",
    "plot_confusion_matrix(y_pred, y_valid, labels_list)"
   ]
  }
 ],
 "metadata": {
  "kernelspec": {
   "display_name": "Python 3 (ipykernel)",
   "language": "python",
   "name": "python3"
  },
  "language_info": {
   "codemirror_mode": {
    "name": "ipython",
    "version": 3
   },
   "file_extension": ".py",
   "mimetype": "text/x-python",
   "name": "python",
   "nbconvert_exporter": "python",
   "pygments_lexer": "ipython3",
   "version": "3.10.9"
  }
 },
 "nbformat": 4,
 "nbformat_minor": 5
}
